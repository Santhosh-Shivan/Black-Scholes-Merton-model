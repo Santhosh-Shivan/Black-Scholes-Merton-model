{
 "cells": [
  {
   "cell_type": "code",
   "execution_count": 1,
   "metadata": {},
   "outputs": [],
   "source": [
    "import numpy as np\n",
    "import pandas as pd\n",
    "import PyQt5\n",
    "import matplotlib.pyplot as plt\n",
    "import plotly.graph_objects as go"
   ]
  },
  {
   "cell_type": "code",
   "execution_count": 95,
   "metadata": {},
   "outputs": [],
   "source": [
    "df = pd.read_csv('./Historical data/NIFTY BANK_Data.csv')"
   ]
  },
  {
   "cell_type": "code",
   "execution_count": 96,
   "metadata": {},
   "outputs": [],
   "source": [
    "df.drop(['Unnamed: 5'], axis=1, inplace = True)"
   ]
  },
  {
   "cell_type": "code",
   "execution_count": 97,
   "metadata": {},
   "outputs": [
    {
     "data": {
      "text/html": [
       "<div>\n",
       "<style scoped>\n",
       "    .dataframe tbody tr th:only-of-type {\n",
       "        vertical-align: middle;\n",
       "    }\n",
       "\n",
       "    .dataframe tbody tr th {\n",
       "        vertical-align: top;\n",
       "    }\n",
       "\n",
       "    .dataframe thead th {\n",
       "        text-align: right;\n",
       "    }\n",
       "</style>\n",
       "<table border=\"1\" class=\"dataframe\">\n",
       "  <thead>\n",
       "    <tr style=\"text-align: right;\">\n",
       "      <th></th>\n",
       "      <th>Date</th>\n",
       "      <th>Open</th>\n",
       "      <th>High</th>\n",
       "      <th>Low</th>\n",
       "      <th>Close</th>\n",
       "      <th>OpenToHigh%</th>\n",
       "      <th>OpenToLow%</th>\n",
       "      <th>OpenToClose%</th>\n",
       "      <th>OpenToHigh</th>\n",
       "      <th>OpenToLow</th>\n",
       "      <th>OpenToClose</th>\n",
       "    </tr>\n",
       "  </thead>\n",
       "  <tbody>\n",
       "    <tr>\n",
       "      <th>0</th>\n",
       "      <td>29-Mar-23</td>\n",
       "      <td>39611.55</td>\n",
       "      <td>40055.0</td>\n",
       "      <td>39609.55</td>\n",
       "      <td>39910.15</td>\n",
       "      <td>1.119497</td>\n",
       "      <td>-0.005049</td>\n",
       "      <td>0.753821</td>\n",
       "      <td>443.45</td>\n",
       "      <td>-2.00</td>\n",
       "      <td>298.60</td>\n",
       "    </tr>\n",
       "    <tr>\n",
       "      <th>1</th>\n",
       "      <td>28-Mar-23</td>\n",
       "      <td>39545.05</td>\n",
       "      <td>39645.2</td>\n",
       "      <td>39326.10</td>\n",
       "      <td>39567.90</td>\n",
       "      <td>0.253255</td>\n",
       "      <td>-0.553672</td>\n",
       "      <td>0.057782</td>\n",
       "      <td>100.15</td>\n",
       "      <td>-218.95</td>\n",
       "      <td>22.85</td>\n",
       "    </tr>\n",
       "    <tr>\n",
       "      <th>2</th>\n",
       "      <td>27-Mar-23</td>\n",
       "      <td>39484.70</td>\n",
       "      <td>39695.2</td>\n",
       "      <td>39273.75</td>\n",
       "      <td>39431.30</td>\n",
       "      <td>0.533118</td>\n",
       "      <td>-0.534258</td>\n",
       "      <td>-0.135242</td>\n",
       "      <td>210.50</td>\n",
       "      <td>-210.95</td>\n",
       "      <td>-53.40</td>\n",
       "    </tr>\n",
       "    <tr>\n",
       "      <th>3</th>\n",
       "      <td>24-Mar-23</td>\n",
       "      <td>39555.25</td>\n",
       "      <td>39767.9</td>\n",
       "      <td>39294.90</td>\n",
       "      <td>39395.35</td>\n",
       "      <td>0.537602</td>\n",
       "      <td>-0.658193</td>\n",
       "      <td>-0.404245</td>\n",
       "      <td>212.65</td>\n",
       "      <td>-260.35</td>\n",
       "      <td>-159.90</td>\n",
       "    </tr>\n",
       "    <tr>\n",
       "      <th>4</th>\n",
       "      <td>23-Mar-23</td>\n",
       "      <td>39836.15</td>\n",
       "      <td>40201.6</td>\n",
       "      <td>39552.50</td>\n",
       "      <td>39616.90</td>\n",
       "      <td>0.917383</td>\n",
       "      <td>-0.712042</td>\n",
       "      <td>-0.550379</td>\n",
       "      <td>365.45</td>\n",
       "      <td>-283.65</td>\n",
       "      <td>-219.25</td>\n",
       "    </tr>\n",
       "  </tbody>\n",
       "</table>\n",
       "</div>"
      ],
      "text/plain": [
       "        Date      Open     High       Low     Close  OpenToHigh%  OpenToLow%  \\\n",
       "0  29-Mar-23  39611.55  40055.0  39609.55  39910.15     1.119497   -0.005049   \n",
       "1  28-Mar-23  39545.05  39645.2  39326.10  39567.90     0.253255   -0.553672   \n",
       "2  27-Mar-23  39484.70  39695.2  39273.75  39431.30     0.533118   -0.534258   \n",
       "3  24-Mar-23  39555.25  39767.9  39294.90  39395.35     0.537602   -0.658193   \n",
       "4  23-Mar-23  39836.15  40201.6  39552.50  39616.90     0.917383   -0.712042   \n",
       "\n",
       "   OpenToClose%  OpenToHigh  OpenToLow  OpenToClose  \n",
       "0      0.753821      443.45      -2.00       298.60  \n",
       "1      0.057782      100.15    -218.95        22.85  \n",
       "2     -0.135242      210.50    -210.95       -53.40  \n",
       "3     -0.404245      212.65    -260.35      -159.90  \n",
       "4     -0.550379      365.45    -283.65      -219.25  "
      ]
     },
     "execution_count": 97,
     "metadata": {},
     "output_type": "execute_result"
    }
   ],
   "source": [
    "df.head()"
   ]
  },
  {
   "cell_type": "code",
   "execution_count": 98,
   "metadata": {},
   "outputs": [],
   "source": [
    "Date_new = []\n",
    "dict = {\"Jan\": \"01\", \"Feb\": \"02\", \"Mar\": \"03\", \"Apr\": \"04\", \"May\": \"05\", \"Jun\": \"06\", \"Jul\": \"07\", \"Aug\": \"08\", \"Sep\":\"09\", \"Oct\": \"10\", \"Nov\": \"11\", \"Dec\": \"12\"}\n",
    "\n",
    "for date in df[\"Date\"]:\n",
    "    boop = date.split(\"-\")\n",
    "    boom = \"20\"+boop[2]+dict[boop[1]]+boop[0]\n",
    "    Date_new.append(boom)\n",
    "\n",
    "df[\"Date\"] = Date_new\n"
   ]
  },
  {
   "cell_type": "code",
   "execution_count": 99,
   "metadata": {},
   "outputs": [],
   "source": [
    "df['Date'] = pd.to_datetime(df['Date'], format='%Y%m%d')"
   ]
  },
  {
   "cell_type": "code",
   "execution_count": 100,
   "metadata": {},
   "outputs": [],
   "source": [
    "df.insert(1, \"Day\", df['Date'].dt.dayofweek, True)"
   ]
  },
  {
   "cell_type": "code",
   "execution_count": 101,
   "metadata": {},
   "outputs": [
    {
     "data": {
      "text/html": [
       "<div>\n",
       "<style scoped>\n",
       "    .dataframe tbody tr th:only-of-type {\n",
       "        vertical-align: middle;\n",
       "    }\n",
       "\n",
       "    .dataframe tbody tr th {\n",
       "        vertical-align: top;\n",
       "    }\n",
       "\n",
       "    .dataframe thead th {\n",
       "        text-align: right;\n",
       "    }\n",
       "</style>\n",
       "<table border=\"1\" class=\"dataframe\">\n",
       "  <thead>\n",
       "    <tr style=\"text-align: right;\">\n",
       "      <th></th>\n",
       "      <th>Date</th>\n",
       "      <th>Day</th>\n",
       "      <th>Open</th>\n",
       "      <th>High</th>\n",
       "      <th>Low</th>\n",
       "      <th>Close</th>\n",
       "      <th>OpenToHigh%</th>\n",
       "      <th>OpenToLow%</th>\n",
       "      <th>OpenToClose%</th>\n",
       "      <th>OpenToHigh</th>\n",
       "      <th>OpenToLow</th>\n",
       "      <th>OpenToClose</th>\n",
       "    </tr>\n",
       "  </thead>\n",
       "  <tbody>\n",
       "    <tr>\n",
       "      <th>61</th>\n",
       "      <td>2022-12-30</td>\n",
       "      <td>4</td>\n",
       "      <td>43401.70</td>\n",
       "      <td>43422.95</td>\n",
       "      <td>42833.10</td>\n",
       "      <td>42986.45</td>\n",
       "      <td>0.048961</td>\n",
       "      <td>-1.310087</td>\n",
       "      <td>-0.956760</td>\n",
       "      <td>21.25</td>\n",
       "      <td>-568.60</td>\n",
       "      <td>-415.25</td>\n",
       "    </tr>\n",
       "    <tr>\n",
       "      <th>62</th>\n",
       "      <td>2022-12-29</td>\n",
       "      <td>3</td>\n",
       "      <td>42684.90</td>\n",
       "      <td>43498.05</td>\n",
       "      <td>42489.80</td>\n",
       "      <td>43252.35</td>\n",
       "      <td>1.905006</td>\n",
       "      <td>-0.457070</td>\n",
       "      <td>1.329393</td>\n",
       "      <td>813.15</td>\n",
       "      <td>-195.10</td>\n",
       "      <td>567.45</td>\n",
       "    </tr>\n",
       "    <tr>\n",
       "      <th>63</th>\n",
       "      <td>2022-12-28</td>\n",
       "      <td>2</td>\n",
       "      <td>42733.60</td>\n",
       "      <td>43034.95</td>\n",
       "      <td>42694.85</td>\n",
       "      <td>42827.70</td>\n",
       "      <td>0.705183</td>\n",
       "      <td>-0.090678</td>\n",
       "      <td>0.220201</td>\n",
       "      <td>301.35</td>\n",
       "      <td>-38.75</td>\n",
       "      <td>94.10</td>\n",
       "    </tr>\n",
       "    <tr>\n",
       "      <th>64</th>\n",
       "      <td>2022-12-27</td>\n",
       "      <td>1</td>\n",
       "      <td>42827.75</td>\n",
       "      <td>42927.20</td>\n",
       "      <td>42394.15</td>\n",
       "      <td>42859.50</td>\n",
       "      <td>0.232209</td>\n",
       "      <td>-1.012428</td>\n",
       "      <td>0.074134</td>\n",
       "      <td>99.45</td>\n",
       "      <td>-433.60</td>\n",
       "      <td>31.75</td>\n",
       "    </tr>\n",
       "    <tr>\n",
       "      <th>65</th>\n",
       "      <td>2022-12-26</td>\n",
       "      <td>0</td>\n",
       "      <td>41716.35</td>\n",
       "      <td>42846.15</td>\n",
       "      <td>41569.45</td>\n",
       "      <td>42630.15</td>\n",
       "      <td>2.708291</td>\n",
       "      <td>-0.352140</td>\n",
       "      <td>2.190508</td>\n",
       "      <td>1129.80</td>\n",
       "      <td>-146.90</td>\n",
       "      <td>913.80</td>\n",
       "    </tr>\n",
       "    <tr>\n",
       "      <th>...</th>\n",
       "      <td>...</td>\n",
       "      <td>...</td>\n",
       "      <td>...</td>\n",
       "      <td>...</td>\n",
       "      <td>...</td>\n",
       "      <td>...</td>\n",
       "      <td>...</td>\n",
       "      <td>...</td>\n",
       "      <td>...</td>\n",
       "      <td>...</td>\n",
       "      <td>...</td>\n",
       "      <td>...</td>\n",
       "    </tr>\n",
       "    <tr>\n",
       "      <th>304</th>\n",
       "      <td>2022-01-07</td>\n",
       "      <td>4</td>\n",
       "      <td>37667.05</td>\n",
       "      <td>38134.85</td>\n",
       "      <td>37427.80</td>\n",
       "      <td>37739.60</td>\n",
       "      <td>1.241934</td>\n",
       "      <td>-0.635171</td>\n",
       "      <td>0.192609</td>\n",
       "      <td>467.80</td>\n",
       "      <td>-239.25</td>\n",
       "      <td>72.55</td>\n",
       "    </tr>\n",
       "    <tr>\n",
       "      <th>305</th>\n",
       "      <td>2022-01-06</td>\n",
       "      <td>3</td>\n",
       "      <td>37242.55</td>\n",
       "      <td>37752.50</td>\n",
       "      <td>37058.45</td>\n",
       "      <td>37490.25</td>\n",
       "      <td>1.369267</td>\n",
       "      <td>-0.494327</td>\n",
       "      <td>0.665099</td>\n",
       "      <td>509.95</td>\n",
       "      <td>-184.10</td>\n",
       "      <td>247.70</td>\n",
       "    </tr>\n",
       "    <tr>\n",
       "      <th>306</th>\n",
       "      <td>2022-01-05</td>\n",
       "      <td>2</td>\n",
       "      <td>36943.55</td>\n",
       "      <td>37862.40</td>\n",
       "      <td>36756.35</td>\n",
       "      <td>37695.90</td>\n",
       "      <td>2.487173</td>\n",
       "      <td>-0.506719</td>\n",
       "      <td>2.036485</td>\n",
       "      <td>918.85</td>\n",
       "      <td>-187.20</td>\n",
       "      <td>752.35</td>\n",
       "    </tr>\n",
       "    <tr>\n",
       "      <th>307</th>\n",
       "      <td>2022-01-04</td>\n",
       "      <td>1</td>\n",
       "      <td>36551.25</td>\n",
       "      <td>36887.80</td>\n",
       "      <td>36374.40</td>\n",
       "      <td>36840.15</td>\n",
       "      <td>0.920762</td>\n",
       "      <td>-0.483841</td>\n",
       "      <td>0.790397</td>\n",
       "      <td>336.55</td>\n",
       "      <td>-176.85</td>\n",
       "      <td>288.90</td>\n",
       "    </tr>\n",
       "    <tr>\n",
       "      <th>308</th>\n",
       "      <td>2022-01-03</td>\n",
       "      <td>0</td>\n",
       "      <td>35585.20</td>\n",
       "      <td>36492.10</td>\n",
       "      <td>35526.60</td>\n",
       "      <td>36421.90</td>\n",
       "      <td>2.548531</td>\n",
       "      <td>-0.164675</td>\n",
       "      <td>2.351258</td>\n",
       "      <td>906.90</td>\n",
       "      <td>-58.60</td>\n",
       "      <td>836.70</td>\n",
       "    </tr>\n",
       "  </tbody>\n",
       "</table>\n",
       "<p>248 rows × 12 columns</p>\n",
       "</div>"
      ],
      "text/plain": [
       "          Date  Day      Open      High       Low     Close  OpenToHigh%  \\\n",
       "61  2022-12-30    4  43401.70  43422.95  42833.10  42986.45     0.048961   \n",
       "62  2022-12-29    3  42684.90  43498.05  42489.80  43252.35     1.905006   \n",
       "63  2022-12-28    2  42733.60  43034.95  42694.85  42827.70     0.705183   \n",
       "64  2022-12-27    1  42827.75  42927.20  42394.15  42859.50     0.232209   \n",
       "65  2022-12-26    0  41716.35  42846.15  41569.45  42630.15     2.708291   \n",
       "..         ...  ...       ...       ...       ...       ...          ...   \n",
       "304 2022-01-07    4  37667.05  38134.85  37427.80  37739.60     1.241934   \n",
       "305 2022-01-06    3  37242.55  37752.50  37058.45  37490.25     1.369267   \n",
       "306 2022-01-05    2  36943.55  37862.40  36756.35  37695.90     2.487173   \n",
       "307 2022-01-04    1  36551.25  36887.80  36374.40  36840.15     0.920762   \n",
       "308 2022-01-03    0  35585.20  36492.10  35526.60  36421.90     2.548531   \n",
       "\n",
       "     OpenToLow%  OpenToClose%  OpenToHigh  OpenToLow  OpenToClose  \n",
       "61    -1.310087     -0.956760       21.25    -568.60      -415.25  \n",
       "62    -0.457070      1.329393      813.15    -195.10       567.45  \n",
       "63    -0.090678      0.220201      301.35     -38.75        94.10  \n",
       "64    -1.012428      0.074134       99.45    -433.60        31.75  \n",
       "65    -0.352140      2.190508     1129.80    -146.90       913.80  \n",
       "..          ...           ...         ...        ...          ...  \n",
       "304   -0.635171      0.192609      467.80    -239.25        72.55  \n",
       "305   -0.494327      0.665099      509.95    -184.10       247.70  \n",
       "306   -0.506719      2.036485      918.85    -187.20       752.35  \n",
       "307   -0.483841      0.790397      336.55    -176.85       288.90  \n",
       "308   -0.164675      2.351258      906.90     -58.60       836.70  \n",
       "\n",
       "[248 rows x 12 columns]"
      ]
     },
     "execution_count": 101,
     "metadata": {},
     "output_type": "execute_result"
    }
   ],
   "source": [
    "df[df['Date'].dt.year == 2022]"
   ]
  },
  {
   "cell_type": "code",
   "execution_count": 102,
   "metadata": {},
   "outputs": [
    {
     "data": {
      "text/html": [
       "<div>\n",
       "<style scoped>\n",
       "    .dataframe tbody tr th:only-of-type {\n",
       "        vertical-align: middle;\n",
       "    }\n",
       "\n",
       "    .dataframe tbody tr th {\n",
       "        vertical-align: top;\n",
       "    }\n",
       "\n",
       "    .dataframe thead th {\n",
       "        text-align: right;\n",
       "    }\n",
       "</style>\n",
       "<table border=\"1\" class=\"dataframe\">\n",
       "  <thead>\n",
       "    <tr style=\"text-align: right;\">\n",
       "      <th></th>\n",
       "      <th>Date</th>\n",
       "      <th>Day</th>\n",
       "      <th>Open</th>\n",
       "      <th>High</th>\n",
       "      <th>Low</th>\n",
       "      <th>Close</th>\n",
       "      <th>OpenToHigh%</th>\n",
       "      <th>OpenToLow%</th>\n",
       "      <th>OpenToClose%</th>\n",
       "      <th>OpenToHigh</th>\n",
       "      <th>OpenToLow</th>\n",
       "      <th>OpenToClose</th>\n",
       "    </tr>\n",
       "  </thead>\n",
       "  <tbody>\n",
       "    <tr>\n",
       "      <th>0</th>\n",
       "      <td>2023-03-29</td>\n",
       "      <td>2</td>\n",
       "      <td>39611.55</td>\n",
       "      <td>40055.0</td>\n",
       "      <td>39609.55</td>\n",
       "      <td>39910.15</td>\n",
       "      <td>1.119497</td>\n",
       "      <td>-0.005049</td>\n",
       "      <td>0.753821</td>\n",
       "      <td>443.45</td>\n",
       "      <td>-2.00</td>\n",
       "      <td>298.60</td>\n",
       "    </tr>\n",
       "    <tr>\n",
       "      <th>1</th>\n",
       "      <td>2023-03-28</td>\n",
       "      <td>1</td>\n",
       "      <td>39545.05</td>\n",
       "      <td>39645.2</td>\n",
       "      <td>39326.10</td>\n",
       "      <td>39567.90</td>\n",
       "      <td>0.253255</td>\n",
       "      <td>-0.553672</td>\n",
       "      <td>0.057782</td>\n",
       "      <td>100.15</td>\n",
       "      <td>-218.95</td>\n",
       "      <td>22.85</td>\n",
       "    </tr>\n",
       "    <tr>\n",
       "      <th>2</th>\n",
       "      <td>2023-03-27</td>\n",
       "      <td>0</td>\n",
       "      <td>39484.70</td>\n",
       "      <td>39695.2</td>\n",
       "      <td>39273.75</td>\n",
       "      <td>39431.30</td>\n",
       "      <td>0.533118</td>\n",
       "      <td>-0.534258</td>\n",
       "      <td>-0.135242</td>\n",
       "      <td>210.50</td>\n",
       "      <td>-210.95</td>\n",
       "      <td>-53.40</td>\n",
       "    </tr>\n",
       "    <tr>\n",
       "      <th>3</th>\n",
       "      <td>2023-03-24</td>\n",
       "      <td>4</td>\n",
       "      <td>39555.25</td>\n",
       "      <td>39767.9</td>\n",
       "      <td>39294.90</td>\n",
       "      <td>39395.35</td>\n",
       "      <td>0.537602</td>\n",
       "      <td>-0.658193</td>\n",
       "      <td>-0.404245</td>\n",
       "      <td>212.65</td>\n",
       "      <td>-260.35</td>\n",
       "      <td>-159.90</td>\n",
       "    </tr>\n",
       "    <tr>\n",
       "      <th>4</th>\n",
       "      <td>2023-03-23</td>\n",
       "      <td>3</td>\n",
       "      <td>39836.15</td>\n",
       "      <td>40201.6</td>\n",
       "      <td>39552.50</td>\n",
       "      <td>39616.90</td>\n",
       "      <td>0.917383</td>\n",
       "      <td>-0.712042</td>\n",
       "      <td>-0.550379</td>\n",
       "      <td>365.45</td>\n",
       "      <td>-283.65</td>\n",
       "      <td>-219.25</td>\n",
       "    </tr>\n",
       "  </tbody>\n",
       "</table>\n",
       "</div>"
      ],
      "text/plain": [
       "        Date  Day      Open     High       Low     Close  OpenToHigh%  \\\n",
       "0 2023-03-29    2  39611.55  40055.0  39609.55  39910.15     1.119497   \n",
       "1 2023-03-28    1  39545.05  39645.2  39326.10  39567.90     0.253255   \n",
       "2 2023-03-27    0  39484.70  39695.2  39273.75  39431.30     0.533118   \n",
       "3 2023-03-24    4  39555.25  39767.9  39294.90  39395.35     0.537602   \n",
       "4 2023-03-23    3  39836.15  40201.6  39552.50  39616.90     0.917383   \n",
       "\n",
       "   OpenToLow%  OpenToClose%  OpenToHigh  OpenToLow  OpenToClose  \n",
       "0   -0.005049      0.753821      443.45      -2.00       298.60  \n",
       "1   -0.553672      0.057782      100.15    -218.95        22.85  \n",
       "2   -0.534258     -0.135242      210.50    -210.95       -53.40  \n",
       "3   -0.658193     -0.404245      212.65    -260.35      -159.90  \n",
       "4   -0.712042     -0.550379      365.45    -283.65      -219.25  "
      ]
     },
     "execution_count": 102,
     "metadata": {},
     "output_type": "execute_result"
    }
   ],
   "source": [
    "df.head()"
   ]
  },
  {
   "attachments": {},
   "cell_type": "markdown",
   "metadata": {},
   "source": [
    "## 2023 Volatility"
   ]
  },
  {
   "cell_type": "code",
   "execution_count": 9,
   "metadata": {},
   "outputs": [
    {
     "data": {
      "text/plain": [
       "[Text(0, 0, '8'),\n",
       " Text(0, 0, '36'),\n",
       " Text(0, 0, '92'),\n",
       " Text(0, 0, '325'),\n",
       " Text(0, 0, '1030'),\n",
       " Text(0, 0, '1132'),\n",
       " Text(0, 0, '272'),\n",
       " Text(0, 0, '73'),\n",
       " Text(0, 0, '22'),\n",
       " Text(0, 0, '3')]"
      ]
     },
     "execution_count": 9,
     "metadata": {},
     "output_type": "execute_result"
    },
    {
     "data": {
      "image/png": "[encoded data removed]",
      "text/plain": [
       "<Figure size 640x480 with 1 Axes>"
      ]
     },
     "metadata": {},
     "output_type": "display_data"
    }
   ],
   "source": [
    "bin_size = 1; min_edge = -5; max_edge = 5\n",
    "N = int((max_edge-min_edge)/bin_size); Nplus1 = N + 1\n",
    "bin_list = np.linspace(min_edge, max_edge, Nplus1)\n",
    "counts, edges, bars = plt.hist(df[\"OpenToHigh%\"].tolist()+df[\"OpenToLow%\"].tolist(), bins = bin_list)\n",
    "\n",
    "plt.bar_label(bars)"
   ]
  },
  {
   "cell_type": "code",
   "execution_count": 16,
   "metadata": {},
   "outputs": [],
   "source": [
    "df2 = df[df[\"Date\"].dt.year == 2023]"
   ]
  },
  {
   "cell_type": "code",
   "execution_count": 17,
   "metadata": {},
   "outputs": [
    {
     "data": {
      "text/plain": [
       "<matplotlib.collections.PathCollection at 0x240ed8b99d0>"
      ]
     },
     "execution_count": 17,
     "metadata": {},
     "output_type": "execute_result"
    },
    {
     "data": {
      "image/png": "[encoded data removed]",
      "text/plain": [
       "<Figure size 640x480 with 1 Axes>"
      ]
     },
     "metadata": {},
     "output_type": "display_data"
    }
   ],
   "source": [
    "plt.scatter(df[\"Date\"].tolist(), df[\"OpenToClose\"].tolist(), s = 0.5)"
   ]
  },
  {
   "cell_type": "code",
   "execution_count": 18,
   "metadata": {},
   "outputs": [
    {
     "data": {
      "text/plain": [
       "<matplotlib.collections.PathCollection at 0x240ec707ee0>"
      ]
     },
     "execution_count": 18,
     "metadata": {},
     "output_type": "execute_result"
    },
    {
     "data": {
      "image/png": "[encoded data removed]",
      "text/plain": [
       "<Figure size 640x480 with 1 Axes>"
      ]
     },
     "metadata": {},
     "output_type": "display_data"
    }
   ],
   "source": [
    "plt.scatter(df[\"Date\"].tolist(), df[\"OpenToHigh\"].tolist(), s = 0.5)\n",
    "plt.scatter(df[\"Date\"].tolist(), df[\"OpenToLow\"].tolist(), s = 0.5)"
   ]
  },
  {
   "cell_type": "code",
   "execution_count": null,
   "metadata": {},
   "outputs": [],
   "source": []
  },
  {
   "cell_type": "code",
   "execution_count": 20,
   "metadata": {},
   "outputs": [
    {
     "data": {
      "text/plain": [
       "0      -2.00\n",
       "1    -218.95\n",
       "6    -233.35\n",
       "8    -515.60\n",
       "9    -448.55\n",
       "15    -78.00\n",
       "17    -66.05\n",
       "19   -131.90\n",
       "21    -75.00\n",
       "23   -383.45\n",
       "29   -219.00\n",
       "30   -214.70\n",
       "32    -27.50\n",
       "37   -409.60\n",
       "38   -181.90\n",
       "40   -396.15\n",
       "41   -436.35\n",
       "48   -152.15\n",
       "51   -285.65\n",
       "53   -342.85\n",
       "55   -218.30\n",
       "59     -3.00\n",
       "60    -76.50\n",
       "dtype: float64"
      ]
     },
     "execution_count": 20,
     "metadata": {},
     "output_type": "execute_result"
    }
   ],
   "source": [
    "up[\"Low\"]-up[\"Open\"]"
   ]
  },
  {
   "cell_type": "code",
   "execution_count": 25,
   "metadata": {},
   "outputs": [
    {
     "data": {
      "application/vnd.plotly.v1+json": {
       "config": {
        "plotlyServerURL": "https://plot.ly"
       },
       "data": [
        {
         "close": [
          298.59999999999854,
          22.849999999998545,
          -53.39999999999418,
          -159.90000000000146,
          -219.25,
          -36.94999999999709,
          295.04999999999563,
          -150.15000000000146,
          155.6999999999971,
          70.90000000000146,
          -726.4000000000015,
          -111,
          -791.4000000000015,
          -319.8000000000029,
          -275.90000000000146,
          398.75,
          -68,
          579.9499999999971,
          -214.75,
          224.3000000000029,
          -33.64999999999418,
          486.6999999999971,
          -349.6999999999971,
          17.85000000000582,
          -498.25,
          -111.30000000000291,
          -519.8500000000058,
          -382.25,
          -294.34999999999854,
          56.450000000004366,
          237.90000000000146,
          -281.3000000000029,
          107,
          -79.69999999999709,
          -4.400000000001455,
          -22.150000000001455,
          -155.5,
          480.34999999999854,
          725.9500000000044,
          -602,
          91.20000000000437,
          531.2999999999956,
          -1037.0499999999956,
          -1055.949999999997,
          -261,
          -70.19999999999709,
          -9.25,
          -87.45000000000437,
          186.1999999999971,
          -6.149999999994179,
          -454.9499999999971,
          200,
          -156.25,
          160.84999999999854,
          -627.25,
          177.90000000000146,
          -460.8999999999942,
          -464.3500000000058,
          -458.6999999999971,
          273.8000000000029,
          164.84999999999854,
          -415.25,
          567.4499999999971,
          94.09999999999854,
          31.75,
          913.8000000000029,
          -283.29999999999563,
          -455.1999999999971,
          -907.8000000000029,
          206.84999999999854,
          67.40000000000146,
          -42.25,
          -441.90000000000146,
          -29.5,
          152.85000000000582,
          252.90000000000146,
          -131.85000000000582,
          454.59999999999854,
          -58.650000000001455,
          44.650000000001455,
          63.599999999998545,
          127.05000000000291,
          -251.4499999999971,
          108.25,
          94.04999999999563,
          263.25,
          -208.5,
          237.0500000000029,
          60.549999999995634,
          -10.349999999998545,
          59.60000000000582,
          -108.30000000000291,
          58.400000000001455,
          163.5,
          137.84999999999854,
          -100.80000000000291,
          -26.349999999998545,
          140.90000000000146,
          -131.65000000000146,
          -53.950000000004366,
          -56.400000000001455,
          424.65000000000146,
          -325.9499999999971,
          -262.84999999999854,
          42.200000000004366,
          -245.95000000000437,
          -141.39999999999418,
          -390.90000000000146,
          -43.44999999999709,
          413.3000000000029,
          -49.94999999999709,
          -183.45000000000437,
          66.69999999999709,
          624.8499999999985,
          -140.45000000000437,
          -333.65000000000146,
          334.3500000000058,
          -346.40000000000146,
          451.54999999999563,
          84.55000000000291,
          -60.849999999998545,
          409.65000000000146,
          -415.25,
          971.9499999999971,
          -445.09999999999854,
          -321.40000000000146,
          -452.54999999999563,
          -411.59999999999854,
          -883.0999999999985,
          -258.45000000000437,
          -79.15000000000146,
          164.15000000000146,
          218.8000000000029,
          -200.39999999999418,
          -324.5,
          1096.5999999999985,
          71,
          33.55000000000291,
          -105.05000000000291,
          445.04999999999563,
          118.15000000000146,
          -226.4499999999971,
          393.6999999999971,
          -1.3000000000029104,
          494.5500000000029,
          1019.8000000000029,
          165.09999999999854,
          -142.5,
          -239.3000000000029,
          485.8000000000029,
          742.2000000000044,
          -395.90000000000146,
          -746.7000000000044,
          331.75,
          110.39999999999418,
          -44.44999999999709,
          99.85000000000582,
          166.90000000000146,
          -11,
          390.0500000000029,
          52.349999999998545,
          -355.5,
          34.69999999999709,
          256.3000000000029,
          309.04999999999563,
          -225.90000000000146,
          275.70000000000437,
          413.1999999999971,
          -280.0500000000029,
          -40.299999999995634,
          416.04999999999563,
          174.4499999999971,
          -89.20000000000437,
          607.0999999999985,
          516.8499999999985,
          -51.799999999995634,
          -166.75,
          -432,
          -166.4499999999971,
          452.0500000000029,
          -134.84999999999854,
          292.90000000000146,
          394.84999999999854,
          -268.79999999999563,
          382.0500000000029,
          274.6999999999971,
          244.40000000000146,
          -3.650000000001455,
          64.25,
          -314.9499999999971,
          192.64999999999418,
          207.59999999999854,
          -206.34999999999854,
          213.6999999999971,
          -188.60000000000218,
          349.59999999999854,
          -1031.7000000000044,
          21.19999999999709,
          130.75,
          -322.8000000000029,
          -203.14999999999418,
          283.1999999999971,
          -219.5,
          -84.80000000000291,
          151.04999999999563,
          -654.5,
          142.70000000000437,
          261.8500000000058,
          -127.90000000000146,
          -131.85000000000582,
          286.70000000000437,
          424.3000000000029,
          -152.3000000000029,
          66.95000000000437,
          -73.80000000000291,
          511.25,
          -145.34999999999854,
          -284.5,
          505.70000000000437,
          341.59999999999854,
          -804.5999999999985,
          -756.9499999999971,
          6.849999999998545,
          301.45000000000437,
          183.65000000000146,
          22.099999999998545,
          -472.5,
          -1001.5999999999985,
          536.1500000000015,
          -385.90000000000146,
          232.25,
          -38.700000000004366,
          -110.54999999999563,
          290,
          -469.40000000000146,
          303,
          -167.6999999999971,
          -465.20000000000437,
          -104.15000000000146,
          -423.90000000000146,
          340,
          22.05000000000291,
          132.35000000000582,
          135.59999999999854,
          -78.5,
          -663.4000000000015,
          810.25,
          850.1500000000015,
          -83.59999999999854,
          92.75,
          -84.34999999999854,
          221.8000000000029,
          -290.3000000000029,
          -106.59999999999854,
          -480.34999999999854,
          372.95000000000437,
          -527.3499999999985,
          126.55000000000291,
          192.5,
          -445.29999999999563,
          651.9000000000015,
          215.25,
          -678.3499999999985,
          536.5499999999956,
          626.1999999999971,
          -406.90000000000146,
          -118.29999999999563,
          -676.8499999999985,
          -9.099999999998545,
          266.3500000000058,
          529.0500000000029,
          -857.0999999999985,
          -236.5,
          538.6500000000015,
          285.59999999999854,
          254.70000000000437,
          -510.4499999999971,
          -342.6999999999971,
          1180.2999999999956,
          -755.4499999999971,
          -50.400000000001455,
          209.5,
          326.65000000000146,
          -147.65000000000146,
          -596.6000000000058,
          -338.65000000000146,
          -245.6999999999971,
          488.9499999999971,
          45.05000000000291,
          -116.45000000000437,
          -557.1999999999971,
          923.9000000000015,
          1108.699999999997,
          -654.3999999999942,
          51.950000000004366,
          -255.25,
          -104.40000000000146,
          -127.09999999999854,
          3.599999999998545,
          68.05000000000291,
          -247.60000000000582,
          7.950000000004366,
          72.19999999999709,
          417.34999999999854,
          72.54999999999563,
          247.6999999999971,
          752.3499999999985,
          288.90000000000146,
          836.7000000000044,
          367.29999999999563,
          85.94999999999709,
          -123.44999999999709,
          -124.5,
          484.25,
          -425.1499999999942,
          -159.34999999999854,
          164.25,
          -255.5,
          -684.5,
          -873.1500000000015,
          -544.2999999999956,
          -139.9499999999971,
          115,
          -432.9499999999971,
          22.5,
          -249.3000000000029,
          231.9499999999971,
          531.4500000000044,
          -516.8499999999985,
          -300.15000000000146,
          226.40000000000146,
          462,
          -263.5,
          -248,
          -805.4000000000015,
          2.6999999999970896,
          57.19999999999709,
          485.8000000000029,
          -1103.3499999999985,
          -95.65000000000146,
          -71.84999999999854,
          -403.8000000000029,
          -147.09999999999854,
          26.19999999999709,
          -352.8500000000058,
          -182.9499999999971,
          -149.04999999999563,
          -235.8000000000029,
          -95.40000000000146,
          -638.5999999999985,
          141.54999999999563,
          331.59999999999854,
          -308.95000000000437,
          -1406.2000000000044,
          -360.20000000000437,
          180.5500000000029,
          231.15000000000146,
          131,
          353.6499999999942,
          -27.25,
          -386.8000000000029,
          -109.44999999999709,
          656.25,
          -99.55000000000291,
          343.15000000000146,
          511.0500000000029,
          -131.15000000000146,
          -140.8000000000029,
          -247.25,
          241.1999999999971,
          187.5,
          85.5,
          -252.70000000000437,
          141.90000000000146,
          -415,
          116.5,
          -123.69999999999709,
          530.4499999999971,
          -332.4499999999971,
          -2.5500000000029104,
          -242.5,
          -117.55000000000291,
          722.5999999999985,
          308.6999999999971,
          -26.89999999999418,
          -136.64999999999418,
          -42.30000000000291,
          248.5,
          -90.04999999999563,
          -285.90000000000146,
          -122.5,
          242.90000000000146,
          -17.14999999999418,
          57.19999999999709,
          566.5999999999985,
          68.05000000000291,
          131.60000000000582,
          -182.59999999999854,
          511.34999999999854,
          -299.79999999999563,
          -112.65000000000146,
          -668,
          -67.60000000000582,
          -6.150000000001455,
          168.59999999999854,
          111.65000000000146,
          -411.84999999999854,
          79.54999999999563,
          204.75,
          -66.55000000000291,
          -259.1999999999971,
          639.9000000000015,
          546.6999999999971,
          -50.900000000001455,
          -114.40000000000146,
          -48.80000000000291,
          -306.54999999999563,
          -231.85000000000582,
          1.8499999999985448,
          286.0500000000029,
          -97.25,
          -375.70000000000437,
          8.69999999999709,
          -226.14999999999418,
          150.20000000000437,
          82.40000000000146,
          193.34999999999854,
          -86.15000000000146,
          -91.80000000000291,
          -329.15000000000146,
          220.70000000000437,
          405.5500000000029,
          201.0500000000029,
          81.80000000000291,
          -182,
          -229.70000000000437,
          -310.1499999999942,
          -128.75,
          448,
          139.3000000000029,
          -337.84999999999854,
          -339.90000000000146,
          761.8500000000058,
          -177.15000000000146,
          -14.400000000001455,
          -192.75,
          209.6999999999971,
          14.049999999995634,
          -277.25,
          227.59999999999854,
          -313.75,
          -348.5,
          -17.150000000001455,
          -366.1999999999971,
          112.55000000000291,
          102.15000000000146,
          -302.5500000000029,
          429.20000000000437,
          -204.20000000000437,
          430.8500000000058,
          -72.95000000000437,
          -433,
          74.29999999999563,
          1047.0999999999985,
          -358,
          -31.900000000001455,
          29.30000000000291,
          1021.4000000000015,
          -325.6000000000022,
          -265.3500000000022,
          231.24999999999636,
          -32.900000000001455,
          -137.15000000000146,
          -72.94999999999709,
          206.59999999999854,
          -340.0500000000029,
          97.20000000000073,
          -330.59999999999854,
          -187.09999999999854,
          857.3000000000029,
          506.3999999999978,
          -41.5,
          231.70000000000073,
          1019.0999999999985,
          -456.25,
          214.95000000000073,
          -184,
          183.75,
          869.7999999999993,
          -845.9000000000015,
          -188.85000000000218,
          -371.34999999999854,
          461.49999999999636,
          -414.3000000000029,
          -970.3000000000029,
          270,
          -460.90000000000146,
          259.1999999999971,
          -286.8500000000058,
          -414.3000000000029,
          -601.4499999999971,
          436.45000000000437,
          -484.95000000000437,
          571.1999999999971,
          -720.6999999999971,
          -675.8000000000029,
          -547.4000000000015,
          -361.6999999999971,
          -1000.6999999999971,
          -173.9499999999971,
          159.75,
          -186.6999999999971,
          -230.34999999999854,
          226.84999999999854,
          613.6000000000058,
          -38.450000000004366,
          -78.25,
          -1003.0500000000029,
          -214.15000000000146,
          1246.9000000000015,
          -423.6000000000058,
          -617.1000000000058,
          -529.9500000000044,
          -501.75,
          -131,
          -394.1999999999971,
          804.8499999999985,
          372.3000000000029,
          64.84999999999854,
          -259.25,
          -2.3000000000029104,
          -90.19999999999709,
          19.55000000000291,
          795.9000000000015,
          202.84999999999854,
          678.8499999999985,
          2112.7000000000044,
          -135.15000000000146,
          546,
          -951.7000000000007,
          -308.75,
          -920.75,
          -545.8999999999978,
          154.75,
          341.9499999999971,
          -463.40000000000146,
          -262.1000000000022,
          -6.950000000000728,
          28.05000000000291,
          503.9500000000007,
          -281.3999999999978,
          -213.84999999999854,
          -173.79999999999927,
          -42.04999999999927,
          681.1500000000015,
          -272.7000000000007,
          -71.45000000000073,
          -31.850000000002183,
          -176.75,
          315.59999999999854,
          322.1000000000022,
          330.5499999999993,
          322.5499999999993,
          18.450000000000728,
          -1139.3499999999985,
          -127.19999999999709,
          55.849999999998545,
          -221.9499999999971,
          -114.35000000000218,
          10.75,
          49.54999999999927,
          -35,
          374.3500000000022,
          -38.39999999999782,
          148.95000000000073,
          479,
          -280.15000000000146,
          -413.5499999999993,
          -26.950000000000728,
          -12.950000000000728,
          179.34999999999854,
          -825.5,
          471.65000000000146,
          -408.59999999999854,
          300.25,
          -399.5499999999993,
          641.9499999999971,
          389.0499999999993,
          -91.40000000000146,
          357,
          -354.9500000000007,
          131.84999999999854,
          566.5499999999993,
          445.1499999999978,
          524.8500000000022,
          138.29999999999927,
          232.04999999999927,
          574.7999999999993,
          524.9000000000015,
          -189.25,
          28.5,
          -505.34999999999854,
          481.4500000000007,
          -450.34999999999854,
          -190.90000000000146,
          36.80000000000291,
          190.84999999999854,
          194.45000000000073,
          363.84999999999854,
          313.40000000000146,
          -847.9499999999971,
          521.5,
          -170.84999999999854,
          -242.79999999999927,
          534.2000000000007,
          41.099999999998545,
          127.84999999999854,
          180.65000000000146,
          18.850000000002183,
          560.75,
          46.54999999999927,
          -359.6000000000022,
          513.4500000000007,
          241.54999999999927,
          -441.9500000000007,
          -172.29999999999927,
          -306.15000000000146,
          -616.6000000000022,
          -408.2999999999993,
          -31.650000000001455,
          97.25,
          262.8500000000022,
          -582.0999999999985,
          -30,
          -0.3499999999985448,
          -219.70000000000073,
          -226.79999999999927,
          -91.20000000000073,
          -107.65000000000146,
          -455.3000000000029,
          105.54999999999927,
          -81.79999999999927,
          -1284.4500000000007,
          888.5,
          88.89999999999782,
          238.65000000000146,
          118.75,
          396.15000000000146,
          108.89999999999782,
          9.549999999999272,
          -29.5,
          468.59999999999854,
          -206.10000000000218,
          -655.5499999999993,
          -198.85000000000218,
          128.04999999999927,
          177,
          75.34999999999854,
          133.75,
          -1.6500000000014552,
          -176.89999999999782,
          242.25,
          -471.7000000000007,
          -90.5,
          -548.2000000000007,
          1.5999999999985448,
          165.04999999999927,
          -815.8499999999985,
          -191.15000000000146,
          229.0500000000029,
          -276.40000000000146,
          142.15000000000146,
          14.549999999999272,
          358.75,
          143.90000000000146,
          -293.5,
          -485.3999999999978,
          -524,
          -322.5,
          154.04999999999927,
          -116.25,
          373.7000000000007,
          -72,
          -249.34999999999854,
          -180.59999999999854,
          623.5,
          -154.14999999999782,
          67.45000000000073,
          -143,
          288.1000000000022,
          -1052.5499999999993,
          405.65000000000146,
          216.79999999999927,
          368,
          818.7000000000007,
          64.29999999999927,
          -203.95000000000073,
          -544.25,
          1125.25,
          -559.5499999999993,
          339.1499999999978,
          -570.5999999999985,
          -448.75,
          518.0999999999985,
          -541.8999999999978,
          -25.899999999997817,
          409.6000000000022,
          231,
          335.25,
          245.34999999999854,
          1107.1499999999978,
          -97.30000000000291,
          -275.34999999999854,
          -166.85000000000218,
          353.7000000000007,
          -550.9000000000015,
          -1221.8999999999978,
          -264.84999999999854,
          -129.20000000000073,
          -382.7999999999993,
          111.44999999999709,
          -659.9500000000007,
          -491.09999999999854,
          -44.25,
          392.09999999999854,
          -875.5499999999993,
          -771,
          -54.70000000000073,
          649.7999999999993,
          234.5,
          210.35000000000218,
          -111,
          396.6000000000022,
          394.8999999999978,
          -402.7000000000007,
          -582.0499999999993,
          286.7000000000007,
          442.84999999999854,
          -1039.2999999999993,
          -366.90000000000146,
          360.4499999999971,
          147.04999999999927,
          607.9500000000007,
          -1075.75,
          -914.0500000000029,
          -163.65000000000146,
          -472.0499999999993,
          -832.5999999999985,
          832.0500000000029,
          1721.0999999999985,
          -598.5499999999993,
          -1393.6499999999978,
          419.2999999999993,
          654.5499999999993,
          -1831.6499999999978,
          -1192.8999999999978,
          -960.4499999999971,
          2445.7000000000007,
          -1204.75,
          215.04999999999927,
          -568.8500000000022,
          151.5,
          -14.950000000000728,
          -599.25,
          164.5,
          -832.5999999999985,
          -354.3999999999978,
          -83,
          26.899999999997817,
          -84.29999999999927,
          -211.25,
          80.54999999999927,
          -66.79999999999927,
          -99,
          -193.14999999999782,
          -447.0499999999993,
          -356.2999999999993,
          51.75,
          70.39999999999782,
          -190.5,
          -165.09999999999854,
          233.29999999999927,
          240,
          451.40000000000146,
          211.5,
          -905.2999999999993,
          -116.90000000000146,
          -241.84999999999854,
          -38.099999999998545,
          -160.59999999999854,
          -273.1499999999978,
          201.65000000000146,
          261.84999999999854,
          -360.1499999999978,
          -31.299999999999272,
          -843.2999999999993,
          19,
          43.35000000000218,
          -169.84999999999854,
          -124.79999999999927,
          38.55000000000291,
          -118.29999999999927,
          344.15000000000146,
          378.15000000000146,
          -198.64999999999782,
          -673.2999999999993,
          -257.7000000000007,
          310.6999999999971,
          -135,
          -184.29999999999927,
          -131.6999999999971,
          269.84999999999854,
          -278.4500000000007,
          -57.04999999999927,
          -41.54999999999927,
          118.10000000000218,
          -40.20000000000073,
          -48,
          57.849999999998545,
          -184.79999999999927,
          238.70000000000073,
          308.65000000000146,
          105.09999999999854,
          -226.0500000000029,
          -4.75,
          -455.6000000000022,
          -370.84999999999854,
          430,
          -306.75,
          -136.84999999999854,
          -128.0500000000029,
          141.25,
          43.20000000000073,
          25.5,
          490.8000000000029,
          -278,
          -63.29999999999927,
          61.5,
          191.09999999999854,
          -44.70000000000073,
          96,
          134.15000000000146,
          -543.2000000000007,
          450.8999999999978,
          178.10000000000218,
          -89.44999999999709,
          384.3999999999978,
          -183.40000000000146,
          -82.80000000000291,
          134.39999999999782,
          -102.40000000000146,
          -18.200000000000728,
          345.4500000000007,
          -89.10000000000218,
          167.29999999999927,
          -496.3999999999978,
          -19.25,
          -5.099999999998545,
          165.45000000000073,
          393.1000000000022,
          -150.65000000000146,
          297.25,
          -56.54999999999927,
          -203.04999999999927,
          -529.5,
          884.1999999999971,
          -142.35000000000218,
          -950.0500000000029,
          -192.60000000000218,
          -500.65000000000146,
          -571.6499999999978,
          -98.29999999999927,
          362.0499999999993,
          -443,
          -248.90000000000146,
          526.7999999999993,
          2102.899999999998,
          -417.7999999999993,
          -132.04999999999927,
          -633.3499999999985,
          -13,
          326.75,
          -52.29999999999927,
          137.15000000000146,
          264.3000000000029,
          261.40000000000146,
          -167.25,
          337.8999999999978,
          -415.0499999999993,
          19.94999999999709,
          -389.75,
          -275.9500000000007,
          19.850000000002183,
          287.3999999999978,
          123.30000000000291,
          -655.8499999999985,
          -301.9500000000007,
          -181.09999999999854,
          -145.15000000000146,
          296.7000000000007,
          133.70000000000073,
          -627.7000000000007,
          138.25,
          270.3500000000022,
          -351.7999999999993,
          503.59999999999854,
          -193.15000000000146,
          -19.299999999999272,
          -293.25,
          300.5499999999993,
          -643.25,
          -287.5499999999993,
          262.7999999999993,
          62,
          -133.20000000000073,
          -214.35000000000218,
          -332.09999999999854,
          -744.75,
          -275.2000000000007,
          113.25,
          38.14999999999782,
          -242.89999999999782,
          -188.29999999999927,
          9.549999999999272,
          -95.95000000000073,
          35.75,
          -743,
          -47.25,
          0.8499999999985448,
          34.599999999998545,
          -131.35000000000218,
          101.20000000000073,
          -175.79999999999927,
          77.40000000000146,
          353.1499999999978,
          279.3999999999978,
          -78.90000000000146,
          -176.60000000000218,
          390.8999999999978,
          -164.40000000000146,
          51.54999999999927,
          -378.75,
          -369.1000000000022,
          99.34999999999854,
          -253.59999999999854,
          93.20000000000073,
          -225.20000000000073,
          123.39999999999782,
          -666.5499999999993,
          56.14999999999782,
          247.60000000000218,
          -303.5,
          280.25,
          -163.70000000000073,
          -113.39999999999782,
          412.75,
          527.0499999999993,
          -553.7000000000007,
          116.14999999999782,
          -553.6999999999971,
          529.2999999999993,
          568.75,
          229.39999999999782,
          -309,
          110.45000000000073,
          -366.7000000000007,
          112.90000000000146,
          -9.350000000002183,
          -266.8999999999978,
          -461.34999999999854,
          -8.049999999999272,
          142.5,
          8.799999999999272,
          -155.60000000000218,
          248.65000000000146,
          -365.7000000000007,
          310.2999999999993,
          -282.25,
          -594.5499999999993,
          -433.09999999999854,
          295.09999999999854,
          120.75,
          158,
          -55.75,
          -113.09999999999854,
          212.34999999999854,
          -356.2000000000007,
          81.80000000000291,
          -242.39999999999782,
          -347.5499999999993,
          -95.84999999999854,
          -211.09999999999854,
          -53.54999999999927,
          355.75,
          -14.350000000002183,
          581.75,
          -48.20000000000073,
          -338.25,
          62.54999999999927,
          65.25,
          74.5,
          374.4500000000007,
          -105.80000000000291,
          404,
          275.5,
          126.55000000000291,
          75.64999999999782,
          103.59999999999854,
          7.55000000000291,
          485.8999999999978,
          102.90000000000146,
          -88.09999999999854,
          -278.7999999999993,
          99.15000000000146,
          225.04999999999927,
          -92.5,
          57.650000000001455,
          169.5,
          18.299999999999272,
          -100.34999999999854,
          -222.95000000000073,
          -7.400000000001455,
          -183.4499999999971,
          -156.15000000000146,
          -12.700000000000728,
          -8.25,
          -36.94999999999709,
          76.14999999999782,
          45.650000000001455,
          212.59999999999854,
          -248.59999999999854,
          326.2999999999993,
          35.75,
          -42.849999999998545,
          -388.40000000000146,
          -146.15000000000146,
          -7.099999999998545,
          -242.34999999999854,
          -44.29999999999927,
          19.049999999999272,
          -93.34999999999854,
          -39.849999999998545,
          78.04999999999927,
          83.20000000000073,
          -140.95000000000073,
          -148.89999999999782,
          -185,
          69.15000000000146,
          207.59999999999854,
          -74.10000000000218,
          195.29999999999927,
          -221.75,
          -122.29999999999927,
          161,
          -107.59999999999854,
          76.84999999999854,
          -322.1000000000022,
          352.7999999999993,
          -162.29999999999927,
          -391.59999999999854,
          146.4499999999971,
          69.35000000000218,
          257.40000000000146,
          100.34999999999854,
          15.150000000001455,
          -27.80000000000291,
          357.59999999999854,
          561.1500000000015,
          29,
          286.8999999999978,
          -140.79999999999927,
          -52.5,
          -115.70000000000073,
          -175.35000000000218,
          -146.34999999999854,
          298,
          -31.700000000000728,
          157,
          269.59999999999854,
          -234.20000000000073,
          156.59999999999854,
          -98.15000000000146,
          -63.89999999999782,
          40.20000000000073,
          208.54999999999927,
          -22.25,
          346.59999999999854,
          -276.40000000000146,
          28.450000000000728,
          -80.59999999999854,
          -149.40000000000146,
          0.6500000000014552,
          156.3000000000029,
          38.45000000000073,
          329.4500000000007,
          -117,
          311.75,
          -350.7999999999993,
          -24.049999999999272,
          -248.5,
          185.54999999999927,
          -405.65000000000146,
          119.29999999999927,
          -650.5,
          175.45000000000073,
          -55.95000000000073,
          393.8999999999978,
          242.20000000000073,
          725.1000000000022,
          -176,
          147.59999999999854,
          -298.2000000000007,
          84.14999999999782,
          -220.64999999999782,
          423.09999999999854,
          -15.950000000000728,
          -399.9499999999971,
          -148.79999999999927,
          382.6499999999978,
          -674.7000000000007,
          -734.1499999999978,
          -254.65000000000146,
          -315.5499999999993,
          -182.29999999999927,
          104,
          -75.95000000000073,
          -487.7000000000007,
          -193.45000000000073,
          42.20000000000073,
          4.450000000000728,
          -33.25,
          -414.7999999999993,
          -379.9500000000007,
          63.75,
          -130.45000000000073,
          -9.30000000000291,
          -110.25,
          292.9500000000007,
          -119.54999999999927,
          -294.0499999999993,
          -37.94999999999709,
          102.59999999999854,
          136.79999999999927,
          -9.600000000002183,
          157.29999999999927,
          33.60000000000218,
          -224.70000000000073,
          146.34999999999854,
          131.90000000000146,
          -97.04999999999927,
          128.95000000000073,
          223.54999999999927,
          -113.54999999999927,
          -88.20000000000073,
          -33.04999999999927,
          74.94999999999709,
          136.60000000000218,
          351.7000000000007,
          38.75,
          -9.75,
          306.8500000000022,
          108.79999999999927,
          -170.54999999999927,
          -226.4499999999971,
          345.25,
          -234.70000000000073,
          -110.89999999999782,
          89.04999999999927,
          -84.45000000000073,
          50,
          110.95000000000073,
          66.29999999999927,
          21.75,
          184.70000000000073,
          -6,
          -134.15000000000146,
          51.5,
          -73.5,
          -192.89999999999782,
          106.04999999999927,
          -108.45000000000073,
          248.4499999999971,
          -148.34999999999854,
          237.25,
          -182.34999999999854,
          -35,
          -96.29999999999927,
          -50.04999999999927,
          -79.15000000000146,
          40.5,
          -19.650000000001455,
          -5.900000000001455,
          -60.150000000001455,
          100.69999999999709,
          -12,
          -766.1500000000015,
          -220.60000000000218,
          369.2000000000007,
          287.8999999999978,
          -312.4500000000007,
          322.59999999999854,
          206.79999999999927,
          293.8999999999978,
          -42,
          -2.5499999999992724,
          -266.7000000000007,
          -150,
          -159.40000000000146,
          -87.19999999999709,
          -20.900000000001455,
          70.70000000000073,
          239.45000000000073,
          -85.09999999999854,
          166.35000000000218,
          16.349999999998545,
          175.79999999999927,
          13.100000000002183,
          57.349999999998545,
          -38.75,
          41.44999999999709,
          364.4499999999971,
          177.70000000000073,
          -179,
          69.89999999999782,
          -104.84999999999854,
          -182.95000000000073,
          -80.29999999999927,
          -324.4500000000007,
          -49.29999999999927,
          238.75,
          -39.05000000000291,
          118.19999999999709,
          -100.09999999999854,
          73.20000000000073,
          244.95000000000073,
          96.80000000000291,
          365.34999999999854,
          -373,
          224.64999999999782,
          92.84999999999854,
          -36.150000000001455,
          37.75,
          569.4499999999971,
          -115.25,
          -111.45000000000073,
          -75.70000000000073,
          34.25,
          -285.0500000000029,
          -264.1000000000022,
          -62.45000000000073,
          222,
          114.05000000000291,
          220.60000000000218,
          -260.5,
          203.75,
          -199.75,
          -515.6499999999978,
          -12.649999999997817,
          -119.79999999999927,
          -8.849999999998545,
          -301,
          235.90000000000146,
          300.25,
          142.5,
          -59.89999999999782,
          -231.14999999999782,
          -266.0499999999993,
          -348.0499999999993,
          63.44999999999709,
          -469,
          171.5,
          -2.649999999997817,
          160.8000000000029,
          -395.40000000000146,
          671.2000000000007,
          130.59999999999854,
          -566.25,
          -114.14999999999782,
          243.20000000000073,
          -197.79999999999927,
          52.35000000000218,
          31.55000000000291,
          88.39999999999782,
          300.6499999999978,
          100.70000000000073,
          293.84999999999854,
          -224.84999999999854,
          342.9499999999971,
          -154.25,
          211.04999999999927,
          16.649999999997817,
          32.70000000000073,
          -92.60000000000218,
          -24.150000000001455,
          -14.150000000001455,
          77.39999999999782,
          94.94999999999709,
          -107.15000000000146,
          -43.95000000000073,
          -247.65000000000146,
          54.150000000001455,
          26.400000000001455,
          -156.84999999999854,
          15.25,
          32.400000000001455,
          -54.25,
          -188.04999999999927,
          75.09999999999854,
          412.25,
          -47.150000000001455,
          105.59999999999854,
          -118.20000000000073,
          -288.40000000000146,
          -30.75,
          175.5,
          121.70000000000073,
          -215.29999999999927,
          93.25,
          -220.04999999999927,
          -218.54999999999927,
          -361.7999999999993,
          -34.650000000001455,
          15.549999999999272,
          197.95000000000073,
          2.400000000001455,
          -90.29999999999927,
          -39.650000000001455,
          -72.29999999999927,
          34.29999999999927,
          -147.70000000000073,
          153.09999999999854,
          -23.650000000001455,
          -68.54999999999927,
          -212.25,
          247.09999999999854,
          10,
          -191.79999999999927,
          -369.09999999999854,
          2,
          118.59999999999854,
          -81.40000000000146,
          292.7000000000007,
          -23.099999999998545,
          114.34999999999854,
          -48.599999999998545,
          68.04999999999927,
          54.349999999998545,
          80.04999999999927,
          2.5499999999992724,
          -229.40000000000146,
          -41.75,
          -52.25,
          -112.40000000000146,
          277.90000000000146,
          209.54999999999927,
          -304.4500000000007,
          42.20000000000073,
          41.45000000000073,
          106.45000000000073,
          -56.75,
          -11.150000000001455,
          -97.59999999999854,
          -61,
          203.95000000000073,
          -496.7000000000007,
          93.40000000000146,
          -196.54999999999927,
          -336.5499999999993,
          -135.09999999999854,
          -19.650000000001455,
          -18.75,
          97.84999999999854,
          3.7000000000007276,
          54.75,
          12.650000000001455,
          4.849999999998545,
          203.5,
          -39.5,
          -20.849999999998545,
          86.59999999999854,
          55.400000000001455,
          -220.29999999999927,
          44.79999999999927,
          -36.349999999998545,
          54.95000000000073,
          -174,
          25.75,
          -100.75,
          231.04999999999927,
          -106.59999999999854,
          -204.54999999999927,
          -51.29999999999927,
          -258.2000000000007,
          248.25,
          63.95000000000073,
          26.75,
          -83.45000000000073,
          -145.25,
          -343.2000000000007,
          51.849999999998545,
          197.5,
          -327.84999999999854,
          -135.40000000000146,
          -30.849999999998545,
          222.40000000000146,
          66.45000000000073,
          64.5,
          91.84999999999854,
          -102.90000000000146,
          112.29999999999927,
          25.599999999998545,
          42.349999999998545,
          82.79999999999927,
          63.849999999998545,
          3.599999999998545,
          -12.5,
          70.75,
          71.25,
          -160.54999999999927,
          91.75,
          -14.75,
          66.5,
          110.09999999999854,
          -111.5,
          31.650000000001455,
          73.75,
          -85.40000000000146,
          25.450000000000728,
          -420.9500000000007,
          -230.29999999999927,
          19.150000000001455,
          69.84999999999854,
          -23.599999999998545,
          170.65000000000146,
          53.400000000001455,
          -53.70000000000073,
          -57.29999999999927,
          30,
          -140.15000000000146,
          206.04999999999927,
          -94.34999999999854,
          84.15000000000146,
          -107.04999999999927,
          61.599999999998545,
          -60.20000000000073,
          -84.09999999999854,
          102.79999999999927,
          164.90000000000146,
          -128.59999999999854,
          210.59999999999854,
          616.3499999999985,
          -88.5,
          -92.90000000000146,
          -222.79999999999927,
          7.049999999999272,
          -52.45000000000073,
          -37.349999999998545,
          70.40000000000146,
          85.15000000000146,
          -169.40000000000146,
          -98.04999999999927,
          62.25,
          -113.79999999999927,
          88.54999999999927,
          -240.84999999999854,
          101.70000000000073,
          -138.84999999999854,
          -71.54999999999927,
          61.20000000000073,
          51.95000000000073,
          83.34999999999854,
          93.34999999999854,
          265.09999999999854,
          -16.5,
          71.54999999999927,
          -118.09999999999854,
          -35.04999999999927,
          -53.5,
          34.75,
          -69.65000000000146,
          214.54999999999927,
          27.950000000000728,
          -105.5,
          49.29999999999927,
          49.79999999999927,
          7.799999999999272,
          -107.84999999999854,
          245.65000000000146,
          99.54999999999927,
          -4,
          -122.09999999999854,
          134.40000000000146,
          46.25,
          -34.349999999998545,
          -91.65000000000146,
          -92.54999999999927,
          -133.45000000000073,
          11.5,
          67.59999999999854,
          -87.84999999999854,
          -98.90000000000146,
          100.45000000000073,
          45.849999999998545,
          -58.95000000000073,
          114.04999999999927,
          -77.84999999999854,
          -325,
          84.09999999999854
         ],
         "high": [
          443.4499999999971,
          100.14999999999418,
          210.5,
          212.65000000000146,
          365.4499999999971,
          49.599999999998545,
          371.25,
          0,
          262.75,
          319.70000000000437,
          136.1999999999971,
          246.09999999999854,
          333.95000000000437,
          33.75,
          126.34999999999854,
          447,
          252.79999999999563,
          718.75,
          168.6999999999971,
          251.5,
          88.75,
          551.0499999999956,
          89,
          164.10000000000582,
          35.099999999998545,
          161.29999999999563,
          71.04999999999563,
          2.3000000000029104,
          53.400000000001455,
          120.84999999999854,
          307.5500000000029,
          99.05000000000291,
          226.5,
          0,
          249.89999999999418,
          117.65000000000146,
          194.34999999999854,
          520.5999999999985,
          814.25,
          900.6500000000015,
          247.8000000000029,
          933.4000000000015,
          35.55000000000291,
          29.450000000004366,
          84.45000000000437,
          114.40000000000146,
          193.14999999999418,
          89.94999999999709,
          284.09999999999854,
          142.60000000000582,
          93.15000000000146,
          282.6999999999971,
          105,
          246.15000000000146,
          32.25,
          311.95000000000437,
          36.200000000004366,
          64.5,
          160.90000000000146,
          331.3500000000058,
          344.5,
          21.25,
          813.1500000000015,
          301.34999999999854,
          99.44999999999709,
          1129.800000000003,
          275.3000000000029,
          69.5,
          88.90000000000146,
          273.54999999999563,
          105.09999999999854,
          336.4499999999971,
          180.5,
          73.20000000000437,
          190.10000000000582,
          311.20000000000437,
          88.09999999999854,
          498.65000000000146,
          170,
          212.9499999999971,
          102.80000000000291,
          155.20000000000437,
          2.9500000000043656,
          209.5500000000029,
          320.1999999999971,
          402.6000000000058,
          146.70000000000437,
          325.0500000000029,
          192,
          41.349999999998545,
          99.85000000000582,
          45,
          223.09999999999854,
          239.9499999999971,
          215.20000000000437,
          53.89999999999418,
          182.09999999999854,
          181.0500000000029,
          34.05000000000291,
          38.75,
          201.34999999999854,
          604.3000000000029,
          1.7000000000043656,
          124.84999999999854,
          88,
          245.59999999999854,
          71.10000000000582,
          17,
          78.90000000000146,
          661.5,
          58.849999999998545,
          86.94999999999709,
          183.29999999999563,
          679.0999999999985,
          124.79999999999563,
          103.65000000000146,
          379.90000000000146,
          116.09999999999854,
          674.1499999999942,
          141.5500000000029,
          264.65000000000146,
          477.09999999999854,
          196.6999999999971,
          1151,
          190.5500000000029,
          287.5500000000029,
          238.8000000000029,
          201.5500000000029,
          99.05000000000291,
          270.1499999999942,
          219.09999999999854,
          373.5,
          498.65000000000146,
          185.3000000000029,
          306.45000000000437,
          1318.0999999999985,
          102.20000000000437,
          144.45000000000437,
          165.1999999999971,
          501.84999999999854,
          234.3000000000029,
          180.8000000000029,
          453.1499999999942,
          173.54999999999563,
          860.9500000000044,
          1089.6000000000058,
          285.5,
          207.4499999999971,
          281.6999999999971,
          568.1000000000058,
          914.4500000000044,
          39.19999999999709,
          26.5,
          379.29999999999563,
          153.1999999999971,
          160.5,
          146.45000000000437,
          219.15000000000146,
          104.09999999999854,
          455,
          282.1999999999971,
          120.79999999999563,
          114.04999999999563,
          412.15000000000146,
          345.4499999999971,
          37.349999999998545,
          311.95000000000437,
          437.75,
          7.19999999999709,
          244.5,
          500.54999999999563,
          305.1499999999942,
          121.39999999999418,
          648.4000000000015,
          540.6500000000015,
          165.5,
          209.65000000000146,
          48.349999999998545,
          120.95000000000437,
          525.5,
          3.1999999999970896,
          338.34999999999854,
          459.09999999999854,
          276.3500000000058,
          419.65000000000146,
          401.75,
          478.6000000000058,
          149.25,
          167.10000000000582,
          21.30000000000291,
          287.09999999999854,
          504.34999999999854,
          55.299999999995634,
          615.75,
          52.69999999999709,
          496.3500000000022,
          107.69999999999709,
          236.75,
          437.5500000000029,
          45.400000000001455,
          65.5,
          346.84999999999854,
          284.25,
          73.5,
          265.34999999999854,
          28.89999999999418,
          205.25,
          409.75,
          266.6499999999942,
          124.89999999999418,
          368.25,
          551.4500000000044,
          230.79999999999563,
          363.25,
          498.54999999999563,
          592.9000000000015,
          172.9499999999971,
          207.60000000000582,
          569.8500000000058,
          565.6500000000015,
          76.25,
          52.099999999998545,
          106.89999999999418,
          600.6000000000058,
          462.59999999999854,
          228.84999999999854,
          229.5,
          43.150000000001455,
          607.6500000000015,
          244.75,
          311.15000000000146,
          108.34999999999854,
          89.20000000000437,
          477.8000000000029,
          64.79999999999563,
          400.25,
          31.25,
          316.75,
          132.6999999999971,
          101.29999999999563,
          513.1999999999971,
          350,
          264.5,
          554.1500000000015,
          157.1999999999971,
          27.94999999999709,
          940.9000000000015,
          911.4500000000044,
          133.65000000000146,
          179.54999999999563,
          45.44999999999709,
          282.1000000000058,
          17,
          324,
          199.90000000000146,
          493.20000000000437,
          54.349999999998545,
          309.9499999999971,
          250.59999999999854,
          175.85000000000582,
          774.8499999999985,
          549.0500000000029,
          220.20000000000437,
          690.5999999999985,
          731.6500000000015,
          265.15000000000146,
          571.6500000000015,
          183,
          171.79999999999563,
          331.3000000000029,
          782.9500000000044,
          623.9500000000044,
          146.04999999999563,
          826.4000000000015,
          654.4000000000015,
          473.1000000000058,
          82.40000000000146,
          165.1999999999971,
          1241.7999999999956,
          132.5500000000029,
          222.59999999999854,
          395.75,
          364.5500000000029,
          46,
          245.5,
          150.59999999999854,
          169.15000000000146,
          545.0499999999956,
          342.25,
          125.44999999999709,
          175.09999999999854,
          1089.4500000000044,
          1190.75,
          92.75,
          218.65000000000146,
          61.849999999998545,
          184.75,
          518.1500000000015,
          404.9499999999971,
          145.70000000000437,
          0,
          131.84999999999854,
          134.59999999999854,
          469.79999999999563,
          467.79999999999563,
          509.9499999999971,
          918.8499999999985,
          336.5500000000029,
          906.9000000000015,
          482.54999999999563,
          201.40000000000146,
          209.45000000000437,
          44.099999999998545,
          570.0499999999956,
          45.75,
          126.80000000000291,
          246.84999999999854,
          186.65000000000146,
          106.75,
          58.94999999999709,
          66.35000000000582,
          154,
          260.1000000000058,
          222.85000000000582,
          70.09999999999854,
          65.80000000000291,
          332.0500000000029,
          733.75,
          91.80000000000291,
          346.6999999999971,
          281.65000000000146,
          542.4499999999971,
          815.3999999999942,
          123.40000000000146,
          38,
          145.89999999999418,
          507.15000000000146,
          661.75,
          8.849999999998545,
          162.04999999999563,
          342.90000000000146,
          13.799999999995634,
          267.70000000000437,
          115.69999999999709,
          16.89999999999418,
          14.10000000000582,
          42.75,
          0,
          65.59999999999854,
          119.54999999999563,
          310.6999999999971,
          430.4499999999971,
          350.6999999999971,
          15.900000000001455,
          112.44999999999709,
          309.5,
          868.3499999999985,
          394.6999999999971,
          523.8999999999942,
          229.10000000000582,
          83.84999999999854,
          153.34999999999854,
          690.4000000000015,
          43.75,
          431.25,
          712.5500000000029,
          198.79999999999563,
          29.650000000001455,
          338.04999999999563,
          286.79999999999563,
          278.54999999999563,
          159,
          207.04999999999563,
          322.34999999999854,
          17.25,
          300.4499999999971,
          158.59999999999854,
          589.5,
          51.5,
          102.29999999999563,
          414.5500000000029,
          183.25,
          774.1500000000015,
          406.1499999999942,
          116.05000000000291,
          116.40000000000146,
          131.6999999999971,
          336.20000000000437,
          127,
          45.400000000001455,
          256.34999999999854,
          307.15000000000146,
          406.25,
          185.40000000000146,
          617.3999999999942,
          168.15000000000146,
          299.8500000000058,
          141.45000000000437,
          594.5500000000029,
          3.2000000000043656,
          160,
          26.400000000001455,
          58.64999999999418,
          160.90000000000146,
          232.5500000000029,
          172.75,
          9.30000000000291,
          362.4499999999971,
          335.65000000000146,
          204.29999999999563,
          21.5,
          831.6500000000015,
          577.6999999999971,
          100.84999999999854,
          40,
          37.849999999998545,
          2.1000000000058208,
          156.79999999999563,
          190.34999999999854,
          339.65000000000146,
          214.54999999999563,
          103,
          276.5500000000029,
          0,
          227.8000000000029,
          218.20000000000437,
          247.79999999999563,
          109.25,
          61.44999999999709,
          207.75,
          245.15000000000146,
          633.8499999999985,
          223.35000000000582,
          166.34999999999854,
          51.650000000001455,
          213,
          17,
          88.75,
          575.2999999999956,
          247.60000000000582,
          25.80000000000291,
          197,
          818.2000000000044,
          52.25,
          262.59999999999854,
          183.75,
          279.34999999999854,
          58.599999999998545,
          19.349999999998545,
          262.0500000000029,
          288.1999999999971,
          15.69999999999709,
          85.04999999999563,
          153.0500000000029,
          187.25,
          144.25,
          74.15000000000146,
          486.8500000000058,
          91,
          556.6000000000058,
          140.79999999999563,
          30.849999999998545,
          346.79999999999563,
          1134.6499999999942,
          141.14999999999418,
          242.20000000000437,
          249.75,
          1069.050000000003,
          127.5,
          30.049999999999272,
          513.3500000000022,
          122.29999999999563,
          217.5,
          55.599999999998545,
          285.0500000000029,
          401.15000000000146,
          198.04999999999927,
          342.84999999999854,
          385.40000000000146,
          912.1999999999971,
          578.1499999999978,
          287.0499999999993,
          657.8000000000029,
          1071,
          162.70000000000073,
          310.84999999999854,
          163.70000000000073,
          257.9500000000007,
          983.6500000000015,
          60.14999999999782,
          335.25,
          152.60000000000582,
          661.9999999999964,
          92,
          48.599999999998545,
          361.15000000000146,
          8.299999999995634,
          374.90000000000146,
          5.599999999998545,
          129.40000000000146,
          75.95000000000437,
          612.1000000000058,
          60.5,
          765,
          182.34999999999854,
          195.4499999999971,
          53.05000000000291,
          0,
          0,
          64.65000000000146,
          371.90000000000146,
          364.8500000000058,
          157.5500000000029,
          740.75,
          700.7000000000044,
          288.90000000000146,
          206.84999999999854,
          96.25,
          469.04999999999563,
          1362.25,
          140.29999999999563,
          254.59999999999854,
          284.6499999999942,
          20,
          289.5,
          216.15000000000146,
          948.5,
          586.2000000000044,
          322.1999999999971,
          184.84999999999854,
          418.34999999999854,
          392.59999999999854,
          980.25,
          864.25,
          352.45000000000437,
          1063.449999999997,
          2328.9500000000044,
          411.2999999999993,
          652.1000000000022,
          50.79999999999927,
          190.39999999999782,
          43.400000000001455,
          109.50000000000364,
          218.5,
          382.0499999999993,
          166.34999999999854,
          35.89999999999782,
          192.25,
          136.90000000000146,
          562.9000000000015,
          8.150000000001455,
          0,
          47.60000000000218,
          142.34999999999854,
          726.5500000000029,
          4.44999999999709,
          87.04999999999927,
          113.59999999999854,
          30.450000000000728,
          352.4499999999971,
          370.2000000000007,
          474.1999999999971,
          380.65000000000146,
          103.65000000000146,
          11.700000000000728,
          12.200000000000728,
          154,
          11.900000000001455,
          0.4499999999970896,
          110.64999999999782,
          256.5,
          64.65000000000146,
          472.2000000000007,
          63.5,
          291.6000000000022,
          588.8999999999978,
          84.09999999999854,
          9.549999999999272,
          74.95000000000073,
          94.84999999999854,
          252.59999999999854,
          175.9499999999971,
          562.2000000000007,
          59.5,
          470.9500000000007,
          324.6000000000022,
          676.8499999999985,
          447,
          66.75,
          411.84999999999854,
          39.150000000001455,
          317.75,
          763.0499999999993,
          506.0499999999993,
          579.3500000000022,
          200.40000000000146,
          351.4500000000007,
          652.7000000000007,
          771.4000000000015,
          187.1999999999971,
          275.59999999999854,
          42.85000000000218,
          521.6000000000022,
          51.5,
          94.95000000000073,
          243.8000000000029,
          379.3999999999978,
          293.5500000000029,
          418.0499999999993,
          426.3500000000022,
          167.5,
          609.5499999999993,
          112.10000000000218,
          234.75,
          591.5,
          300.65000000000146,
          199.25,
          220.45000000000073,
          416.4500000000007,
          608.5,
          144.09999999999854,
          40.599999999998545,
          556.7999999999993,
          323.5,
          56.79999999999927,
          14.25,
          28.099999999998545,
          115.44999999999709,
          30.05000000000291,
          152.45000000000073,
          183.10000000000218,
          311.3500000000022,
          73.95000000000073,
          158.79999999999927,
          212.10000000000218,
          67.89999999999782,
          92.95000000000073,
          72.84999999999854,
          275.6499999999978,
          65.44999999999709,
          157.15000000000146,
          305.8500000000022,
          193.79999999999927,
          976.5,
          192.59999999999854,
          277.8500000000022,
          206.89999999999782,
          460.65000000000146,
          153.34999999999854,
          90,
          103.94999999999709,
          525.75,
          2.4500000000007276,
          0,
          44.75,
          190.59999999999854,
          227.39999999999782,
          247.04999999999927,
          167,
          282.2999999999993,
          249.65000000000146,
          328.09999999999854,
          0,
          76.40000000000146,
          57.54999999999927,
          271.40000000000146,
          292.84999999999854,
          3.4500000000007276,
          0.8499999999985448,
          267.5,
          52.349999999998545,
          222.0500000000029,
          213.15000000000146,
          456.9500000000007,
          218,
          301.25,
          32.10000000000218,
          44.150000000001455,
          114.25,
          245.14999999999782,
          379.6999999999971,
          420.2000000000007,
          128.29999999999927,
          28.549999999999272,
          211.04999999999927,
          707.5,
          126.20000000000073,
          148.5,
          49.60000000000218,
          485.4500000000007,
          0.2000000000007276,
          463.0499999999993,
          586.7000000000007,
          497.5500000000029,
          890.75,
          490.4500000000007,
          138.1999999999971,
          13.69999999999709,
          1218.4000000000015,
          159.75,
          490.5,
          273.34999999999854,
          171.3000000000029,
          682.2999999999993,
          209.45000000000073,
          652.9500000000007,
          495.15000000000146,
          496.4499999999971,
          396.0499999999993,
          531.0999999999985,
          1270.8499999999985,
          144.04999999999927,
          398,
          298.75,
          516.1500000000015,
          138.14999999999782,
          0,
          20.299999999999272,
          182.39999999999782,
          104.5,
          242,
          122.95000000000073,
          125.59999999999854,
          221.20000000000073,
          504.1499999999978,
          75.85000000000218,
          15.700000000000728,
          377.7999999999993,
          907.75,
          314.7000000000007,
          353.9500000000007,
          252.5,
          485.15000000000146,
          499.3999999999978,
          79.40000000000146,
          17.399999999997817,
          471.7999999999993,
          563.1499999999978,
          87.75,
          32.14999999999782,
          435.1499999999978,
          1524.699999999997,
          736,
          1.0499999999992724,
          32.349999999998545,
          158.64999999999782,
          461.7999999999993,
          660.8000000000029,
          1627.5,
          1980.25,
          135.5500000000029,
          584.3500000000022,
          1026.25,
          1606.0999999999985,
          132.20000000000073,
          101.45000000000073,
          12.55000000000291,
          2950,
          47.19999999999709,
          518.7000000000007,
          60.14999999999782,
          397.25,
          304,
          20.700000000000728,
          272.7999999999993,
          90.15000000000146,
          62.54999999999927,
          1.9500000000007276,
          235.39999999999782,
          93.70000000000073,
          35.80000000000291,
          223,
          42.150000000001455,
          31.25,
          124.30000000000291,
          154.8000000000029,
          62.900000000001455,
          147.4499999999971,
          275.75,
          0.1499999999978172,
          1.1500000000014552,
          399.90000000000146,
          303.8999999999978,
          541.6500000000015,
          294.0499999999993,
          192.39999999999782,
          82.95000000000073,
          20.25,
          167.75,
          126.45000000000073,
          116.5,
          335.3500000000022,
          345.0499999999993,
          87.45000000000073,
          192.40000000000146,
          0,
          201.89999999999782,
          178.35000000000218,
          6.150000000001455,
          0,
          183.5500000000029,
          131.5,
          424.4500000000007,
          456.34999999999854,
          253.40000000000146,
          4,
          2.849999999998545,
          332.2999999999993,
          110.09999999999854,
          0,
          126.5,
          302.34999999999854,
          38.44999999999709,
          52.54999999999927,
          121.79999999999927,
          176.5,
          46.69999999999709,
          1.4000000000014552,
          130.9499999999971,
          27.950000000000728,
          329.5,
          354.65000000000146,
          186.1999999999971,
          26.399999999997817,
          216.25,
          86.54999999999927,
          43.150000000001455,
          468.4500000000007,
          16.5,
          15.799999999999272,
          12.799999999999272,
          175.34999999999854,
          84.04999999999927,
          157.5,
          526.5,
          4.600000000002183,
          49.900000000001455,
          179.3000000000029,
          252.89999999999782,
          166.75,
          253.04999999999927,
          173.40000000000146,
          113.75,
          540.5499999999993,
          537.1000000000022,
          98.75,
          473.7999999999993,
          49.45000000000073,
          191.14999999999782,
          212.84999999999854,
          247,
          145.39999999999782,
          470.0500000000029,
          39.04999999999927,
          223.4499999999971,
          88.90000000000146,
          164.95000000000073,
          273.75,
          294.7000000000007,
          452.7000000000007,
          69.89999999999782,
          437,
          314.90000000000146,
          358.5,
          9.799999999999272,
          956.0499999999993,
          275.25,
          48.39999999999782,
          162.39999999999782,
          300.25,
          79.60000000000218,
          137.70000000000073,
          1077.7999999999993,
          38.54999999999927,
          236.09999999999854,
          761.8999999999978,
          2540.2999999999993,
          0,
          109.75,
          86.30000000000291,
          198.70000000000073,
          354.84999999999854,
          191.5,
          190.60000000000218,
          325.2000000000007,
          324.5499999999993,
          157,
          492.75,
          7.849999999998545,
          178.59999999999854,
          24.099999999998545,
          15.299999999999272,
          171.40000000000146,
          331.2999999999993,
          371.9500000000007,
          0,
          77.90000000000146,
          51.85000000000218,
          137.65000000000146,
          330.75,
          221.54999999999927,
          2.0499999999992724,
          309.09999999999854,
          387.4500000000007,
          121.70000000000073,
          629.9000000000015,
          25.349999999998545,
          320.2999999999993,
          159.20000000000073,
          404.2999999999993,
          95.45000000000073,
          9.5,
          316.59999999999854,
          259.75,
          166.95000000000073,
          23.349999999998545,
          18.100000000002183,
          28.650000000001455,
          63.54999999999927,
          177.45000000000073,
          102.34999999999854,
          6.850000000002183,
          81.20000000000073,
          81.04999999999927,
          110.29999999999927,
          168.6999999999971,
          23.55000000000291,
          137.70000000000073,
          137.34999999999854,
          119.45000000000073,
          16.69999999999709,
          179.34999999999854,
          27.900000000001455,
          298.5,
          393.5,
          345.59999999999854,
          102.70000000000073,
          0,
          434.34999999999854,
          172.65000000000146,
          251.20000000000073,
          32.04999999999927,
          49.20000000000073,
          160.15000000000146,
          3,
          227.09999999999854,
          108.20000000000073,
          196.4499999999971,
          17.549999999999272,
          219.79999999999927,
          268.5499999999993,
          104.69999999999709,
          362.40000000000146,
          87.5,
          1.1000000000021828,
          465.84999999999854,
          589.9000000000015,
          742.2000000000007,
          264.4499999999971,
          64.60000000000218,
          597.4499999999971,
          678.0499999999993,
          321.6999999999971,
          57.70000000000073,
          339.5499999999993,
          22.399999999997817,
          275.25,
          146.34999999999854,
          0,
          85.95000000000073,
          130.90000000000146,
          310.09999999999854,
          219.54999999999927,
          0,
          283.3500000000022,
          130.65000000000146,
          364.34999999999854,
          144.54999999999927,
          7.400000000001455,
          13.299999999999272,
          354.7000000000007,
          179.59999999999854,
          220.40000000000146,
          10.400000000001455,
          239.15000000000146,
          263.5499999999993,
          30.549999999999272,
          171.15000000000146,
          98.40000000000146,
          161.70000000000073,
          2.8000000000029104,
          110.5,
          18.80000000000291,
          431.25,
          228.39999999999782,
          649.75,
          0,
          87.34999999999854,
          115.54999999999927,
          97.15000000000146,
          290.40000000000146,
          513.7000000000007,
          41.44999999999709,
          447.40000000000146,
          319.8999999999978,
          195.5,
          125.19999999999709,
          154.5,
          63.55000000000291,
          512.5999999999985,
          135.54999999999927,
          42.5,
          111.35000000000218,
          273.4500000000007,
          262.8999999999978,
          37.29999999999927,
          106.15000000000146,
          199.5,
          329.90000000000146,
          75.35000000000218,
          12.75,
          52,
          39.150000000001455,
          119.75,
          65.40000000000146,
          179.4499999999971,
          165.65000000000146,
          102.45000000000073,
          122.20000000000073,
          269.7999999999993,
          198.5,
          355.8999999999978,
          126.5,
          127.59999999999854,
          92.75,
          172.09999999999854,
          68.84999999999854,
          71.60000000000218,
          6.799999999999272,
          107.65000000000146,
          26.400000000001455,
          42.95000000000073,
          149.09999999999854,
          130,
          0.5999999999985448,
          9.650000000001455,
          0,
          103.20000000000073,
          240.5,
          99.14999999999782,
          274.7999999999993,
          24.600000000002183,
          100.54999999999927,
          199.14999999999782,
          18.700000000000728,
          165.04999999999927,
          39.29999999999927,
          395.15000000000146,
          57.79999999999927,
          107.84999999999854,
          180.4499999999971,
          135.29999999999927,
          292.75,
          135.95000000000073,
          98.15000000000146,
          107.29999999999927,
          386.4500000000007,
          625.6500000000015,
          262.5499999999993,
          352.2999999999993,
          20.80000000000291,
          55.25,
          34.29999999999927,
          4.19999999999709,
          3.400000000001455,
          362.15000000000146,
          95.29999999999927,
          205.15000000000146,
          300.59999999999854,
          90.29999999999927,
          236.59999999999854,
          47.900000000001455,
          14.5,
          127.40000000000146,
          251.39999999999782,
          92.64999999999782,
          374.5,
          91.04999999999927,
          80.20000000000073,
          6.30000000000291,
          113.34999999999854,
          56.650000000001455,
          310.90000000000146,
          116.39999999999782,
          377.5,
          196.75,
          375.7999999999993,
          0.10000000000218279,
          135.84999999999854,
          44.20000000000073,
          337.6999999999971,
          20.5,
          311.40000000000146,
          76.25,
          292.84999999999854,
          22.200000000000728,
          482.25,
          398.34999999999854,
          774.5500000000029,
          56.25,
          274.59999999999854,
          338.5499999999993,
          158.25,
          179.5,
          468.25,
          218.90000000000146,
          10.400000000001455,
          0,
          459.25,
          4.650000000001455,
          159.35000000000218,
          79.59999999999854,
          144.04999999999927,
          0,
          145.90000000000146,
          0,
          23.25,
          9.649999999997817,
          73.25,
          88.54999999999927,
          97,
          29.600000000002183,
          3.75,
          159.34999999999854,
          0,
          110.69999999999709,
          8.75,
          346.5,
          168.5,
          3.5,
          10.100000000002183,
          150.64999999999782,
          186.40000000000146,
          176.9499999999971,
          188.64999999999782,
          151.04999999999927,
          28.950000000000728,
          189.75,
          198.10000000000218,
          15.25,
          224.45000000000073,
          251.04999999999927,
          18.400000000001455,
          135.35000000000218,
          42,
          106.04999999999927,
          163.25,
          400.3999999999978,
          81.45000000000073,
          143.84999999999854,
          338.7999999999993,
          182.14999999999782,
          65.25,
          79.80000000000291,
          378.5,
          24.549999999999272,
          55.5,
          227.29999999999927,
          38.19999999999709,
          95,
          138.85000000000218,
          182.29999999999927,
          116.90000000000146,
          231.25,
          106,
          7.149999999997817,
          152.29999999999927,
          89.75,
          18,
          216.9499999999971,
          86.75,
          288.1499999999978,
          37.650000000001455,
          254.29999999999927,
          0,
          33.20000000000073,
          72.70000000000073,
          10.950000000000728,
          43.5,
          89.85000000000218,
          179.79999999999927,
          23.75,
          189,
          158.29999999999927,
          79.40000000000146,
          23.849999999998545,
          83.39999999999782,
          577.5499999999993,
          365.5499999999993,
          3.7000000000007276,
          422,
          258.7999999999993,
          350.1999999999971,
          176.95000000000073,
          165.40000000000146,
          49.25,
          6.400000000001455,
          50.349999999998545,
          159,
          477.1499999999978,
          160.95000000000073,
          263.5499999999993,
          50.30000000000291,
          218.40000000000146,
          42.099999999998545,
          237.25,
          48.10000000000218,
          105.54999999999927,
          109.70000000000073,
          127.34999999999854,
          411.34999999999854,
          230.79999999999927,
          0,
          151.25,
          18.650000000001455,
          0,
          0.8499999999985448,
          0,
          18.799999999999272,
          266.4500000000007,
          171.64999999999782,
          167.89999999999782,
          8.700000000000728,
          126.30000000000291,
          304,
          157.25,
          430.4500000000007,
          163.79999999999927,
          252.04999999999927,
          137.75,
          61.5,
          100.54999999999927,
          615.75,
          10.649999999997817,
          61.45000000000073,
          128.45000000000073,
          221.70000000000073,
          57.89999999999782,
          31.69999999999709,
          85.54999999999927,
          264.6499999999978,
          385.0500000000029,
          272.4500000000007,
          7.799999999999272,
          260.59999999999854,
          39.55000000000291,
          76.15000000000146,
          41.70000000000073,
          203.70000000000073,
          76.70000000000073,
          38.95000000000073,
          270.15000000000146,
          342.90000000000146,
          174.34999999999854,
          3.100000000002183,
          52.54999999999927,
          1.4500000000007276,
          89.04999999999927,
          254.25,
          0,
          227.75,
          132,
          366.5500000000029,
          13,
          1000.5,
          246.9499999999971,
          0.1499999999978172,
          278.65000000000146,
          319.5,
          3.400000000001455,
          205.95000000000073,
          108.75,
          169.09999999999854,
          332.09999999999854,
          134.40000000000146,
          342.1999999999971,
          125.40000000000146,
          389.6999999999971,
          7.25,
          233.64999999999782,
          42.75,
          66.45000000000073,
          7.69999999999709,
          75.84999999999854,
          81.25,
          118.89999999999782,
          122.69999999999709,
          29.150000000001455,
          43.29999999999927,
          22.25,
          81.55000000000291,
          98.35000000000218,
          80.35000000000218,
          53.20000000000073,
          78.90000000000146,
          21.700000000000728,
          1,
          117.04999999999927,
          578.1500000000015,
          71.89999999999782,
          143.5,
          152.54999999999927,
          2.7999999999992724,
          14.099999999998545,
          222.20000000000073,
          162.10000000000218,
          11.150000000001455,
          186.95000000000073,
          2.150000000001455,
          31.799999999999272,
          7.049999999999272,
          48.099999999998545,
          123.04999999999927,
          238.79999999999927,
          72.40000000000146,
          12.25,
          26.299999999999272,
          41.79999999999927,
          69.45000000000073,
          49.20000000000073,
          203.14999999999782,
          76.39999999999782,
          52.25,
          41.29999999999927,
          347.6499999999978,
          104.20000000000073,
          59.79999999999927,
          26.650000000001455,
          125.59999999999854,
          164.09999999999854,
          90.34999999999854,
          352.0499999999993,
          36.55000000000291,
          191.1999999999971,
          108.10000000000218,
          232.09999999999854,
          177.14999999999782,
          151.29999999999927,
          65.54999999999927,
          16.899999999997817,
          99.90000000000146,
          111.90000000000146,
          63.25,
          368.65000000000146,
          241.95000000000073,
          48.79999999999927,
          74.95000000000073,
          101.54999999999927,
          158.5,
          73.54999999999927,
          106.29999999999927,
          26.200000000000728,
          113.45000000000073,
          270.15000000000146,
          23.149999999997817,
          131.35000000000218,
          2.25,
          5.150000000001455,
          58.400000000001455,
          67.94999999999709,
          43.70000000000073,
          157.1999999999971,
          76.54999999999927,
          137.04999999999927,
          130.45000000000073,
          42.19999999999709,
          266.84999999999854,
          9.75,
          88.25,
          138.89999999999782,
          115.45000000000073,
          3.0499999999992724,
          105.14999999999782,
          0,
          131.04999999999927,
          18.950000000000728,
          71.20000000000073,
          36.29999999999927,
          265.0499999999993,
          46.85000000000218,
          118.40000000000146,
          4.850000000002183,
          1,
          272.4500000000007,
          161.10000000000218,
          232.95000000000073,
          26.450000000000728,
          13.150000000001455,
          23.849999999998545,
          125.19999999999709,
          250.20000000000073,
          2.3000000000029104,
          8.399999999997817,
          26.650000000001455,
          287.5,
          115.20000000000073,
          174.75,
          142.75,
          1.75,
          152.84999999999854,
          57.89999999999782,
          128.9499999999971,
          111.54999999999927,
          189.29999999999927,
          54.69999999999709,
          14.150000000001455,
          120.75,
          112.79999999999927,
          0,
          381.5499999999993,
          28.849999999998545,
          140.65000000000146,
          138.4499999999971,
          37.54999999999927,
          89.75,
          116.84999999999854,
          163.59999999999854,
          113,
          3.149999999997817,
          14.200000000000728,
          181,
          122.59999999999854,
          39.75,
          235.3000000000029,
          79.05000000000291,
          28.599999999998545,
          7.5,
          168.20000000000073,
          19.94999999999709,
          224.70000000000073,
          28.75,
          123.30000000000291,
          13.049999999999272,
          97.29999999999927,
          18.099999999998545,
          2.0500000000029104,
          148.25,
          195.0500000000029,
          153.40000000000146,
          256.9499999999971,
          694.1499999999978,
          48.900000000001455,
          65.5,
          43.54999999999927,
          140.29999999999927,
          84.09999999999854,
          5.80000000000291,
          86.5,
          155.85000000000218,
          18.75,
          61.79999999999927,
          91.65000000000146,
          14.549999999999272,
          156.70000000000073,
          8.700000000000728,
          125.40000000000146,
          3.150000000001455,
          79.60000000000218,
          86.20000000000073,
          106.79999999999927,
          117.39999999999782,
          132.59999999999854,
          292.9499999999971,
          47.04999999999927,
          139.39999999999782,
          32.20000000000073,
          240.95000000000073,
          42.79999999999927,
          107.59999999999854,
          51.44999999999709,
          231.89999999999782,
          60.04999999999927,
          80.34999999999854,
          101.29999999999927,
          97.09999999999854,
          26.25,
          22.30000000000291,
          321.65000000000146,
          127.14999999999782,
          35.95000000000073,
          1.1000000000021828,
          186.5,
          86,
          83.65000000000146,
          35.849999999998545,
          0,
          27.599999999998545,
          52.29999999999927,
          127.5,
          84.60000000000218,
          51.04999999999927,
          159.70000000000073,
          85.04999999999927,
          15.299999999999272,
          178.54999999999927,
          7.600000000002183,
          20,
          134.84999999999854
         ],
         "low": [
          -2,
          -218.95000000000437,
          -210.9499999999971,
          -260.34999999999854,
          -283.65000000000146,
          -198.1999999999971,
          -233.34999999999854,
          -570.1999999999971,
          -515.5999999999985,
          -448.54999999999563,
          -843.25,
          -389.8000000000029,
          -901.5,
          -463.5500000000029,
          -324.5500000000029,
          -78,
          -159.25,
          -66.05000000000291,
          -291.65000000000146,
          -131.90000000000146,
          -229.6999999999971,
          -75,
          -440.1999999999971,
          -383.4499999999971,
          -595.1500000000015,
          -276.65000000000146,
          -641.4500000000044,
          -631.3000000000029,
          -403.75,
          -219,
          -214.6999999999971,
          -405.59999999999854,
          -27.5,
          -381.0500000000029,
          -139,
          -418,
          -268.95000000000437,
          -409.59999999999854,
          -181.90000000000146,
          -1624.5,
          -396.15000000000146,
          -436.34999999999854,
          -1233.5499999999956,
          -1163.2999999999956,
          -378.79999999999563,
          -163.75,
          -149.90000000000146,
          -181.40000000000146,
          -152.15000000000146,
          -380.09999999999854,
          -555.9499999999971,
          -285.65000000000146,
          -495.5500000000029,
          -342.84999999999854,
          -806.25,
          -218.29999999999563,
          -772.6999999999971,
          -774.4500000000044,
          -558.8499999999985,
          -3,
          -76.5,
          -568.5999999999985,
          -195.09999999999854,
          -38.75,
          -433.59999999999854,
          -146.90000000000146,
          -353.6999999999971,
          -632.6500000000015,
          -1161.949999999997,
          -197.25,
          -236.04999999999563,
          -181.1999999999971,
          -561,
          -90.65000000000146,
          -25.94999999999709,
          -77.04999999999563,
          -403.6000000000058,
          -46.94999999999709,
          -208.90000000000146,
          -17.5,
          -284.34999999999854,
          -38.89999999999418,
          -410.25,
          -242.6999999999971,
          0,
          -17.19999999999709,
          -327.5,
          -68.69999999999709,
          -112.15000000000146,
          -120.25,
          -84.39999999999418,
          -322.0500000000029,
          -33.099999999998545,
          -75.5,
          -155.29999999999563,
          -212.10000000000582,
          -245.3000000000029,
          -144.25,
          -246.9499999999971,
          -403.59999999999854,
          -263.6999999999971,
          -54.549999999995634,
          -412.15000000000146,
          -363.84999999999854,
          -159.59999999999854,
          -397.5,
          -262.04999999999563,
          -492.20000000000437,
          -147.1999999999971,
          -15.30000000000291,
          -300.65000000000146,
          -361.45000000000437,
          -112.20000000000437,
          -148.90000000000146,
          -249.75,
          -519.7000000000044,
          -177.79999999999563,
          -436.09999999999854,
          -123.25,
          -286,
          -110.79999999999563,
          -103.5,
          -481.65000000000146,
          -273.65000000000146,
          -556.1999999999971,
          -455.0500000000029,
          -626.7999999999956,
          -535.6500000000015,
          -1016.6500000000015,
          -528.8500000000058,
          -393.4499999999971,
          -96.84999999999854,
          -175.6999999999971,
          -475.1499999999942,
          -380.1999999999971,
          -19.900000000001455,
          -108.15000000000146,
          -162.54999999999563,
          -240.4499999999971,
          -57.5,
          -79.5,
          -328.6499999999942,
          -4.650000000001455,
          -221.85000000000582,
          -3.3999999999941792,
          -44.25,
          -167.75,
          -282.84999999999854,
          -386.3500000000058,
          -0.5,
          -4.599999999998545,
          -446.40000000000146,
          -884.25,
          -33.25,
          -148.5,
          -164.1999999999971,
          -202.5,
          -64.04999999999563,
          -143.54999999999563,
          -165.90000000000146,
          -88.34999999999854,
          -861.5500000000029,
          -261.6000000000058,
          -135.39999999999418,
          -186.95000000000437,
          -496.15000000000146,
          -73.94999999999709,
          -121.95000000000437,
          -354.45000000000437,
          -302.04999999999563,
          -36.55000000000291,
          -139.20000000000437,
          -184.75,
          -2.75,
          -37.44999999999709,
          -270.54999999999563,
          -259.5,
          -502.20000000000437,
          -251.1999999999971,
          -11.049999999995634,
          -281.15000000000146,
          -74.30000000000291,
          -53.25,
          -327.6999999999971,
          -43.25,
          -184.3000000000029,
          -1.0999999999985448,
          -88.30000000000291,
          -74.89999999999418,
          -390.6999999999971,
          -43.950000000004366,
          -275.25,
          -293.5,
          -180.5,
          -447,
          -102.90000000000146,
          -1110.8500000000022,
          -68.25,
          -56.69999999999709,
          -518.3000000000029,
          -340.29999999999563,
          -143.15000000000146,
          -333.90000000000146,
          -246.40000000000146,
          -86.84999999999854,
          -754.4500000000044,
          -85.94999999999709,
          -73.5,
          -326.3500000000058,
          -210.35000000000582,
          -34.650000000001455,
          -245.84999999999854,
          -206,
          -107.39999999999418,
          -204.0500000000029,
          -107.09999999999854,
          -280.40000000000146,
          -313.5,
          -115.59999999999854,
          -254.25,
          -918.0499999999956,
          -991.4499999999971,
          -543.1000000000058,
          -4.399999999994179,
          -164.5500000000029,
          -215.90000000000146,
          -571.5499999999956,
          -1138.300000000003,
          -9.400000000001455,
          -495.1000000000058,
          -238.84999999999854,
          -320.40000000000146,
          -249.4499999999971,
          -280.9499999999971,
          -522.6500000000015,
          -117.40000000000146,
          -368.54999999999563,
          -880.5,
          -391.8000000000029,
          -479.1000000000058,
          -142.95000000000437,
          -67.30000000000291,
          -214.5,
          -74.94999999999709,
          -197.45000000000437,
          -795.3500000000058,
          -159.39999999999418,
          -56,
          -179.04999999999563,
          -171,
          -425.1999999999971,
          -472.3999999999942,
          -496.5500000000029,
          -212,
          -562.9499999999971,
          -590.8499999999985,
          -645.6500000000015,
          -40.349999999998545,
          -94.19999999999709,
          -761.8999999999942,
          -35.19999999999709,
          -236.6999999999971,
          -935.8999999999942,
          -330,
          -376.5500000000029,
          -901.6500000000015,
          -432,
          -900,
          -484.45000000000437,
          -327.04999999999563,
          -133.5,
          -1093.8499999999985,
          -310.5500000000029,
          -14.900000000001455,
          -243.1999999999971,
          -40,
          -616.5,
          -533.6999999999971,
          -337.95000000000437,
          -835.9499999999971,
          -171.25,
          -281.4499999999971,
          -91.59999999999854,
          -857.0499999999956,
          -789.3500000000058,
          -565.4000000000015,
          -394.54999999999563,
          -88.90000000000146,
          -769.8499999999985,
          -443.95000000000437,
          -665.0999999999985,
          -45.94999999999709,
          -182.45000000000437,
          -1226.5999999999985,
          -298.09999999999854,
          -514.25,
          -376.5,
          -242,
          -74.30000000000291,
          -294.59999999999854,
          -341.40000000000146,
          -115,
          -338.25,
          -1.2000000000043656,
          -239.25,
          -184.10000000000582,
          -187.20000000000437,
          -176.84999999999854,
          -58.599999999998545,
          -0.6500000000014552,
          -226.40000000000146,
          -278.04999999999563,
          -270.40000000000146,
          -340.65000000000146,
          -698.7999999999956,
          -304.25,
          -177.65000000000146,
          -473.40000000000146,
          -1105.9000000000015,
          -956.75,
          -707.1999999999971,
          -186.3000000000029,
          -233.54999999999563,
          -496.29999999999563,
          -258.75,
          -447.3000000000029,
          -147.59999999999854,
          -73,
          -556,
          -434.45000000000437,
          -115.15000000000146,
          -97.90000000000146,
          -432.45000000000437,
          -896.5499999999956,
          -926.8000000000029,
          -243.65000000000146,
          -146.6999999999971,
          -139.4499999999971,
          -1576.75,
          -323.45000000000437,
          -132.20000000000437,
          -499.8000000000029,
          -242.84999999999854,
          -239.34999999999854,
          -567,
          -332.3999999999942,
          -294.4499999999971,
          -741.9000000000015,
          -154.9499999999971,
          -735.8000000000029,
          -206.20000000000437,
          -311.5,
          -997.9000000000015,
          -1564.9500000000044,
          -484.5500000000029,
          -228.59999999999854,
          -453.15000000000146,
          -43.099999999998545,
          -248.45000000000437,
          -252.64999999999418,
          -533.0500000000029,
          -224.6999999999971,
          -11.650000000001455,
          -232.60000000000582,
          -33.75,
          -38.099999999998545,
          -232.0500000000029,
          -243.75,
          -316.8000000000029,
          -135.0500000000029,
          -36.55000000000291,
          -264.0500000000029,
          -323.5500000000029,
          -230.04999999999563,
          -1044.800000000003,
          -86.55000000000291,
          -274,
          -25.099999999998545,
          -391.5,
          -712.4500000000044,
          -319.75,
          -533.4499999999971,
          -38.25,
          -47.5,
          -110.29999999999563,
          -281.3999999999942,
          -158.8000000000029,
          -126.09999999999854,
          -406.90000000000146,
          -323.8000000000029,
          -320.45000000000437,
          -119.40000000000146,
          -104.29999999999563,
          -151.20000000000437,
          -59.150000000001455,
          -200.5,
          -74.14999999999418,
          -269.1999999999971,
          -130.75,
          -606.6999999999971,
          -220,
          -790.5,
          -323.20000000000437,
          -68.25,
          -63.650000000001455,
          -122.5,
          -686.9000000000015,
          -64.05000000000291,
          -211.89999999999418,
          -175.35000000000582,
          -432.6499999999942,
          -75.15000000000146,
          -11.55000000000291,
          -172.65000000000146,
          -253.34999999999854,
          -245.10000000000582,
          -724.25,
          -315.75,
          -278.29999999999563,
          -343.59999999999854,
          -216.70000000000437,
          -433.8000000000029,
          -171.3000000000029,
          -303.1999999999971,
          -131.75,
          -151.09999999999854,
          -139.35000000000582,
          -224.70000000000437,
          -303.84999999999854,
          -468.59999999999854,
          -122.94999999999709,
          -8.049999999995634,
          -84.54999999999563,
          -95.5,
          -215.0500000000029,
          -271.45000000000437,
          -406.75,
          -251.75,
          -0.8000000000029104,
          -95.34999999999854,
          -386.40000000000146,
          -420.5500000000029,
          -171.9499999999971,
          -826.2000000000044,
          -161.70000000000437,
          -280.0500000000029,
          -120.15000000000146,
          -562.2000000000044,
          -433.34999999999854,
          -169.1999999999971,
          -473.0500000000029,
          -471.15000000000146,
          -122.25,
          -481.6999999999971,
          -123.44999999999709,
          -201.29999999999563,
          -398.5500000000029,
          -167.34999999999854,
          -368.45000000000437,
          -134.5,
          -294.65000000000146,
          -684.5999999999985,
          -341,
          -0.05000000000291038,
          -418.6000000000058,
          -108.84999999999854,
          -162.65000000000146,
          -119.14999999999782,
          -379.65000000000146,
          -365.3500000000022,
          -29.25,
          -147.15000000000146,
          -270.3000000000029,
          -336.75,
          -508.5499999999993,
          -419,
          -462,
          -449,
          -597,
          -25.19999999999709,
          -76,
          -171.85000000000218,
          -113.44999999999709,
          -208.25,
          -677.9500000000007,
          -587.7999999999993,
          -249.54999999999927,
          -522.6999999999971,
          -178.95000000000073,
          -1117.6000000000022,
          -306.9500000000007,
          -449.4499999999971,
          -388.15000000000146,
          -577.25,
          -1319,
          -379.25,
          -613,
          -51.349999999998545,
          -438.95000000000437,
          -1005.5,
          -691.2999999999956,
          -125.94999999999709,
          -699.25,
          -229.40000000000146,
          -979.9499999999971,
          -778.2000000000044,
          -607.4000000000015,
          -1113.5999999999985,
          -1309.2999999999956,
          -347.90000000000146,
          -160.95000000000437,
          -371.6999999999971,
          -565.25,
          -56.400000000001455,
          -183.89999999999418,
          -455.70000000000437,
          -390.5,
          -1147.9500000000044,
          -269.15000000000146,
          -144.75,
          -564.5500000000029,
          -776.75,
          -786.9500000000044,
          -721.3000000000029,
          -277.6999999999971,
          -729.8499999999985,
          -96.30000000000291,
          -36.349999999998545,
          -113.94999999999709,
          -614.1999999999971,
          -421.95000000000437,
          -201.59999999999854,
          -89.94999999999709,
          -310,
          -543.6999999999971,
          -5.900000000001455,
          -69.89999999999782,
          -446.1000000000022,
          -124.59999999999854,
          -1070.5999999999985,
          -493.5,
          -968.0999999999985,
          -747.25,
          -66.04999999999927,
          -218.95000000000073,
          -624.25,
          -464.5500000000029,
          -84.35000000000218,
          -398.34999999999854,
          -109.20000000000073,
          -443.34999999999854,
          -295.09999999999854,
          -218.29999999999927,
          -291.7999999999993,
          -105.54999999999927,
          -591.5,
          -109.04999999999927,
          -207.8000000000029,
          -472.6499999999978,
          -4.30000000000291,
          -20.69999999999709,
          -63.85000000000218,
          -114.75,
          -630.75,
          -1394.5999999999985,
          -467.34999999999854,
          -147.29999999999927,
          -333.25,
          -459.65000000000146,
          -110.90000000000146,
          -226.84999999999854,
          -343.25,
          -8.349999999998545,
          -275.09999999999854,
          -112,
          -99.90000000000146,
          -349.5,
          -726.7999999999993,
          -333.7999999999993,
          -253.29999999999927,
          -447.3000000000029,
          -889.6000000000022,
          -58.849999999998545,
          -579.8999999999978,
          -354.84999999999854,
          -483.0499999999993,
          -51.150000000001455,
          -69.34999999999854,
          -253.85000000000218,
          -405.40000000000146,
          -567.7000000000007,
          -502.0500000000029,
          -122.54999999999927,
          -20,
          -138.79999999999927,
          -174.75,
          -397.5499999999993,
          -22.299999999999272,
          -247,
          -477.4500000000007,
          -241.45000000000073,
          -679.8999999999978,
          -363.84999999999854,
          -658.0499999999993,
          -308.3500000000022,
          -197.14999999999782,
          -344.3500000000022,
          -77.5,
          -148.0500000000029,
          -70.89999999999782,
          -949.3999999999978,
          -203.70000000000073,
          -231.54999999999927,
          -403,
          -180.14999999999782,
          -86.65000000000146,
          -229.15000000000146,
          -152,
          -104.84999999999854,
          -21.099999999998545,
          -276.75,
          -490.3000000000029,
          -96.95000000000073,
          -310.09999999999854,
          -493.8999999999978,
          -529.7999999999993,
          -486.7999999999993,
          -709.1000000000022,
          -654.4499999999971,
          -84.95000000000073,
          -259.7999999999993,
          -140.45000000000073,
          -655.1999999999971,
          -304,
          -241.29999999999927,
          -406.2999999999993,
          -329.7999999999993,
          -320,
          -242.25,
          -534.5,
          -286.4500000000007,
          -420.6499999999978,
          -1653.5,
          -36.099999999998545,
          -47.29999999999927,
          -82.39999999999782,
          -115.5,
          -26.799999999999272,
          -25.650000000001455,
          -103.20000000000073,
          -81.15000000000146,
          -72.59999999999854,
          -503.7999999999993,
          -875.8500000000022,
          -255.60000000000218,
          -145.75,
          -10.350000000002183,
          -29.80000000000291,
          -168.95000000000073,
          -273.9500000000007,
          -238.4499999999971,
          -190.5,
          -512.3499999999985,
          -355.5499999999993,
          -614.8999999999978,
          -168.65000000000146,
          -328.75,
          -863.25,
          -436,
          -119.94999999999709,
          -500.7999999999993,
          -41.89999999999782,
          -119.5,
          -57.25,
          -425.40000000000146,
          -403.7000000000007,
          -655.1499999999978,
          -631.5999999999985,
          -400.90000000000146,
          -79.75,
          -201.40000000000146,
          -213.95000000000073,
          -99.90000000000146,
          -333.75,
          -243.29999999999927,
          -72.25,
          -312.2999999999993,
          -265.09999999999854,
          -414.9500000000007,
          -291.59999999999854,
          -1143,
          -211.45000000000073,
          -66,
          -91.84999999999854,
          -107.25,
          -159.29999999999927,
          -993.6000000000022,
          -716.9500000000007,
          -3.2000000000007276,
          -626.4000000000015,
          -89.40000000000146,
          -665.7999999999993,
          -724.8499999999985,
          -91.35000000000218,
          -616.1499999999978,
          -144.59999999999854,
          -268.0499999999993,
          -96,
          -232.09999999999854,
          -105.5,
          -43.05000000000291,
          -226.40000000000146,
          -449.25,
          -243.40000000000146,
          -78.79999999999927,
          -646.5,
          -1280.8999999999978,
          -415.1499999999978,
          -172.95000000000073,
          -587.8499999999985,
          -464.40000000000146,
          -709.5499999999993,
          -558.9500000000007,
          -203.89999999999782,
          -361.4500000000007,
          -934.9500000000007,
          -871.1500000000015,
          -235.54999999999927,
          -46.75,
          -175.79999999999927,
          -23.149999999997817,
          -182.25,
          -286.9499999999971,
          -255,
          -564.0999999999985,
          -660.4500000000007,
          -665.4500000000007,
          -253.70000000000073,
          -1319.5999999999985,
          -560.9000000000015,
          -386.25,
          -316.5,
          -500.7999999999993,
          -1181.8499999999985,
          -1080.1500000000015,
          -515.25,
          -585.75,
          -1221.5,
          -417.34999999999854,
          -124.45000000000073,
          -1589.5999999999985,
          -1520.25,
          -633.2999999999993,
          -753.2999999999993,
          -2143.899999999998,
          -1346.0499999999993,
          -1053.3499999999985,
          -1369.0499999999993,
          -1639.550000000003,
          -38.650000000001455,
          -1108.0499999999993,
          -487.65000000000146,
          -294.7000000000007,
          -1127.7999999999993,
          -263,
          -1129.2999999999993,
          -450.0499999999993,
          -355.84999999999854,
          -148.20000000000073,
          -187.04999999999927,
          -238.34999999999854,
          -159.84999999999854,
          -298.84999999999854,
          -409.0499999999993,
          -243.34999999999854,
          -505.75,
          -405.9500000000007,
          -43,
          -4.299999999999272,
          -291.4500000000007,
          -256,
          -153.5,
          -131.10000000000218,
          -52.849999999998545,
          -199.20000000000073,
          -973.2000000000007,
          -258.7000000000007,
          -367.9500000000007,
          -79.29999999999927,
          -265.65000000000146,
          -302,
          -161.04999999999927,
          -120.85000000000218,
          -447.59999999999854,
          -120.25,
          -873,
          -126.15000000000146,
          -118.14999999999782,
          -324.40000000000146,
          -207.25,
          -65.04999999999927,
          -262.2999999999993,
          -81.09999999999854,
          -95.95000000000073,
          -397.1499999999978,
          -739.9000000000015,
          -366.5499999999993,
          -11.75,
          -180.70000000000073,
          -237.20000000000073,
          -238.09999999999854,
          -86.25,
          -312.90000000000146,
          -91.75,
          -184.15000000000146,
          -67.39999999999782,
          -196.60000000000218,
          -274.9500000000007,
          -95.05000000000291,
          -261.25,
          -5.049999999999272,
          -4.700000000000728,
          -155.25,
          -260.40000000000146,
          -199.35000000000218,
          -546.5,
          -455.5,
          -105.29999999999927,
          -417.1499999999978,
          -287.7000000000007,
          -303.3500000000022,
          -75.79999999999927,
          -98.25,
          -227,
          -15.349999999998545,
          -334.3999999999978,
          -170.25,
          -86.79999999999927,
          -70.85000000000218,
          -134.95000000000073,
          -51.70000000000073,
          -277.4500000000007,
          -596.6500000000015,
          -38.85000000000218,
          -67.25,
          -260.0499999999993,
          -211.54999999999927,
          -311.90000000000146,
          -188.65000000000146,
          -167.25,
          -181.5,
          -252.70000000000073,
          -142.14999999999782,
          -158.60000000000218,
          -304.8500000000022,
          -610.1499999999978,
          -264.7999999999993,
          -185.04999999999927,
          -90.70000000000073,
          -108.39999999999782,
          -384.0499999999993,
          -71.59999999999854,
          -195.25,
          -508.75,
          -628.7999999999993,
          -199.60000000000218,
          -341.5500000000029,
          -1028.2000000000007,
          -365.90000000000146,
          -1148.800000000003,
          -731.3499999999985,
          -263.6000000000022,
          -13.549999999999272,
          -558.9500000000007,
          -542.4500000000007,
          -263.1000000000022,
          -151.10000000000218,
          -532.4500000000007,
          -215.90000000000146,
          -717.1499999999978,
          -69.15000000000146,
          -198.54999999999927,
          -106.09999999999854,
          -87.39999999999782,
          -246.4499999999971,
          -35.95000000000073,
          -271.5499999999993,
          -144.60000000000218,
          -496.6000000000022,
          -285.9500000000007,
          -455,
          -445.59999999999854,
          -145.5,
          -804.6000000000022,
          -274.75,
          -714.5,
          -354.7999999999993,
          -323.8999999999978,
          -184.75,
          -199.34999999999854,
          -158.84999999999854,
          -673.2999999999993,
          -41.900000000001455,
          -309.0499999999993,
          -412,
          -14.599999999998545,
          -451.7000000000007,
          -287.90000000000146,
          -613.1500000000015,
          -45.70000000000073,
          -697.0499999999993,
          -478.6000000000022,
          -68,
          -50,
          -214.45000000000073,
          -264.2999999999993,
          -422.9500000000007,
          -809.3499999999985,
          -327.2000000000007,
          -53.95000000000073,
          -102.75,
          -354.6499999999978,
          -241.45000000000073,
          -141.65000000000146,
          -189.45000000000073,
          -186.70000000000073,
          -810.0999999999985,
          -199.79999999999927,
          -42.95000000000073,
          -109.20000000000073,
          -309.5500000000029,
          -24.549999999999272,
          -220.40000000000146,
          -33.29999999999927,
          -42.54999999999927,
          -116.25,
          -152.95000000000073,
          -263.4500000000007,
          -169.5,
          -284.5,
          -76.60000000000218,
          -402.59999999999854,
          -474.5,
          -238.5,
          -307.84999999999854,
          -198.90000000000146,
          -397.90000000000146,
          -316.1000000000022,
          -723.1500000000015,
          -19.950000000000728,
          -121.34999999999854,
          -1055.8500000000022,
          -20.75,
          -201.34999999999854,
          -382.7000000000007,
          -92.40000000000146,
          -121.09999999999854,
          -670.4500000000007,
          -142.0500000000029,
          -597,
          -119.20000000000073,
          -25.400000000001455,
          -100.45000000000073,
          -370.2999999999993,
          -136.15000000000146,
          -405.5500000000029,
          -27.5,
          -109.29999999999927,
          -309.9500000000007,
          -505.2999999999993,
          -97.90000000000146,
          -16.55000000000291,
          -61,
          -370.3500000000022,
          -201.6999999999971,
          -415.09999999999854,
          -115.45000000000073,
          -306.5,
          -634.9500000000007,
          -514.2999999999993,
          -8.049999999999272,
          -64.40000000000146,
          -73.54999999999927,
          -201.59999999999854,
          -148.5,
          -197.95000000000073,
          -484.90000000000146,
          -152.84999999999854,
          -337.3999999999978,
          -404.59999999999854,
          -294.25,
          -319.25,
          -244.4499999999971,
          -95.70000000000073,
          -243.90000000000146,
          -21.900000000001455,
          -173.15000000000146,
          -412.0499999999993,
          -136.15000000000146,
          -154.89999999999782,
          -159.9499999999971,
          -16.150000000001455,
          -209.15000000000146,
          -126.64999999999782,
          -25.950000000000728,
          -48.849999999998545,
          -40.75,
          -101,
          -126.04999999999927,
          -110.05000000000291,
          -12.099999999998545,
          -115.45000000000073,
          -358.6999999999971,
          -117.20000000000073,
          -1.5499999999992724,
          -112.25,
          -21.75,
          -53.349999999998545,
          -40.95000000000073,
          -136.89999999999782,
          -381.9500000000007,
          -159.95000000000073,
          -229.79999999999927,
          -178,
          -88.95000000000073,
          -81.40000000000146,
          -101.14999999999782,
          -32.10000000000218,
          -72.84999999999854,
          -148.45000000000073,
          -404.09999999999854,
          -78.10000000000218,
          -96.04999999999927,
          -174.70000000000073,
          -453.5,
          -216.25,
          -130.70000000000073,
          -303.5,
          -141.14999999999782,
          -126.04999999999927,
          -139.39999999999782,
          -233.4499999999971,
          -2.600000000002183,
          -0.4500000000007276,
          -207,
          -220.34999999999854,
          -225.34999999999854,
          -241.75,
          -139.95000000000073,
          -99.10000000000218,
          -73.60000000000218,
          -257.84999999999854,
          -219.40000000000146,
          -212.35000000000218,
          -162.79999999999927,
          -8.80000000000291,
          -355.5500000000029,
          -225.84999999999854,
          -200.09999999999854,
          -438.15000000000146,
          -44.150000000001455,
          -14.75,
          -76.5,
          -6.850000000002183,
          -78.14999999999782,
          -120.5,
          -71.5,
          -3.2999999999992724,
          -1.6500000000014552,
          -55.30000000000291,
          -189.64999999999782,
          -128.4499999999971,
          -164.75,
          -241.25,
          -244.39999999999782,
          -64.44999999999709,
          -70,
          -17.44999999999709,
          -70.95000000000073,
          -285.8000000000029,
          -44.900000000001455,
          -169.70000000000073,
          -160.25,
          -82.79999999999927,
          -218.20000000000073,
          -145.70000000000073,
          -37.45000000000073,
          -321.0500000000029,
          -143.79999999999927,
          -120,
          -189.0500000000029,
          -197.14999999999782,
          -46.19999999999709,
          -155.75,
          -295.4500000000007,
          -237.90000000000146,
          -243.40000000000146,
          -418.75,
          -144.65000000000146,
          -473.0499999999993,
          -2,
          -462.90000000000146,
          -43.849999999998545,
          -737.1499999999978,
          -62.400000000001455,
          -296.2000000000007,
          -26.5,
          -48.04999999999927,
          -36.69999999999709,
          -238.75,
          -230.70000000000073,
          -491,
          -234.10000000000218,
          -264.2000000000007,
          -236.25,
          -216.54999999999927,
          -435.0499999999993,
          -327.75,
          -269.4500000000007,
          -740.5499999999993,
          -1277.7000000000007,
          -296.2999999999993,
          -349.5499999999993,
          -259.1999999999971,
          -70.04999999999927,
          -340,
          -522.9500000000007,
          -252.65000000000146,
          -206.45000000000073,
          -218,
          -273.25,
          -459.7000000000007,
          -422.0499999999993,
          -57.04999999999927,
          -271.9500000000007,
          -65.60000000000218,
          -227.20000000000073,
          -13.049999999999272,
          -171.45000000000073,
          -356.6000000000022,
          -143.9499999999971,
          0,
          -37.95000000000073,
          -56.650000000001455,
          -9.5,
          -21.299999999999272,
          -261.2999999999993,
          -41.650000000001455,
          -71.79999999999927,
          -145.65000000000146,
          -3.5,
          -23.799999999999272,
          -141.54999999999927,
          -206.89999999999782,
          -145.90000000000146,
          -159.70000000000073,
          -42.79999999999927,
          -9.650000000001455,
          -53.20000000000073,
          -116,
          -29.950000000000728,
          -45.80000000000291,
          -230.10000000000218,
          -272.8999999999978,
          -9.19999999999709,
          -270.5499999999993,
          -144.54999999999927,
          -1.4500000000007276,
          -126.05000000000291,
          -66.04999999999927,
          -30.799999999999272,
          -17.549999999999272,
          -66.34999999999854,
          -116.34999999999854,
          -68.09999999999854,
          -303.8500000000022,
          -21.350000000002183,
          -237.09999999999854,
          -279.7999999999993,
          -16,
          -145.15000000000146,
          -154.15000000000146,
          -190.34999999999854,
          -10.5,
          -223.34999999999854,
          -121.84999999999854,
          -168.75,
          -109.20000000000073,
          -123.75,
          -116.75,
          -51.25,
          -173.04999999999927,
          -94.04999999999927,
          -119.10000000000218,
          -193.45000000000073,
          -817.7999999999993,
          -254.85000000000218,
          -232.45000000000073,
          -59.05000000000291,
          -346.15000000000146,
          -17.75,
          -35.29999999999927,
          -64.5,
          -104.79999999999927,
          -78.90000000000146,
          -332.15000000000146,
          -186.59999999999854,
          -221.20000000000073,
          -167.1999999999971,
          -87.60000000000218,
          -66.40000000000146,
          -73.85000000000218,
          -158.89999999999782,
          -41.79999999999927,
          -119.55000000000291,
          -1.0999999999985448,
          -94.59999999999854,
          -78.85000000000218,
          -107.70000000000073,
          -25.350000000002183,
          -0.5,
          -79.79999999999927,
          -258.8000000000029,
          -17.200000000000728,
          -599.4000000000015,
          -287.5,
          -156.75,
          -368,
          -159.75,
          -14.75,
          -162.8000000000029,
          -107.5,
          -248.04999999999927,
          -33.39999999999782,
          -20.849999999998545,
          -149.9499999999971,
          -13.600000000002183,
          -414.7000000000007,
          -31.600000000002183,
          -172.70000000000073,
          -96.09999999999854,
          -130,
          -17.850000000002183,
          -180.0500000000029,
          -158.10000000000218,
          -122.64999999999782,
          -51,
          -343.2000000000007,
          -314.5,
          -122.29999999999927,
          -142.65000000000146,
          -27.049999999999272,
          -85.09999999999854,
          -297.25,
          -225.35000000000218,
          -237.09999999999854,
          -602.0499999999993,
          -149.34999999999854,
          -167.9499999999971,
          -174.25,
          -328.1999999999971,
          -70.79999999999927,
          -39.400000000001455,
          -31,
          -200.25,
          -276.5499999999993,
          -500.0499999999993,
          -411.0499999999993,
          -65.75,
          -597.9000000000015,
          -44.69999999999709,
          -95.29999999999927,
          -122.44999999999709,
          -507.3500000000022,
          -116.25,
          -50.60000000000218,
          -653.3500000000022,
          -288.5,
          -19.299999999999272,
          -224.79999999999927,
          -38.69999999999709,
          -262.34999999999854,
          -90.70000000000073,
          -23.799999999999272,
          -99.29999999999927,
          -182.10000000000218,
          -338.5,
          -23.850000000002183,
          -197.45000000000073,
          -15.200000000000728,
          -174.8000000000029,
          -95.95000000000073,
          -182.40000000000146,
          -110.70000000000073,
          -46.45000000000073,
          -24.900000000001455,
          -57.35000000000218,
          -124.84999999999854,
          -149.40000000000146,
          -294.2000000000007,
          -34.599999999998545,
          -46.19999999999709,
          -223.29999999999927,
          -114.15000000000146,
          -55.099999999998545,
          -99.34999999999854,
          -213,
          -21.30000000000291,
          -564.5999999999985,
          -75.90000000000146,
          -173.75,
          -179.65000000000146,
          -304.8000000000029,
          -116.04999999999927,
          0,
          -59.95000000000073,
          -252.70000000000073,
          -109.45000000000073,
          -301.7000000000007,
          -256.8999999999978,
          -446.9500000000007,
          -82.85000000000218,
          -34.95000000000073,
          -19.549999999999272,
          -27.5,
          -205.34999999999854,
          -139.8000000000029,
          -102.79999999999927,
          -52,
          -196.15000000000146,
          -19.200000000000728,
          -75.30000000000291,
          -129.45000000000073,
          -233,
          -13.700000000000728,
          -114.84999999999854,
          -256.2999999999993,
          -420.1499999999978,
          -39.5,
          -136.45000000000073,
          -102.90000000000146,
          -25.549999999999272,
          -94,
          -65.10000000000218,
          -88.94999999999709,
          -89.35000000000218,
          -419.90000000000146,
          -109.29999999999927,
          -172.90000000000146,
          -314.7000000000007,
          -84.70000000000073,
          -125.40000000000146,
          -298.8500000000022,
          -23.299999999999272,
          -173.04999999999927,
          -357.2000000000007,
          -31.149999999997817,
          -53.5,
          -9.200000000000728,
          -81.40000000000146,
          -65.5,
          -193.34999999999854,
          -109.20000000000073,
          -192.95000000000073,
          -542.1000000000022,
          -88.19999999999709,
          -346.09999999999854,
          -364.5499999999993,
          -227.64999999999782,
          -46.35000000000218,
          -66.75,
          -6.400000000001455,
          -48.75,
          -41.75,
          -80.54999999999927,
          -125.55000000000291,
          -10.25,
          -136.5,
          -77.94999999999709,
          -41.30000000000291,
          -16.299999999999272,
          -299.8999999999978,
          -70,
          -146.64999999999782,
          -11.75,
          -198.70000000000073,
          -49.900000000001455,
          -149.90000000000146,
          -10.799999999999272,
          -227.9499999999971,
          -258.2999999999993,
          -199.34999999999854,
          -373.65000000000146,
          -241.29999999999927,
          -12.899999999997817,
          -89.95000000000073,
          -478.25,
          -191.15000000000146,
          -407.8500000000022,
          -9.700000000000728,
          -37.70000000000073,
          -383.25,
          -264.15000000000146,
          -151.9499999999971,
          -52.099999999998545,
          -93.5,
          -58.099999999998545,
          -93.25,
          -172.70000000000073,
          -73.04999999999927,
          -164.5,
          0,
          -15.5,
          -16.05000000000291,
          -97.75,
          -193.54999999999927,
          -6.25,
          -100.09999999999854,
          -191.95000000000073,
          -293.34999999999854,
          -63.150000000001455,
          -30,
          -36.35000000000218,
          -161.79999999999927,
          -96.04999999999927,
          -140.84999999999854,
          -188.0500000000029,
          -95.89999999999782,
          -581.2000000000007,
          -264.7999999999993,
          -22.69999999999709,
          -27.950000000000728,
          -69.39999999999782,
          -35.64999999999782,
          -57.599999999998545,
          -132.85000000000218,
          -155.89999999999782,
          -0.09999999999854481,
          -168.35000000000218,
          -7.100000000002183,
          -116.14999999999782,
          -55.29999999999927,
          -141.34999999999854,
          -47.45000000000073,
          -126.79999999999927,
          -170.04999999999927,
          -72.70000000000073,
          -48.14999999999782,
          -169.4499999999971,
          -59.05000000000291,
          -3.3000000000029104,
          -154.70000000000073,
          -182.70000000000073,
          -237.04999999999927,
          -133.5,
          -90.25,
          -142.25,
          -129.9499999999971,
          -5.5,
          -262.40000000000146,
          -151.39999999999782,
          -25.700000000000728,
          -156.45000000000073,
          -45.95000000000073,
          -330.84999999999854,
          -168.39999999999782,
          -205.79999999999927,
          -146.39999999999782,
          -114.25,
          -104.25,
          -343.75,
          -60.35000000000218,
          -13.25,
          -181.29999999999927,
          -23.450000000000728,
          -203.89999999999782,
          -71.89999999999782,
          -123.75,
          -24.25,
          -183.90000000000146,
          -37.900000000001455,
          -96,
          -139.5,
          -83.79999999999927,
          -102.45000000000073,
          -130.60000000000218,
          -137.84999999999854,
          -42.44999999999709,
          -35.70000000000073,
          -84,
          -198.54999999999927,
          -58.44999999999709,
          -73.40000000000146,
          -61.44999999999709,
          -143.65000000000146,
          -117.75,
          -180.5,
          -43.25,
          -25.450000000000728,
          -130.14999999999782,
          -177.10000000000218,
          -16.649999999997817,
          -95.90000000000146,
          -100,
          -16.75,
          -149.5,
          -368.09999999999854,
          -20.150000000001455
         ],
         "open": [
          0,
          0,
          0,
          0,
          0,
          0,
          0,
          0,
          0,
          0,
          0,
          0,
          0,
          0,
          0,
          0,
          0,
          0,
          0,
          0,
          0,
          0,
          0,
          0,
          0,
          0,
          0,
          0,
          0,
          0,
          0,
          0,
          0,
          0,
          0,
          0,
          0,
          0,
          0,
          0,
          0,
          0,
          0,
          0,
          0,
          0,
          0,
          0,
          0,
          0,
          0,
          0,
          0,
          0,
          0,
          0,
          0,
          0,
          0,
          0,
          0,
          0,
          0,
          0,
          0,
          0,
          0,
          0,
          0,
          0,
          0,
          0,
          0,
          0,
          0,
          0,
          0,
          0,
          0,
          0,
          0,
          0,
          0,
          0,
          0,
          0,
          0,
          0,
          0,
          0,
          0,
          0,
          0,
          0,
          0,
          0,
          0,
          0,
          0,
          0,
          0,
          0,
          0,
          0,
          0,
          0,
          0,
          0,
          0,
          0,
          0,
          0,
          0,
          0,
          0,
          0,
          0,
          0,
          0,
          0,
          0,
          0,
          0,
          0,
          0,
          0,
          0,
          0,
          0,
          0,
          0,
          0,
          0,
          0,
          0,
          0,
          0,
          0,
          0,
          0,
          0,
          0,
          0,
          0,
          0,
          0,
          0,
          0,
          0,
          0,
          0,
          0,
          0,
          0,
          0,
          0,
          0,
          0,
          0,
          0,
          0,
          0,
          0,
          0,
          0,
          0,
          0,
          0,
          0,
          0,
          0,
          0,
          0,
          0,
          0,
          0,
          0,
          0,
          0,
          0,
          0,
          0,
          0,
          0,
          0,
          0,
          0,
          0,
          0,
          0,
          0,
          0,
          0,
          0,
          0,
          0,
          0,
          0,
          0,
          0,
          0,
          0,
          0,
          0,
          0,
          0,
          0,
          0,
          0,
          0,
          0,
          0,
          0,
          0,
          0,
          0,
          0,
          0,
          0,
          0,
          0,
          0,
          0,
          0,
          0,
          0,
          0,
          0,
          0,
          0,
          0,
          0,
          0,
          0,
          0,
          0,
          0,
          0,
          0,
          0,
          0,
          0,
          0,
          0,
          0,
          0,
          0,
          0,
          0,
          0,
          0,
          0,
          0,
          0,
          0,
          0,
          0,
          0,
          0,
          0,
          0,
          0,
          0,
          0,
          0,
          0,
          0,
          0,
          0,
          0,
          0,
          0,
          0,
          0,
          0,
          0,
          0,
          0,
          0,
          0,
          0,
          0,
          0,
          0,
          0,
          0,
          0,
          0,
          0,
          0,
          0,
          0,
          0,
          0,
          0,
          0,
          0,
          0,
          0,
          0,
          0,
          0,
          0,
          0,
          0,
          0,
          0,
          0,
          0,
          0,
          0,
          0,
          0,
          0,
          0,
          0,
          0,
          0,
          0,
          0,
          0,
          0,
          0,
          0,
          0,
          0,
          0,
          0,
          0,
          0,
          0,
          0,
          0,
          0,
          0,
          0,
          0,
          0,
          0,
          0,
          0,
          0,
          0,
          0,
          0,
          0,
          0,
          0,
          0,
          0,
          0,
          0,
          0,
          0,
          0,
          0,
          0,
          0,
          0,
          0,
          0,
          0,
          0,
          0,
          0,
          0,
          0,
          0,
          0,
          0,
          0,
          0,
          0,
          0,
          0,
          0,
          0,
          0,
          0,
          0,
          0,
          0,
          0,
          0,
          0,
          0,
          0,
          0,
          0,
          0,
          0,
          0,
          0,
          0,
          0,
          0,
          0,
          0,
          0,
          0,
          0,
          0,
          0,
          0,
          0,
          0,
          0,
          0,
          0,
          0,
          0,
          0,
          0,
          0,
          0,
          0,
          0,
          0,
          0,
          0,
          0,
          0,
          0,
          0,
          0,
          0,
          0,
          0,
          0,
          0,
          0,
          0,
          0,
          0,
          0,
          0,
          0,
          0,
          0,
          0,
          0,
          0,
          0,
          0,
          0,
          0,
          0,
          0,
          0,
          0,
          0,
          0,
          0,
          0,
          0,
          0,
          0,
          0,
          0,
          0,
          0,
          0,
          0,
          0,
          0,
          0,
          0,
          0,
          0,
          0,
          0,
          0,
          0,
          0,
          0,
          0,
          0,
          0,
          0,
          0,
          0,
          0,
          0,
          0,
          0,
          0,
          0,
          0,
          0,
          0,
          0,
          0,
          0,
          0,
          0,
          0,
          0,
          0,
          0,
          0,
          0,
          0,
          0,
          0,
          0,
          0,
          0,
          0,
          0,
          0,
          0,
          0,
          0,
          0,
          0,
          0,
          0,
          0,
          0,
          0,
          0,
          0,
          0,
          0,
          0,
          0,
          0,
          0,
          0,
          0,
          0,
          0,
          0,
          0,
          0,
          0,
          0,
          0,
          0,
          0,
          0,
          0,
          0,
          0,
          0,
          0,
          0,
          0,
          0,
          0,
          0,
          0,
          0,
          0,
          0,
          0,
          0,
          0,
          0,
          0,
          0,
          0,
          0,
          0,
          0,
          0,
          0,
          0,
          0,
          0,
          0,
          0,
          0,
          0,
          0,
          0,
          0,
          0,
          0,
          0,
          0,
          0,
          0,
          0,
          0,
          0,
          0,
          0,
          0,
          0,
          0,
          0,
          0,
          0,
          0,
          0,
          0,
          0,
          0,
          0,
          0,
          0,
          0,
          0,
          0,
          0,
          0,
          0,
          0,
          0,
          0,
          0,
          0,
          0,
          0,
          0,
          0,
          0,
          0,
          0,
          0,
          0,
          0,
          0,
          0,
          0,
          0,
          0,
          0,
          0,
          0,
          0,
          0,
          0,
          0,
          0,
          0,
          0,
          0,
          0,
          0,
          0,
          0,
          0,
          0,
          0,
          0,
          0,
          0,
          0,
          0,
          0,
          0,
          0,
          0,
          0,
          0,
          0,
          0,
          0,
          0,
          0,
          0,
          0,
          0,
          0,
          0,
          0,
          0,
          0,
          0,
          0,
          0,
          0,
          0,
          0,
          0,
          0,
          0,
          0,
          0,
          0,
          0,
          0,
          0,
          0,
          0,
          0,
          0,
          0,
          0,
          0,
          0,
          0,
          0,
          0,
          0,
          0,
          0,
          0,
          0,
          0,
          0,
          0,
          0,
          0,
          0,
          0,
          0,
          0,
          0,
          0,
          0,
          0,
          0,
          0,
          0,
          0,
          0,
          0,
          0,
          0,
          0,
          0,
          0,
          0,
          0,
          0,
          0,
          0,
          0,
          0,
          0,
          0,
          0,
          0,
          0,
          0,
          0,
          0,
          0,
          0,
          0,
          0,
          0,
          0,
          0,
          0,
          0,
          0,
          0,
          0,
          0,
          0,
          0,
          0,
          0,
          0,
          0,
          0,
          0,
          0,
          0,
          0,
          0,
          0,
          0,
          0,
          0,
          0,
          0,
          0,
          0,
          0,
          0,
          0,
          0,
          0,
          0,
          0,
          0,
          0,
          0,
          0,
          0,
          0,
          0,
          0,
          0,
          0,
          0,
          0,
          0,
          0,
          0,
          0,
          0,
          0,
          0,
          0,
          0,
          0,
          0,
          0,
          0,
          0,
          0,
          0,
          0,
          0,
          0,
          0,
          0,
          0,
          0,
          0,
          0,
          0,
          0,
          0,
          0,
          0,
          0,
          0,
          0,
          0,
          0,
          0,
          0,
          0,
          0,
          0,
          0,
          0,
          0,
          0,
          0,
          0,
          0,
          0,
          0,
          0,
          0,
          0,
          0,
          0,
          0,
          0,
          0,
          0,
          0,
          0,
          0,
          0,
          0,
          0,
          0,
          0,
          0,
          0,
          0,
          0,
          0,
          0,
          0,
          0,
          0,
          0,
          0,
          0,
          0,
          0,
          0,
          0,
          0,
          0,
          0,
          0,
          0,
          0,
          0,
          0,
          0,
          0,
          0,
          0,
          0,
          0,
          0,
          0,
          0,
          0,
          0,
          0,
          0,
          0,
          0,
          0,
          0,
          0,
          0,
          0,
          0,
          0,
          0,
          0,
          0,
          0,
          0,
          0,
          0,
          0,
          0,
          0,
          0,
          0,
          0,
          0,
          0,
          0,
          0,
          0,
          0,
          0,
          0,
          0,
          0,
          0,
          0,
          0,
          0,
          0,
          0,
          0,
          0,
          0,
          0,
          0,
          0,
          0,
          0,
          0,
          0,
          0,
          0,
          0,
          0,
          0,
          0,
          0,
          0,
          0,
          0,
          0,
          0,
          0,
          0,
          0,
          0,
          0,
          0,
          0,
          0,
          0,
          0,
          0,
          0,
          0,
          0,
          0,
          0,
          0,
          0,
          0,
          0,
          0,
          0,
          0,
          0,
          0,
          0,
          0,
          0,
          0,
          0,
          0,
          0,
          0,
          0,
          0,
          0,
          0,
          0,
          0,
          0,
          0,
          0,
          0,
          0,
          0,
          0,
          0,
          0,
          0,
          0,
          0,
          0,
          0,
          0,
          0,
          0,
          0,
          0,
          0,
          0,
          0,
          0,
          0,
          0,
          0,
          0,
          0,
          0,
          0,
          0,
          0,
          0,
          0,
          0,
          0,
          0,
          0,
          0,
          0,
          0,
          0,
          0,
          0,
          0,
          0,
          0,
          0,
          0,
          0,
          0,
          0,
          0,
          0,
          0,
          0,
          0,
          0,
          0,
          0,
          0,
          0,
          0,
          0,
          0,
          0,
          0,
          0,
          0,
          0,
          0,
          0,
          0,
          0,
          0,
          0,
          0,
          0,
          0,
          0,
          0,
          0,
          0,
          0,
          0,
          0,
          0,
          0,
          0,
          0,
          0,
          0,
          0,
          0,
          0,
          0,
          0,
          0,
          0,
          0,
          0,
          0,
          0,
          0,
          0,
          0,
          0,
          0,
          0,
          0,
          0,
          0,
          0,
          0,
          0,
          0,
          0,
          0,
          0,
          0,
          0,
          0,
          0,
          0,
          0,
          0,
          0,
          0,
          0,
          0,
          0,
          0,
          0,
          0,
          0,
          0,
          0,
          0,
          0,
          0,
          0,
          0,
          0,
          0,
          0,
          0,
          0,
          0,
          0,
          0,
          0,
          0,
          0,
          0,
          0,
          0,
          0,
          0,
          0,
          0,
          0,
          0,
          0,
          0,
          0,
          0,
          0,
          0,
          0,
          0,
          0,
          0,
          0,
          0,
          0,
          0,
          0,
          0,
          0,
          0,
          0,
          0,
          0,
          0,
          0,
          0,
          0,
          0,
          0,
          0,
          0,
          0,
          0,
          0,
          0,
          0,
          0,
          0,
          0,
          0,
          0,
          0,
          0,
          0,
          0,
          0,
          0,
          0,
          0,
          0,
          0,
          0,
          0,
          0,
          0,
          0,
          0,
          0,
          0,
          0,
          0,
          0,
          0,
          0,
          0,
          0,
          0,
          0,
          0,
          0,
          0,
          0,
          0,
          0,
          0,
          0,
          0,
          0,
          0,
          0,
          0,
          0,
          0,
          0,
          0,
          0,
          0,
          0,
          0,
          0,
          0,
          0,
          0,
          0,
          0,
          0,
          0,
          0,
          0,
          0,
          0,
          0,
          0,
          0,
          0,
          0,
          0,
          0,
          0,
          0,
          0,
          0,
          0,
          0,
          0,
          0,
          0,
          0,
          0,
          0,
          0,
          0,
          0,
          0,
          0,
          0,
          0,
          0,
          0,
          0,
          0,
          0,
          0,
          0,
          0,
          0,
          0,
          0,
          0,
          0,
          0,
          0,
          0,
          0,
          0,
          0,
          0,
          0,
          0,
          0,
          0,
          0,
          0,
          0,
          0,
          0,
          0,
          0,
          0,
          0,
          0,
          0,
          0,
          0,
          0,
          0,
          0,
          0,
          0,
          0,
          0,
          0,
          0,
          0,
          0,
          0,
          0,
          0,
          0,
          0,
          0,
          0,
          0,
          0,
          0,
          0,
          0,
          0,
          0,
          0,
          0,
          0,
          0,
          0,
          0,
          0,
          0,
          0,
          0,
          0,
          0,
          0,
          0,
          0,
          0,
          0,
          0,
          0,
          0,
          0,
          0,
          0,
          0,
          0,
          0,
          0,
          0,
          0,
          0,
          0,
          0,
          0,
          0,
          0,
          0,
          0,
          0,
          0,
          0,
          0,
          0,
          0,
          0,
          0,
          0,
          0,
          0,
          0,
          0,
          0,
          0,
          0,
          0,
          0,
          0,
          0,
          0,
          0,
          0,
          0,
          0,
          0,
          0,
          0,
          0,
          0,
          0,
          0,
          0,
          0,
          0,
          0,
          0,
          0,
          0,
          0,
          0,
          0,
          0,
          0,
          0,
          0,
          0,
          0,
          0,
          0,
          0,
          0,
          0,
          0,
          0,
          0,
          0,
          0,
          0,
          0,
          0,
          0,
          0,
          0,
          0,
          0,
          0,
          0,
          0,
          0,
          0,
          0,
          0,
          0,
          0,
          0,
          0,
          0,
          0,
          0,
          0,
          0,
          0,
          0,
          0,
          0,
          0,
          0,
          0,
          0,
          0,
          0,
          0,
          0,
          0,
          0,
          0,
          0,
          0,
          0,
          0,
          0,
          0,
          0,
          0,
          0,
          0,
          0,
          0,
          0,
          0,
          0,
          0,
          0,
          0,
          0,
          0,
          0,
          0,
          0,
          0,
          0,
          0,
          0,
          0,
          0,
          0,
          0
         ],
         "type": "candlestick",
         "x": [
          "2023-03-29T00:00:00",
          "2023-03-28T00:00:00",
          "2023-03-27T00:00:00",
          "2023-03-24T00:00:00",
          "2023-03-23T00:00:00",
          "2023-03-22T00:00:00",
          "2023-03-21T00:00:00",
          "2023-03-20T00:00:00",
          "2023-03-17T00:00:00",
          "2023-03-16T00:00:00",
          "2023-03-15T00:00:00",
          "2023-03-14T00:00:00",
          "2023-03-13T00:00:00",
          "2023-03-10T00:00:00",
          "2023-03-09T00:00:00",
          "2023-03-08T00:00:00",
          "2023-03-06T00:00:00",
          "2023-03-03T00:00:00",
          "2023-03-02T00:00:00",
          "2023-03-01T00:00:00",
          "2023-02-28T00:00:00",
          "2023-02-27T00:00:00",
          "2023-02-24T00:00:00",
          "2023-02-23T00:00:00",
          "2023-02-22T00:00:00",
          "2023-02-21T00:00:00",
          "2023-02-20T00:00:00",
          "2023-02-17T00:00:00",
          "2023-02-16T00:00:00",
          "2023-02-15T00:00:00",
          "2023-02-14T00:00:00",
          "2023-02-13T00:00:00",
          "2023-02-10T00:00:00",
          "2023-02-09T00:00:00",
          "2023-02-08T00:00:00",
          "2023-02-07T00:00:00",
          "2023-02-06T00:00:00",
          "2023-02-03T00:00:00",
          "2023-02-02T00:00:00",
          "2023-02-01T00:00:00",
          "2023-01-31T00:00:00",
          "2023-01-30T00:00:00",
          "2023-01-27T00:00:00",
          "2023-01-25T00:00:00",
          "2023-01-24T00:00:00",
          "2023-01-23T00:00:00",
          "2023-01-20T00:00:00",
          "2023-01-19T00:00:00",
          "2023-01-18T00:00:00",
          "2023-01-17T00:00:00",
          "2023-01-16T00:00:00",
          "2023-01-13T00:00:00",
          "2023-01-12T00:00:00",
          "2023-01-11T00:00:00",
          "2023-01-10T00:00:00",
          "2023-01-09T00:00:00",
          "2023-01-06T00:00:00",
          "2023-01-05T00:00:00",
          "2023-01-04T00:00:00",
          "2023-01-03T00:00:00",
          "2023-01-02T00:00:00",
          "2022-12-30T00:00:00",
          "2022-12-29T00:00:00",
          "2022-12-28T00:00:00",
          "2022-12-27T00:00:00",
          "2022-12-26T00:00:00",
          "2022-12-23T00:00:00",
          "2022-12-22T00:00:00",
          "2022-12-21T00:00:00",
          "2022-12-20T00:00:00",
          "2022-12-19T00:00:00",
          "2022-12-16T00:00:00",
          "2022-12-15T00:00:00",
          "2022-12-14T00:00:00",
          "2022-12-13T00:00:00",
          "2022-12-12T00:00:00",
          "2022-12-09T00:00:00",
          "2022-12-08T00:00:00",
          "2022-12-07T00:00:00",
          "2022-12-06T00:00:00",
          "2022-12-05T00:00:00",
          "2022-12-02T00:00:00",
          "2022-12-01T00:00:00",
          "2022-11-30T00:00:00",
          "2022-11-29T00:00:00",
          "2022-11-28T00:00:00",
          "2022-11-25T00:00:00",
          "2022-11-24T00:00:00",
          "2022-11-23T00:00:00",
          "2022-11-22T00:00:00",
          "2022-11-21T00:00:00",
          "2022-11-18T00:00:00",
          "2022-11-17T00:00:00",
          "2022-11-16T00:00:00",
          "2022-11-15T00:00:00",
          "2022-11-14T00:00:00",
          "2022-11-11T00:00:00",
          "2022-11-10T00:00:00",
          "2022-11-09T00:00:00",
          "2022-11-07T00:00:00",
          "2022-11-04T00:00:00",
          "2022-11-03T00:00:00",
          "2022-11-02T00:00:00",
          "2022-11-01T00:00:00",
          "2022-10-31T00:00:00",
          "2022-10-28T00:00:00",
          "2022-10-27T00:00:00",
          "2022-10-25T00:00:00",
          "2022-10-24T00:00:00",
          "2022-10-21T00:00:00",
          "2022-10-20T00:00:00",
          "2022-10-19T00:00:00",
          "2022-10-18T00:00:00",
          "2022-10-17T00:00:00",
          "2022-10-14T00:00:00",
          "2022-10-13T00:00:00",
          "2022-10-12T00:00:00",
          "2022-10-11T00:00:00",
          "2022-10-10T00:00:00",
          "2022-10-07T00:00:00",
          "2022-10-06T00:00:00",
          "2022-10-04T00:00:00",
          "2022-10-03T00:00:00",
          "2022-09-30T00:00:00",
          "2022-09-29T00:00:00",
          "2022-09-28T00:00:00",
          "2022-09-27T00:00:00",
          "2022-09-26T00:00:00",
          "2022-09-23T00:00:00",
          "2022-09-22T00:00:00",
          "2022-09-21T00:00:00",
          "2022-09-20T00:00:00",
          "2022-09-19T00:00:00",
          "2022-09-16T00:00:00",
          "2022-09-15T00:00:00",
          "2022-09-14T00:00:00",
          "2022-09-13T00:00:00",
          "2022-09-12T00:00:00",
          "2022-09-09T00:00:00",
          "2022-09-08T00:00:00",
          "2022-09-07T00:00:00",
          "2022-09-06T00:00:00",
          "2022-09-05T00:00:00",
          "2022-09-02T00:00:00",
          "2022-09-01T00:00:00",
          "2022-08-30T00:00:00",
          "2022-08-29T00:00:00",
          "2022-08-26T00:00:00",
          "2022-08-25T00:00:00",
          "2022-08-24T00:00:00",
          "2022-08-23T00:00:00",
          "2022-08-22T00:00:00",
          "2022-08-19T00:00:00",
          "2022-08-18T00:00:00",
          "2022-08-17T00:00:00",
          "2022-08-16T00:00:00",
          "2022-08-12T00:00:00",
          "2022-08-11T00:00:00",
          "2022-08-10T00:00:00",
          "2022-08-08T00:00:00",
          "2022-08-05T00:00:00",
          "2022-08-04T00:00:00",
          "2022-08-03T00:00:00",
          "2022-08-02T00:00:00",
          "2022-08-01T00:00:00",
          "2022-07-29T00:00:00",
          "2022-07-28T00:00:00",
          "2022-07-27T00:00:00",
          "2022-07-26T00:00:00",
          "2022-07-25T00:00:00",
          "2022-07-22T00:00:00",
          "2022-07-21T00:00:00",
          "2022-07-20T00:00:00",
          "2022-07-19T00:00:00",
          "2022-07-18T00:00:00",
          "2022-07-15T00:00:00",
          "2022-07-14T00:00:00",
          "2022-07-13T00:00:00",
          "2022-07-12T00:00:00",
          "2022-07-11T00:00:00",
          "2022-07-08T00:00:00",
          "2022-07-07T00:00:00",
          "2022-07-06T00:00:00",
          "2022-07-05T00:00:00",
          "2022-07-04T00:00:00",
          "2022-07-01T00:00:00",
          "2022-06-30T00:00:00",
          "2022-06-29T00:00:00",
          "2022-06-28T00:00:00",
          "2022-06-27T00:00:00",
          "2022-06-24T00:00:00",
          "2022-06-23T00:00:00",
          "2022-06-22T00:00:00",
          "2022-06-21T00:00:00",
          "2022-06-20T00:00:00",
          "2022-06-17T00:00:00",
          "2022-06-16T00:00:00",
          "2022-06-15T00:00:00",
          "2022-06-14T00:00:00",
          "2022-06-13T00:00:00",
          "2022-06-10T00:00:00",
          "2022-06-09T00:00:00",
          "2022-06-08T00:00:00",
          "2022-06-07T00:00:00",
          "2022-06-06T00:00:00",
          "2022-06-03T00:00:00",
          "2022-06-02T00:00:00",
          "2022-06-01T00:00:00",
          "2022-05-31T00:00:00",
          "2022-05-30T00:00:00",
          "2022-05-27T00:00:00",
          "2022-05-26T00:00:00",
          "2022-05-25T00:00:00",
          "2022-05-24T00:00:00",
          "2022-05-23T00:00:00",
          "2022-05-20T00:00:00",
          "2022-05-19T00:00:00",
          "2022-05-18T00:00:00",
          "2022-05-17T00:00:00",
          "2022-05-16T00:00:00",
          "2022-05-13T00:00:00",
          "2022-05-12T00:00:00",
          "2022-05-11T00:00:00",
          "2022-05-10T00:00:00",
          "2022-05-09T00:00:00",
          "2022-05-06T00:00:00",
          "2022-05-05T00:00:00",
          "2022-05-04T00:00:00",
          "2022-05-02T00:00:00",
          "2022-04-29T00:00:00",
          "2022-04-28T00:00:00",
          "2022-04-27T00:00:00",
          "2022-04-26T00:00:00",
          "2022-04-25T00:00:00",
          "2022-04-22T00:00:00",
          "2022-04-21T00:00:00",
          "2022-04-20T00:00:00",
          "2022-04-19T00:00:00",
          "2022-04-18T00:00:00",
          "2022-04-13T00:00:00",
          "2022-04-12T00:00:00",
          "2022-04-11T00:00:00",
          "2022-04-08T00:00:00",
          "2022-04-07T00:00:00",
          "2022-04-06T00:00:00",
          "2022-04-05T00:00:00",
          "2022-04-04T00:00:00",
          "2022-04-01T00:00:00",
          "2022-03-31T00:00:00",
          "2022-03-30T00:00:00",
          "2022-03-29T00:00:00",
          "2022-03-28T00:00:00",
          "2022-03-25T00:00:00",
          "2022-03-24T00:00:00",
          "2022-03-23T00:00:00",
          "2022-03-22T00:00:00",
          "2022-03-21T00:00:00",
          "2022-03-17T00:00:00",
          "2022-03-16T00:00:00",
          "2022-03-15T00:00:00",
          "2022-03-14T00:00:00",
          "2022-03-11T00:00:00",
          "2022-03-10T00:00:00",
          "2022-03-09T00:00:00",
          "2022-03-08T00:00:00",
          "2022-03-07T00:00:00",
          "2022-03-04T00:00:00",
          "2022-03-03T00:00:00",
          "2022-03-02T00:00:00",
          "2022-02-28T00:00:00",
          "2022-02-25T00:00:00",
          "2022-02-24T00:00:00",
          "2022-02-23T00:00:00",
          "2022-02-22T00:00:00",
          "2022-02-21T00:00:00",
          "2022-02-18T00:00:00",
          "2022-02-17T00:00:00",
          "2022-02-16T00:00:00",
          "2022-02-15T00:00:00",
          "2022-02-14T00:00:00",
          "2022-02-11T00:00:00",
          "2022-02-10T00:00:00",
          "2022-02-09T00:00:00",
          "2022-02-08T00:00:00",
          "2022-02-07T00:00:00",
          "2022-02-04T00:00:00",
          "2022-02-03T00:00:00",
          "2022-02-02T00:00:00",
          "2022-02-01T00:00:00",
          "2022-01-31T00:00:00",
          "2022-01-28T00:00:00",
          "2022-01-27T00:00:00",
          "2022-01-25T00:00:00",
          "2022-01-24T00:00:00",
          "2022-01-21T00:00:00",
          "2022-01-20T00:00:00",
          "2022-01-19T00:00:00",
          "2022-01-18T00:00:00",
          "2022-01-17T00:00:00",
          "2022-01-14T00:00:00",
          "2022-01-13T00:00:00",
          "2022-01-12T00:00:00",
          "2022-01-11T00:00:00",
          "2022-01-10T00:00:00",
          "2022-01-07T00:00:00",
          "2022-01-06T00:00:00",
          "2022-01-05T00:00:00",
          "2022-01-04T00:00:00",
          "2022-01-03T00:00:00",
          "2021-12-31T00:00:00",
          "2021-12-30T00:00:00",
          "2021-12-29T00:00:00",
          "2021-12-28T00:00:00",
          "2021-12-27T00:00:00",
          "2021-12-24T00:00:00",
          "2021-12-23T00:00:00",
          "2021-12-22T00:00:00",
          "2021-12-21T00:00:00",
          "2021-12-20T00:00:00",
          "2021-12-17T00:00:00",
          "2021-12-16T00:00:00",
          "2021-12-15T00:00:00",
          "2021-12-14T00:00:00",
          "2021-12-13T00:00:00",
          "2021-12-10T00:00:00",
          "2021-12-09T00:00:00",
          "2021-12-08T00:00:00",
          "2021-12-07T00:00:00",
          "2021-12-06T00:00:00",
          "2021-12-03T00:00:00",
          "2021-12-02T00:00:00",
          "2021-12-01T00:00:00",
          "2021-11-30T00:00:00",
          "2021-11-29T00:00:00",
          "2021-11-26T00:00:00",
          "2021-11-25T00:00:00",
          "2021-11-24T00:00:00",
          "2021-11-23T00:00:00",
          "2021-11-22T00:00:00",
          "2021-11-18T00:00:00",
          "2021-11-17T00:00:00",
          "2021-11-16T00:00:00",
          "2021-11-15T00:00:00",
          "2021-11-12T00:00:00",
          "2021-11-11T00:00:00",
          "2021-11-10T00:00:00",
          "2021-11-09T00:00:00",
          "2021-11-08T00:00:00",
          "2021-11-04T00:00:00",
          "2021-11-03T00:00:00",
          "2021-11-02T00:00:00",
          "2021-11-01T00:00:00",
          "2021-10-29T00:00:00",
          "2021-10-28T00:00:00",
          "2021-10-27T00:00:00",
          "2021-10-26T00:00:00",
          "2021-10-25T00:00:00",
          "2021-10-22T00:00:00",
          "2021-10-21T00:00:00",
          "2021-10-20T00:00:00",
          "2021-10-19T00:00:00",
          "2021-10-18T00:00:00",
          "2021-10-14T00:00:00",
          "2021-10-13T00:00:00",
          "2021-10-12T00:00:00",
          "2021-10-11T00:00:00",
          "2021-10-08T00:00:00",
          "2021-10-07T00:00:00",
          "2021-10-06T00:00:00",
          "2021-10-05T00:00:00",
          "2021-10-04T00:00:00",
          "2021-10-01T00:00:00",
          "2021-09-30T00:00:00",
          "2021-09-29T00:00:00",
          "2021-09-28T00:00:00",
          "2021-09-27T00:00:00",
          "2021-09-24T00:00:00",
          "2021-09-23T00:00:00",
          "2021-09-22T00:00:00",
          "2021-09-21T00:00:00",
          "2021-09-20T00:00:00",
          "2021-09-17T00:00:00",
          "2021-09-16T00:00:00",
          "2021-09-15T00:00:00",
          "2021-09-14T00:00:00",
          "2021-09-13T00:00:00",
          "2021-09-09T00:00:00",
          "2021-09-08T00:00:00",
          "2021-09-07T00:00:00",
          "2021-09-06T00:00:00",
          "2021-09-03T00:00:00",
          "2021-09-02T00:00:00",
          "2021-09-01T00:00:00",
          "2021-08-31T00:00:00",
          "2021-08-30T00:00:00",
          "2021-08-27T00:00:00",
          "2021-08-26T00:00:00",
          "2021-08-25T00:00:00",
          "2021-08-24T00:00:00",
          "2021-08-23T00:00:00",
          "2021-08-20T00:00:00",
          "2021-08-18T00:00:00",
          "2021-08-17T00:00:00",
          "2021-08-16T00:00:00",
          "2021-08-13T00:00:00",
          "2021-08-12T00:00:00",
          "2021-08-11T00:00:00",
          "2021-08-10T00:00:00",
          "2021-08-09T00:00:00",
          "2021-08-06T00:00:00",
          "2021-08-05T00:00:00",
          "2021-08-04T00:00:00",
          "2021-08-03T00:00:00",
          "2021-08-02T00:00:00",
          "2021-07-30T00:00:00",
          "2021-07-29T00:00:00",
          "2021-07-28T00:00:00",
          "2021-07-27T00:00:00",
          "2021-07-26T00:00:00",
          "2021-07-23T00:00:00",
          "2021-07-22T00:00:00",
          "2021-07-20T00:00:00",
          "2021-07-19T00:00:00",
          "2021-07-16T00:00:00",
          "2021-07-15T00:00:00",
          "2021-07-14T00:00:00",
          "2021-07-13T00:00:00",
          "2021-07-12T00:00:00",
          "2021-07-09T00:00:00",
          "2021-07-08T00:00:00",
          "2021-07-07T00:00:00",
          "2021-07-06T00:00:00",
          "2021-07-05T00:00:00",
          "2021-07-02T00:00:00",
          "2021-07-01T00:00:00",
          "2021-06-30T00:00:00",
          "2021-06-29T00:00:00",
          "2021-06-28T00:00:00",
          "2021-06-25T00:00:00",
          "2021-06-24T00:00:00",
          "2021-06-23T00:00:00",
          "2021-06-22T00:00:00",
          "2021-06-21T00:00:00",
          "2021-06-18T00:00:00",
          "2021-06-17T00:00:00",
          "2021-06-16T00:00:00",
          "2021-06-15T00:00:00",
          "2021-06-14T00:00:00",
          "2021-06-11T00:00:00",
          "2021-06-10T00:00:00",
          "2021-06-09T00:00:00",
          "2021-06-08T00:00:00",
          "2021-06-07T00:00:00",
          "2021-06-04T00:00:00",
          "2021-06-03T00:00:00",
          "2021-06-02T00:00:00",
          "2021-06-01T00:00:00",
          "2021-05-31T00:00:00",
          "2021-05-28T00:00:00",
          "2021-05-27T00:00:00",
          "2021-05-26T00:00:00",
          "2021-05-25T00:00:00",
          "2021-05-24T00:00:00",
          "2021-05-21T00:00:00",
          "2021-05-20T00:00:00",
          "2021-05-19T00:00:00",
          "2021-05-18T00:00:00",
          "2021-05-17T00:00:00",
          "2021-05-14T00:00:00",
          "2021-05-12T00:00:00",
          "2021-05-11T00:00:00",
          "2021-05-10T00:00:00",
          "2021-05-07T00:00:00",
          "2021-05-06T00:00:00",
          "2021-05-05T00:00:00",
          "2021-05-04T00:00:00",
          "2021-05-03T00:00:00",
          "2021-04-30T00:00:00",
          "2021-04-29T00:00:00",
          "2021-04-28T00:00:00",
          "2021-04-27T00:00:00",
          "2021-04-26T00:00:00",
          "2021-04-23T00:00:00",
          "2021-04-22T00:00:00",
          "2021-04-20T00:00:00",
          "2021-04-19T00:00:00",
          "2021-04-16T00:00:00",
          "2021-04-15T00:00:00",
          "2021-04-13T00:00:00",
          "2021-04-12T00:00:00",
          "2021-04-09T00:00:00",
          "2021-04-08T00:00:00",
          "2021-04-07T00:00:00",
          "2021-04-06T00:00:00",
          "2021-04-05T00:00:00",
          "2021-04-01T00:00:00",
          "2021-03-31T00:00:00",
          "2021-03-30T00:00:00",
          "2021-03-26T00:00:00",
          "2021-03-25T00:00:00",
          "2021-03-24T00:00:00",
          "2021-03-23T00:00:00",
          "2021-03-22T00:00:00",
          "2021-03-19T00:00:00",
          "2021-03-18T00:00:00",
          "2021-03-17T00:00:00",
          "2021-03-16T00:00:00",
          "2021-03-15T00:00:00",
          "2021-03-12T00:00:00",
          "2021-03-10T00:00:00",
          "2021-03-09T00:00:00",
          "2021-03-08T00:00:00",
          "2021-03-05T00:00:00",
          "2021-03-04T00:00:00",
          "2021-03-03T00:00:00",
          "2021-03-02T00:00:00",
          "2021-03-01T00:00:00",
          "2021-02-26T00:00:00",
          "2021-02-25T00:00:00",
          "2021-02-24T00:00:00",
          "2021-02-23T00:00:00",
          "2021-02-22T00:00:00",
          "2021-02-19T00:00:00",
          "2021-02-18T00:00:00",
          "2021-02-17T00:00:00",
          "2021-02-16T00:00:00",
          "2021-02-15T00:00:00",
          "2021-02-12T00:00:00",
          "2021-02-11T00:00:00",
          "2021-02-10T00:00:00",
          "2021-02-09T00:00:00",
          "2021-02-08T00:00:00",
          "2021-02-05T00:00:00",
          "2021-02-04T00:00:00",
          "2021-02-03T00:00:00",
          "2021-02-02T00:00:00",
          "2021-02-01T00:00:00",
          "2021-01-29T00:00:00",
          "2021-01-28T00:00:00",
          "2021-01-27T00:00:00",
          "2021-01-25T00:00:00",
          "2021-01-22T00:00:00",
          "2021-01-21T00:00:00",
          "2021-01-20T00:00:00",
          "2021-01-19T00:00:00",
          "2021-01-18T00:00:00",
          "2021-01-15T00:00:00",
          "2021-01-14T00:00:00",
          "2021-01-13T00:00:00",
          "2021-01-12T00:00:00",
          "2021-01-11T00:00:00",
          "2021-01-08T00:00:00",
          "2021-01-07T00:00:00",
          "2021-01-06T00:00:00",
          "2021-01-05T00:00:00",
          "2021-01-04T00:00:00",
          "2021-01-01T00:00:00",
          "2020-12-31T00:00:00",
          "2020-12-30T00:00:00",
          "2020-12-29T00:00:00",
          "2020-12-28T00:00:00",
          "2020-12-24T00:00:00",
          "2020-12-23T00:00:00",
          "2020-12-22T00:00:00",
          "2020-12-21T00:00:00",
          "2020-12-18T00:00:00",
          "2020-12-17T00:00:00",
          "2020-12-16T00:00:00",
          "2020-12-15T00:00:00",
          "2020-12-14T00:00:00",
          "2020-12-11T00:00:00",
          "2020-12-10T00:00:00",
          "2020-12-09T00:00:00",
          "2020-12-08T00:00:00",
          "2020-12-07T00:00:00",
          "2020-12-04T00:00:00",
          "2020-12-03T00:00:00",
          "2020-12-02T00:00:00",
          "2020-12-01T00:00:00",
          "2020-11-27T00:00:00",
          "2020-11-26T00:00:00",
          "2020-11-25T00:00:00",
          "2020-11-24T00:00:00",
          "2020-11-23T00:00:00",
          "2020-11-20T00:00:00",
          "2020-11-19T00:00:00",
          "2020-11-18T00:00:00",
          "2020-11-17T00:00:00",
          "2020-11-14T00:00:00",
          "2020-11-13T00:00:00",
          "2020-11-12T00:00:00",
          "2020-11-11T00:00:00",
          "2020-11-10T00:00:00",
          "2020-11-09T00:00:00",
          "2020-11-06T00:00:00",
          "2020-11-05T00:00:00",
          "2020-11-04T00:00:00",
          "2020-11-03T00:00:00",
          "2020-11-02T00:00:00",
          "2020-10-30T00:00:00",
          "2020-10-29T00:00:00",
          "2020-10-28T00:00:00",
          "2020-10-27T00:00:00",
          "2020-10-26T00:00:00",
          "2020-10-23T00:00:00",
          "2020-10-22T00:00:00",
          "2020-10-21T00:00:00",
          "2020-10-20T00:00:00",
          "2020-10-19T00:00:00",
          "2020-10-16T00:00:00",
          "2020-10-15T00:00:00",
          "2020-10-14T00:00:00",
          "2020-10-13T00:00:00",
          "2020-10-12T00:00:00",
          "2020-10-09T00:00:00",
          "2020-10-08T00:00:00",
          "2020-10-07T00:00:00",
          "2020-10-06T00:00:00",
          "2020-10-05T00:00:00",
          "2020-10-01T00:00:00",
          "2020-09-30T00:00:00",
          "2020-09-29T00:00:00",
          "2020-09-28T00:00:00",
          "2020-09-25T00:00:00",
          "2020-09-24T00:00:00",
          "2020-09-23T00:00:00",
          "2020-09-22T00:00:00",
          "2020-09-21T00:00:00",
          "2020-09-18T00:00:00",
          "2020-09-17T00:00:00",
          "2020-09-16T00:00:00",
          "2020-09-15T00:00:00",
          "2020-09-14T00:00:00",
          "2020-09-11T00:00:00",
          "2020-09-10T00:00:00",
          "2020-09-09T00:00:00",
          "2020-09-08T00:00:00",
          "2020-09-07T00:00:00",
          "2020-09-04T00:00:00",
          "2020-09-03T00:00:00",
          "2020-09-02T00:00:00",
          "2020-09-01T00:00:00",
          "2020-08-31T00:00:00",
          "2020-08-28T00:00:00",
          "2020-08-27T00:00:00",
          "2020-08-26T00:00:00",
          "2020-08-25T00:00:00",
          "2020-08-24T00:00:00",
          "2020-08-21T00:00:00",
          "2020-08-20T00:00:00",
          "2020-08-19T00:00:00",
          "2020-08-18T00:00:00",
          "2020-08-17T00:00:00",
          "2020-08-14T00:00:00",
          "2020-08-13T00:00:00",
          "2020-08-12T00:00:00",
          "2020-08-11T00:00:00",
          "2020-08-10T00:00:00",
          "2020-08-07T00:00:00",
          "2020-08-06T00:00:00",
          "2020-08-05T00:00:00",
          "2020-08-04T00:00:00",
          "2020-08-03T00:00:00",
          "2020-07-31T00:00:00",
          "2020-07-30T00:00:00",
          "2020-07-29T00:00:00",
          "2020-07-28T00:00:00",
          "2020-07-27T00:00:00",
          "2020-07-24T00:00:00",
          "2020-07-23T00:00:00",
          "2020-07-22T00:00:00",
          "2020-07-21T00:00:00",
          "2020-07-20T00:00:00",
          "2020-07-17T00:00:00",
          "2020-07-16T00:00:00",
          "2020-07-15T00:00:00",
          "2020-07-14T00:00:00",
          "2020-07-13T00:00:00",
          "2020-07-10T00:00:00",
          "2020-07-09T00:00:00",
          "2020-07-08T00:00:00",
          "2020-07-07T00:00:00",
          "2020-07-06T00:00:00",
          "2020-07-03T00:00:00",
          "2020-07-02T00:00:00",
          "2020-07-01T00:00:00",
          "2020-06-30T00:00:00",
          "2020-06-29T00:00:00",
          "2020-06-26T00:00:00",
          "2020-06-25T00:00:00",
          "2020-06-24T00:00:00",
          "2020-06-23T00:00:00",
          "2020-06-22T00:00:00",
          "2020-06-19T00:00:00",
          "2020-06-18T00:00:00",
          "2020-06-17T00:00:00",
          "2020-06-16T00:00:00",
          "2020-06-15T00:00:00",
          "2020-06-12T00:00:00",
          "2020-06-11T00:00:00",
          "2020-06-10T00:00:00",
          "2020-06-09T00:00:00",
          "2020-06-08T00:00:00",
          "2020-06-05T00:00:00",
          "2020-06-04T00:00:00",
          "2020-06-03T00:00:00",
          "2020-06-02T00:00:00",
          "2020-06-01T00:00:00",
          "2020-05-29T00:00:00",
          "2020-05-28T00:00:00",
          "2020-05-27T00:00:00",
          "2020-05-26T00:00:00",
          "2020-05-22T00:00:00",
          "2020-05-21T00:00:00",
          "2020-05-20T00:00:00",
          "2020-05-19T00:00:00",
          "2020-05-18T00:00:00",
          "2020-05-15T00:00:00",
          "2020-05-14T00:00:00",
          "2020-05-13T00:00:00",
          "2020-05-12T00:00:00",
          "2020-05-11T00:00:00",
          "2020-05-08T00:00:00",
          "2020-05-07T00:00:00",
          "2020-05-06T00:00:00",
          "2020-05-05T00:00:00",
          "2020-05-04T00:00:00",
          "2020-04-30T00:00:00",
          "2020-04-29T00:00:00",
          "2020-04-28T00:00:00",
          "2020-04-27T00:00:00",
          "2020-04-24T00:00:00",
          "2020-04-23T00:00:00",
          "2020-04-22T00:00:00",
          "2020-04-21T00:00:00",
          "2020-04-20T00:00:00",
          "2020-04-17T00:00:00",
          "2020-04-16T00:00:00",
          "2020-04-15T00:00:00",
          "2020-04-13T00:00:00",
          "2020-04-09T00:00:00",
          "2020-04-08T00:00:00",
          "2020-04-07T00:00:00",
          "2020-04-03T00:00:00",
          "2020-04-01T00:00:00",
          "2020-03-31T00:00:00",
          "2020-03-30T00:00:00",
          "2020-03-27T00:00:00",
          "2020-03-26T00:00:00",
          "2020-03-25T00:00:00",
          "2020-03-24T00:00:00",
          "2020-03-23T00:00:00",
          "2020-03-20T00:00:00",
          "2020-03-19T00:00:00",
          "2020-03-18T00:00:00",
          "2020-03-17T00:00:00",
          "2020-03-16T00:00:00",
          "2020-03-13T00:00:00",
          "2020-03-12T00:00:00",
          "2020-03-11T00:00:00",
          "2020-03-09T00:00:00",
          "2020-03-06T00:00:00",
          "2020-03-05T00:00:00",
          "2020-03-04T00:00:00",
          "2020-03-03T00:00:00",
          "2020-03-02T00:00:00",
          "2020-02-28T00:00:00",
          "2020-02-27T00:00:00",
          "2020-02-26T00:00:00",
          "2020-02-25T00:00:00",
          "2020-02-24T00:00:00",
          "2020-02-20T00:00:00",
          "2020-02-19T00:00:00",
          "2020-02-18T00:00:00",
          "2020-02-17T00:00:00",
          "2020-02-14T00:00:00",
          "2020-02-13T00:00:00",
          "2020-02-12T00:00:00",
          "2020-02-11T00:00:00",
          "2020-02-10T00:00:00",
          "2020-02-07T00:00:00",
          "2020-02-06T00:00:00",
          "2020-02-05T00:00:00",
          "2020-02-04T00:00:00",
          "2020-02-03T00:00:00",
          "2020-02-01T00:00:00",
          "2020-01-31T00:00:00",
          "2020-01-30T00:00:00",
          "2020-01-29T00:00:00",
          "2020-01-28T00:00:00",
          "2020-01-27T00:00:00",
          "2020-01-24T00:00:00",
          "2020-01-23T00:00:00",
          "2020-01-22T00:00:00",
          "2020-01-21T00:00:00",
          "2020-01-20T00:00:00",
          "2020-01-17T00:00:00",
          "2020-01-16T00:00:00",
          "2020-01-15T00:00:00",
          "2020-01-14T00:00:00",
          "2020-01-13T00:00:00",
          "2020-01-10T00:00:00",
          "2020-01-09T00:00:00",
          "2020-01-08T00:00:00",
          "2020-01-07T00:00:00",
          "2020-01-06T00:00:00",
          "2020-01-03T00:00:00",
          "2020-01-02T00:00:00",
          "2020-01-01T00:00:00",
          "2019-12-31T00:00:00",
          "2019-12-30T00:00:00",
          "2019-12-27T00:00:00",
          "2019-12-26T00:00:00",
          "2019-12-24T00:00:00",
          "2019-12-23T00:00:00",
          "2019-12-20T00:00:00",
          "2019-12-19T00:00:00",
          "2019-12-18T00:00:00",
          "2019-12-17T00:00:00",
          "2019-12-16T00:00:00",
          "2019-12-13T00:00:00",
          "2019-12-12T00:00:00",
          "2019-12-11T00:00:00",
          "2019-12-10T00:00:00",
          "2019-12-09T00:00:00",
          "2019-12-06T00:00:00",
          "2019-12-05T00:00:00",
          "2019-12-04T00:00:00",
          "2019-12-03T00:00:00",
          "2019-12-02T00:00:00",
          "2019-11-29T00:00:00",
          "2019-11-28T00:00:00",
          "2019-11-27T00:00:00",
          "2019-11-26T00:00:00",
          "2019-11-25T00:00:00",
          "2019-11-22T00:00:00",
          "2019-11-21T00:00:00",
          "2019-11-20T00:00:00",
          "2019-11-19T00:00:00",
          "2019-11-18T00:00:00",
          "2019-11-15T00:00:00",
          "2019-11-14T00:00:00",
          "2019-11-13T00:00:00",
          "2019-11-11T00:00:00",
          "2019-11-08T00:00:00",
          "2019-11-07T00:00:00",
          "2019-11-06T00:00:00",
          "2019-11-05T00:00:00",
          "2019-11-04T00:00:00",
          "2019-11-01T00:00:00",
          "2019-10-31T00:00:00",
          "2019-10-30T00:00:00",
          "2019-10-29T00:00:00",
          "2019-10-27T00:00:00",
          "2019-10-25T00:00:00",
          "2019-10-24T00:00:00",
          "2019-10-23T00:00:00",
          "2019-10-22T00:00:00",
          "2019-10-18T00:00:00",
          "2019-10-17T00:00:00",
          "2019-10-16T00:00:00",
          "2019-10-15T00:00:00",
          "2019-10-14T00:00:00",
          "2019-10-11T00:00:00",
          "2019-10-10T00:00:00",
          "2019-10-09T00:00:00",
          "2019-10-07T00:00:00",
          "2019-10-04T00:00:00",
          "2019-10-03T00:00:00",
          "2019-10-01T00:00:00",
          "2019-09-30T00:00:00",
          "2019-09-27T00:00:00",
          "2019-09-26T00:00:00",
          "2019-09-25T00:00:00",
          "2019-09-24T00:00:00",
          "2019-09-23T00:00:00",
          "2019-09-20T00:00:00",
          "2019-09-19T00:00:00",
          "2019-09-18T00:00:00",
          "2019-09-17T00:00:00",
          "2019-09-16T00:00:00",
          "2019-09-13T00:00:00",
          "2019-09-12T00:00:00",
          "2019-09-11T00:00:00",
          "2019-09-09T00:00:00",
          "2019-09-06T00:00:00",
          "2019-09-05T00:00:00",
          "2019-09-04T00:00:00",
          "2019-09-03T00:00:00",
          "2019-08-30T00:00:00",
          "2019-08-29T00:00:00",
          "2019-08-28T00:00:00",
          "2019-08-27T00:00:00",
          "2019-08-26T00:00:00",
          "2019-08-23T00:00:00",
          "2019-08-22T00:00:00",
          "2019-08-21T00:00:00",
          "2019-08-20T00:00:00",
          "2019-08-19T00:00:00",
          "2019-08-16T00:00:00",
          "2019-08-14T00:00:00",
          "2019-08-13T00:00:00",
          "2019-08-09T00:00:00",
          "2019-08-08T00:00:00",
          "2019-08-07T00:00:00",
          "2019-08-06T00:00:00",
          "2019-08-05T00:00:00",
          "2019-08-02T00:00:00",
          "2019-08-01T00:00:00",
          "2019-07-31T00:00:00",
          "2019-07-30T00:00:00",
          "2019-07-29T00:00:00",
          "2019-07-26T00:00:00",
          "2019-07-25T00:00:00",
          "2019-07-24T00:00:00",
          "2019-07-23T00:00:00",
          "2019-07-22T00:00:00",
          "2019-07-19T00:00:00",
          "2019-07-18T00:00:00",
          "2019-07-17T00:00:00",
          "2019-07-16T00:00:00",
          "2019-07-15T00:00:00",
          "2019-07-12T00:00:00",
          "2019-07-11T00:00:00",
          "2019-07-10T00:00:00",
          "2019-07-09T00:00:00",
          "2019-07-08T00:00:00",
          "2019-07-05T00:00:00",
          "2019-07-04T00:00:00",
          "2019-07-03T00:00:00",
          "2019-07-02T00:00:00",
          "2019-07-01T00:00:00",
          "2019-06-28T00:00:00",
          "2019-06-27T00:00:00",
          "2019-06-26T00:00:00",
          "2019-06-25T00:00:00",
          "2019-06-24T00:00:00",
          "2019-06-21T00:00:00",
          "2019-06-20T00:00:00",
          "2019-06-19T00:00:00",
          "2019-06-18T00:00:00",
          "2019-06-17T00:00:00",
          "2019-06-14T00:00:00",
          "2019-06-13T00:00:00",
          "2019-06-12T00:00:00",
          "2019-06-11T00:00:00",
          "2019-06-10T00:00:00",
          "2019-06-07T00:00:00",
          "2019-06-06T00:00:00",
          "2019-06-04T00:00:00",
          "2019-06-03T00:00:00",
          "2019-05-31T00:00:00",
          "2019-05-30T00:00:00",
          "2019-05-29T00:00:00",
          "2019-05-28T00:00:00",
          "2019-05-27T00:00:00",
          "2019-05-24T00:00:00",
          "2019-05-23T00:00:00",
          "2019-05-22T00:00:00",
          "2019-05-21T00:00:00",
          "2019-05-20T00:00:00",
          "2019-05-17T00:00:00",
          "2019-05-16T00:00:00",
          "2019-05-15T00:00:00",
          "2019-05-14T00:00:00",
          "2019-05-13T00:00:00",
          "2019-05-10T00:00:00",
          "2019-05-09T00:00:00",
          "2019-05-08T00:00:00",
          "2019-05-07T00:00:00",
          "2019-05-06T00:00:00",
          "2019-05-03T00:00:00",
          "2019-05-02T00:00:00",
          "2019-04-30T00:00:00",
          "2019-04-26T00:00:00",
          "2019-04-25T00:00:00",
          "2019-04-24T00:00:00",
          "2019-04-23T00:00:00",
          "2019-04-22T00:00:00",
          "2019-04-18T00:00:00",
          "2019-04-16T00:00:00",
          "2019-04-15T00:00:00",
          "2019-04-12T00:00:00",
          "2019-04-11T00:00:00",
          "2019-04-10T00:00:00",
          "2019-04-09T00:00:00",
          "2019-04-08T00:00:00",
          "2019-04-05T00:00:00",
          "2019-04-04T00:00:00",
          "2019-04-03T00:00:00",
          "2019-04-02T00:00:00",
          "2019-04-01T00:00:00",
          "2019-03-29T00:00:00",
          "2019-03-28T00:00:00",
          "2019-03-27T00:00:00",
          "2019-03-26T00:00:00",
          "2019-03-25T00:00:00",
          "2019-03-22T00:00:00",
          "2019-03-20T00:00:00",
          "2019-03-19T00:00:00",
          "2019-03-18T00:00:00",
          "2019-03-15T00:00:00",
          "2019-03-14T00:00:00",
          "2019-03-13T00:00:00",
          "2019-03-12T00:00:00",
          "2019-03-11T00:00:00",
          "2019-03-08T00:00:00",
          "2019-03-07T00:00:00",
          "2019-03-06T00:00:00",
          "2019-03-05T00:00:00",
          "2019-03-01T00:00:00",
          "2019-02-28T00:00:00",
          "2019-02-27T00:00:00",
          "2019-02-26T00:00:00",
          "2019-02-25T00:00:00",
          "2019-02-22T00:00:00",
          "2019-02-21T00:00:00",
          "2019-02-20T00:00:00",
          "2019-02-19T00:00:00",
          "2019-02-18T00:00:00",
          "2019-02-15T00:00:00",
          "2019-02-14T00:00:00",
          "2019-02-13T00:00:00",
          "2019-02-12T00:00:00",
          "2019-02-11T00:00:00",
          "2019-02-08T00:00:00",
          "2019-02-07T00:00:00",
          "2019-02-06T00:00:00",
          "2019-02-05T00:00:00",
          "2019-02-04T00:00:00",
          "2019-02-01T00:00:00",
          "2019-01-31T00:00:00",
          "2019-01-30T00:00:00",
          "2019-01-29T00:00:00",
          "2019-01-28T00:00:00",
          "2019-01-25T00:00:00",
          "2019-01-24T00:00:00",
          "2019-01-23T00:00:00",
          "2019-01-22T00:00:00",
          "2019-01-21T00:00:00",
          "2019-01-18T00:00:00",
          "2019-01-17T00:00:00",
          "2019-01-16T00:00:00",
          "2019-01-15T00:00:00",
          "2019-01-14T00:00:00",
          "2019-01-11T00:00:00",
          "2019-01-10T00:00:00",
          "2019-01-09T00:00:00",
          "2019-01-08T00:00:00",
          "2019-01-07T00:00:00",
          "2019-01-04T00:00:00",
          "2019-01-03T00:00:00",
          "2019-01-02T00:00:00",
          "2019-01-01T00:00:00",
          "2018-12-31T00:00:00",
          "2018-12-28T00:00:00",
          "2018-12-27T00:00:00",
          "2018-12-26T00:00:00",
          "2018-12-24T00:00:00",
          "2018-12-21T00:00:00",
          "2018-12-20T00:00:00",
          "2018-12-19T00:00:00",
          "2018-12-18T00:00:00",
          "2018-12-17T00:00:00",
          "2018-12-14T00:00:00",
          "2018-12-13T00:00:00",
          "2018-12-12T00:00:00",
          "2018-12-11T00:00:00",
          "2018-12-10T00:00:00",
          "2018-12-07T00:00:00",
          "2018-12-06T00:00:00",
          "2018-12-05T00:00:00",
          "2018-12-04T00:00:00",
          "2018-12-03T00:00:00",
          "2018-11-30T00:00:00",
          "2018-11-29T00:00:00",
          "2018-11-28T00:00:00",
          "2018-11-27T00:00:00",
          "2018-11-26T00:00:00",
          "2018-11-22T00:00:00",
          "2018-11-21T00:00:00",
          "2018-11-20T00:00:00",
          "2018-11-19T00:00:00",
          "2018-11-16T00:00:00",
          "2018-11-15T00:00:00",
          "2018-11-14T00:00:00",
          "2018-11-13T00:00:00",
          "2018-11-12T00:00:00",
          "2018-11-09T00:00:00",
          "2018-11-07T00:00:00",
          "2018-11-06T00:00:00",
          "2018-11-05T00:00:00",
          "2018-11-02T00:00:00",
          "2018-11-01T00:00:00",
          "2018-10-31T00:00:00",
          "2018-10-30T00:00:00",
          "2018-10-29T00:00:00",
          "2018-10-26T00:00:00",
          "2018-10-25T00:00:00",
          "2018-10-24T00:00:00",
          "2018-10-23T00:00:00",
          "2018-10-22T00:00:00",
          "2018-10-19T00:00:00",
          "2018-10-17T00:00:00",
          "2018-10-16T00:00:00",
          "2018-10-15T00:00:00",
          "2018-10-12T00:00:00",
          "2018-10-11T00:00:00",
          "2018-10-10T00:00:00",
          "2018-10-09T00:00:00",
          "2018-10-08T00:00:00",
          "2018-10-05T00:00:00",
          "2018-10-04T00:00:00",
          "2018-10-03T00:00:00",
          "2018-10-01T00:00:00",
          "2018-09-28T00:00:00",
          "2018-09-27T00:00:00",
          "2018-09-26T00:00:00",
          "2018-09-25T00:00:00",
          "2018-09-24T00:00:00",
          "2018-09-21T00:00:00",
          "2018-09-19T00:00:00",
          "2018-09-18T00:00:00",
          "2018-09-17T00:00:00",
          "2018-09-14T00:00:00",
          "2018-09-12T00:00:00",
          "2018-09-11T00:00:00",
          "2018-09-10T00:00:00",
          "2018-09-07T00:00:00",
          "2018-09-06T00:00:00",
          "2018-09-05T00:00:00",
          "2018-09-04T00:00:00",
          "2018-09-03T00:00:00",
          "2018-08-31T00:00:00",
          "2018-08-30T00:00:00",
          "2018-08-29T00:00:00",
          "2018-08-28T00:00:00",
          "2018-08-27T00:00:00",
          "2018-08-24T00:00:00",
          "2018-08-23T00:00:00",
          "2018-08-21T00:00:00",
          "2018-08-20T00:00:00",
          "2018-08-17T00:00:00",
          "2018-08-16T00:00:00",
          "2018-08-14T00:00:00",
          "2018-08-13T00:00:00",
          "2018-08-10T00:00:00",
          "2018-08-09T00:00:00",
          "2018-08-08T00:00:00",
          "2018-08-07T00:00:00",
          "2018-08-06T00:00:00",
          "2018-08-03T00:00:00",
          "2018-08-02T00:00:00",
          "2018-08-01T00:00:00",
          "2018-07-31T00:00:00",
          "2018-07-30T00:00:00",
          "2018-07-27T00:00:00",
          "2018-07-26T00:00:00",
          "2018-07-25T00:00:00",
          "2018-07-24T00:00:00",
          "2018-07-23T00:00:00",
          "2018-07-20T00:00:00",
          "2018-07-19T00:00:00",
          "2018-07-18T00:00:00",
          "2018-07-17T00:00:00",
          "2018-07-16T00:00:00",
          "2018-07-13T00:00:00",
          "2018-07-12T00:00:00",
          "2018-07-11T00:00:00",
          "2018-07-10T00:00:00",
          "2018-07-09T00:00:00",
          "2018-07-06T00:00:00",
          "2018-07-05T00:00:00",
          "2018-07-04T00:00:00",
          "2018-07-03T00:00:00",
          "2018-07-02T00:00:00",
          "2018-06-29T00:00:00",
          "2018-06-28T00:00:00",
          "2018-06-27T00:00:00",
          "2018-06-26T00:00:00",
          "2018-06-25T00:00:00",
          "2018-06-22T00:00:00",
          "2018-06-21T00:00:00",
          "2018-06-20T00:00:00",
          "2018-06-19T00:00:00",
          "2018-06-18T00:00:00",
          "2018-06-15T00:00:00",
          "2018-06-14T00:00:00",
          "2018-06-13T00:00:00",
          "2018-06-12T00:00:00",
          "2018-06-11T00:00:00",
          "2018-06-08T00:00:00",
          "2018-06-07T00:00:00",
          "2018-06-06T00:00:00",
          "2018-06-05T00:00:00",
          "2018-06-04T00:00:00",
          "2018-06-01T00:00:00",
          "2018-05-31T00:00:00",
          "2018-05-30T00:00:00",
          "2018-05-29T00:00:00",
          "2018-05-28T00:00:00",
          "2018-05-25T00:00:00",
          "2018-05-24T00:00:00",
          "2018-05-23T00:00:00",
          "2018-05-22T00:00:00",
          "2018-05-21T00:00:00",
          "2018-05-18T00:00:00",
          "2018-05-17T00:00:00",
          "2018-05-16T00:00:00",
          "2018-05-15T00:00:00",
          "2018-05-14T00:00:00",
          "2018-05-11T00:00:00",
          "2018-05-10T00:00:00",
          "2018-05-09T00:00:00",
          "2018-05-08T00:00:00",
          "2018-05-07T00:00:00",
          "2018-05-04T00:00:00",
          "2018-05-03T00:00:00",
          "2018-05-02T00:00:00",
          "2018-04-30T00:00:00",
          "2018-04-27T00:00:00",
          "2018-04-26T00:00:00",
          "2018-04-25T00:00:00",
          "2018-04-24T00:00:00",
          "2018-04-23T00:00:00",
          "2018-04-20T00:00:00",
          "2018-04-19T00:00:00",
          "2018-04-18T00:00:00",
          "2018-04-17T00:00:00",
          "2018-04-16T00:00:00",
          "2018-04-13T00:00:00",
          "2018-04-12T00:00:00",
          "2018-04-11T00:00:00",
          "2018-04-10T00:00:00",
          "2018-04-09T00:00:00",
          "2018-04-06T00:00:00",
          "2018-04-05T00:00:00",
          "2018-04-04T00:00:00",
          "2018-04-03T00:00:00",
          "2018-04-02T00:00:00",
          "2018-03-28T00:00:00",
          "2018-03-27T00:00:00",
          "2018-03-26T00:00:00",
          "2018-03-23T00:00:00",
          "2018-03-22T00:00:00",
          "2018-03-21T00:00:00",
          "2018-03-20T00:00:00",
          "2018-03-19T00:00:00",
          "2018-03-16T00:00:00",
          "2018-03-15T00:00:00",
          "2018-03-14T00:00:00",
          "2018-03-13T00:00:00",
          "2018-03-12T00:00:00",
          "2018-03-09T00:00:00",
          "2018-03-08T00:00:00",
          "2018-03-07T00:00:00",
          "2018-03-06T00:00:00",
          "2018-03-05T00:00:00",
          "2018-03-01T00:00:00",
          "2018-02-28T00:00:00",
          "2018-02-27T00:00:00",
          "2018-02-26T00:00:00",
          "2018-02-23T00:00:00",
          "2018-02-22T00:00:00",
          "2018-02-21T00:00:00",
          "2018-02-20T00:00:00",
          "2018-02-19T00:00:00",
          "2018-02-16T00:00:00",
          "2018-02-15T00:00:00",
          "2018-02-14T00:00:00",
          "2018-02-12T00:00:00",
          "2018-02-09T00:00:00",
          "2018-02-08T00:00:00",
          "2018-02-07T00:00:00",
          "2018-02-06T00:00:00",
          "2018-02-05T00:00:00",
          "2018-02-02T00:00:00",
          "2018-02-01T00:00:00",
          "2018-01-31T00:00:00",
          "2018-01-30T00:00:00",
          "2018-01-29T00:00:00",
          "2018-01-25T00:00:00",
          "2018-01-24T00:00:00",
          "2018-01-23T00:00:00",
          "2018-01-22T00:00:00",
          "2018-01-19T00:00:00",
          "2018-01-18T00:00:00",
          "2018-01-17T00:00:00",
          "2018-01-16T00:00:00",
          "2018-01-15T00:00:00",
          "2018-01-12T00:00:00",
          "2018-01-11T00:00:00",
          "2018-01-10T00:00:00",
          "2018-01-09T00:00:00",
          "2018-01-08T00:00:00",
          "2018-01-05T00:00:00",
          "2018-01-04T00:00:00",
          "2018-01-03T00:00:00",
          "2018-01-02T00:00:00",
          "2018-01-01T00:00:00",
          "2017-12-29T00:00:00",
          "2017-12-28T00:00:00",
          "2017-12-27T00:00:00",
          "2017-12-26T00:00:00",
          "2017-12-22T00:00:00",
          "2017-12-21T00:00:00",
          "2017-12-20T00:00:00",
          "2017-12-19T00:00:00",
          "2017-12-18T00:00:00",
          "2017-12-15T00:00:00",
          "2017-12-14T00:00:00",
          "2017-12-13T00:00:00",
          "2017-12-12T00:00:00",
          "2017-12-11T00:00:00",
          "2017-12-08T00:00:00",
          "2017-12-07T00:00:00",
          "2017-12-06T00:00:00",
          "2017-12-05T00:00:00",
          "2017-12-04T00:00:00",
          "2017-12-01T00:00:00",
          "2017-11-30T00:00:00",
          "2017-11-29T00:00:00",
          "2017-11-28T00:00:00",
          "2017-11-27T00:00:00",
          "2017-11-24T00:00:00",
          "2017-11-23T00:00:00",
          "2017-11-22T00:00:00",
          "2017-11-21T00:00:00",
          "2017-11-20T00:00:00",
          "2017-11-17T00:00:00",
          "2017-11-16T00:00:00",
          "2017-11-15T00:00:00",
          "2017-11-14T00:00:00",
          "2017-11-13T00:00:00",
          "2017-11-10T00:00:00",
          "2017-11-09T00:00:00",
          "2017-11-08T00:00:00",
          "2017-11-07T00:00:00",
          "2017-11-06T00:00:00",
          "2017-11-03T00:00:00",
          "2017-11-02T00:00:00",
          "2017-11-01T00:00:00",
          "2017-10-31T00:00:00",
          "2017-10-30T00:00:00",
          "2017-10-27T00:00:00",
          "2017-10-26T00:00:00",
          "2017-10-25T00:00:00",
          "2017-10-24T00:00:00",
          "2017-10-23T00:00:00",
          "2017-10-19T00:00:00",
          "2017-10-18T00:00:00",
          "2017-10-17T00:00:00",
          "2017-10-16T00:00:00",
          "2017-10-13T00:00:00",
          "2017-10-12T00:00:00",
          "2017-10-11T00:00:00",
          "2017-10-10T00:00:00",
          "2017-10-09T00:00:00",
          "2017-10-06T00:00:00",
          "2017-10-05T00:00:00",
          "2017-10-04T00:00:00",
          "2017-10-03T00:00:00",
          "2017-09-29T00:00:00",
          "2017-09-28T00:00:00",
          "2017-09-27T00:00:00",
          "2017-09-26T00:00:00",
          "2017-09-25T00:00:00",
          "2017-09-22T00:00:00",
          "2017-09-21T00:00:00",
          "2017-09-20T00:00:00",
          "2017-09-19T00:00:00",
          "2017-09-18T00:00:00",
          "2017-09-15T00:00:00",
          "2017-09-14T00:00:00",
          "2017-09-13T00:00:00",
          "2017-09-12T00:00:00",
          "2017-09-11T00:00:00",
          "2017-09-08T00:00:00",
          "2017-09-07T00:00:00",
          "2017-09-06T00:00:00",
          "2017-09-05T00:00:00",
          "2017-09-04T00:00:00",
          "2017-09-01T00:00:00",
          "2017-08-31T00:00:00",
          "2017-08-30T00:00:00",
          "2017-08-29T00:00:00",
          "2017-08-28T00:00:00",
          "2017-08-24T00:00:00",
          "2017-08-23T00:00:00",
          "2017-08-22T00:00:00",
          "2017-08-21T00:00:00",
          "2017-08-18T00:00:00",
          "2017-08-17T00:00:00",
          "2017-08-16T00:00:00",
          "2017-08-14T00:00:00",
          "2017-08-11T00:00:00",
          "2017-08-10T00:00:00",
          "2017-08-09T00:00:00",
          "2017-08-08T00:00:00",
          "2017-08-07T00:00:00",
          "2017-08-04T00:00:00",
          "2017-08-03T00:00:00",
          "2017-08-02T00:00:00",
          "2017-08-01T00:00:00",
          "2017-07-31T00:00:00",
          "2017-07-28T00:00:00",
          "2017-07-27T00:00:00",
          "2017-07-26T00:00:00",
          "2017-07-25T00:00:00",
          "2017-07-24T00:00:00",
          "2017-07-21T00:00:00",
          "2017-07-20T00:00:00",
          "2017-07-19T00:00:00",
          "2017-07-18T00:00:00",
          "2017-07-17T00:00:00",
          "2017-07-14T00:00:00",
          "2017-07-13T00:00:00",
          "2017-07-12T00:00:00",
          "2017-07-11T00:00:00",
          "2017-07-10T00:00:00",
          "2017-07-07T00:00:00",
          "2017-07-06T00:00:00",
          "2017-07-05T00:00:00",
          "2017-07-04T00:00:00",
          "2017-07-03T00:00:00",
          "2017-06-30T00:00:00",
          "2017-06-29T00:00:00",
          "2017-06-28T00:00:00",
          "2017-06-27T00:00:00",
          "2017-06-23T00:00:00",
          "2017-06-22T00:00:00",
          "2017-06-21T00:00:00",
          "2017-06-20T00:00:00",
          "2017-06-19T00:00:00",
          "2017-06-16T00:00:00",
          "2017-06-15T00:00:00",
          "2017-06-14T00:00:00",
          "2017-06-13T00:00:00",
          "2017-06-12T00:00:00",
          "2017-06-09T00:00:00",
          "2017-06-08T00:00:00",
          "2017-06-07T00:00:00",
          "2017-06-06T00:00:00",
          "2017-06-05T00:00:00",
          "2017-06-02T00:00:00",
          "2017-06-01T00:00:00",
          "2017-05-31T00:00:00",
          "2017-05-30T00:00:00",
          "2017-05-29T00:00:00",
          "2017-05-26T00:00:00",
          "2017-05-25T00:00:00",
          "2017-05-24T00:00:00",
          "2017-05-23T00:00:00",
          "2017-05-22T00:00:00",
          "2017-05-19T00:00:00",
          "2017-05-18T00:00:00",
          "2017-05-17T00:00:00",
          "2017-05-16T00:00:00",
          "2017-05-15T00:00:00",
          "2017-05-12T00:00:00",
          "2017-05-11T00:00:00",
          "2017-05-10T00:00:00",
          "2017-05-09T00:00:00",
          "2017-05-08T00:00:00",
          "2017-05-05T00:00:00",
          "2017-05-04T00:00:00",
          "2017-05-03T00:00:00",
          "2017-05-02T00:00:00",
          "2017-04-28T00:00:00",
          "2017-04-27T00:00:00",
          "2017-04-26T00:00:00",
          "2017-04-25T00:00:00",
          "2017-04-24T00:00:00",
          "2017-04-21T00:00:00",
          "2017-04-20T00:00:00",
          "2017-04-19T00:00:00",
          "2017-04-18T00:00:00",
          "2017-04-17T00:00:00",
          "2017-04-13T00:00:00",
          "2017-04-12T00:00:00",
          "2017-04-11T00:00:00",
          "2017-04-10T00:00:00",
          "2017-04-07T00:00:00",
          "2017-04-06T00:00:00",
          "2017-04-05T00:00:00",
          "2017-04-03T00:00:00",
          "2017-03-31T00:00:00",
          "2017-03-30T00:00:00",
          "2017-03-29T00:00:00",
          "2017-03-28T00:00:00",
          "2017-03-27T00:00:00",
          "2017-03-24T00:00:00",
          "2017-03-23T00:00:00",
          "2017-03-22T00:00:00",
          "2017-03-21T00:00:00",
          "2017-03-20T00:00:00",
          "2017-03-17T00:00:00",
          "2017-03-16T00:00:00",
          "2017-03-15T00:00:00",
          "2017-03-14T00:00:00",
          "2017-03-10T00:00:00",
          "2017-03-09T00:00:00",
          "2017-03-08T00:00:00",
          "2017-03-07T00:00:00",
          "2017-03-06T00:00:00",
          "2017-03-03T00:00:00",
          "2017-03-02T00:00:00",
          "2017-03-01T00:00:00"
         ]
        }
       ],
       "layout": {
        "template": {
         "data": {
          "bar": [
           {
            "error_x": {
             "color": "#2a3f5f"
            },
            "error_y": {
             "color": "#2a3f5f"
            },
            "marker": {
             "line": {
              "color": "#E5ECF6",
              "width": 0.5
             },
             "pattern": {
              "fillmode": "overlay",
              "size": 10,
              "solidity": 0.2
             }
            },
            "type": "bar"
           }
          ],
          "barpolar": [
           {
            "marker": {
             "line": {
              "color": "#E5ECF6",
              "width": 0.5
             },
             "pattern": {
              "fillmode": "overlay",
              "size": 10,
              "solidity": 0.2
             }
            },
            "type": "barpolar"
           }
          ],
          "carpet": [
           {
            "aaxis": {
             "endlinecolor": "#2a3f5f",
             "gridcolor": "white",
             "linecolor": "white",
             "minorgridcolor": "white",
             "startlinecolor": "#2a3f5f"
            },
            "baxis": {
             "endlinecolor": "#2a3f5f",
             "gridcolor": "white",
             "linecolor": "white",
             "minorgridcolor": "white",
             "startlinecolor": "#2a3f5f"
            },
            "type": "carpet"
           }
          ],
          "choropleth": [
           {
            "colorbar": {
             "outlinewidth": 0,
             "ticks": ""
            },
            "type": "choropleth"
           }
          ],
          "contour": [
           {
            "colorbar": {
             "outlinewidth": 0,
             "ticks": ""
            },
            "colorscale": [
             [
              0,
              "#0d0887"
             ],
             [
              0.1111111111111111,
              "#46039f"
             ],
             [
              0.2222222222222222,
              "#7201a8"
             ],
             [
              0.3333333333333333,
              "#9c179e"
             ],
             [
              0.4444444444444444,
              "#bd3786"
             ],
             [
              0.5555555555555556,
              "#d8576b"
             ],
             [
              0.6666666666666666,
              "#ed7953"
             ],
             [
              0.7777777777777778,
              "#fb9f3a"
             ],
             [
              0.8888888888888888,
              "#fdca26"
             ],
             [
              1,
              "#f0f921"
             ]
            ],
            "type": "contour"
           }
          ],
          "contourcarpet": [
           {
            "colorbar": {
             "outlinewidth": 0,
             "ticks": ""
            },
            "type": "contourcarpet"
           }
          ],
          "heatmap": [
           {
            "colorbar": {
             "outlinewidth": 0,
             "ticks": ""
            },
            "colorscale": [
             [
              0,
              "#0d0887"
             ],
             [
              0.1111111111111111,
              "#46039f"
             ],
             [
              0.2222222222222222,
              "#7201a8"
             ],
             [
              0.3333333333333333,
              "#9c179e"
             ],
             [
              0.4444444444444444,
              "#bd3786"
             ],
             [
              0.5555555555555556,
              "#d8576b"
             ],
             [
              0.6666666666666666,
              "#ed7953"
             ],
             [
              0.7777777777777778,
              "#fb9f3a"
             ],
             [
              0.8888888888888888,
              "#fdca26"
             ],
             [
              1,
              "#f0f921"
             ]
            ],
            "type": "heatmap"
           }
          ],
          "heatmapgl": [
           {
            "colorbar": {
             "outlinewidth": 0,
             "ticks": ""
            },
            "colorscale": [
             [
              0,
              "#0d0887"
             ],
             [
              0.1111111111111111,
              "#46039f"
             ],
             [
              0.2222222222222222,
              "#7201a8"
             ],
             [
              0.3333333333333333,
              "#9c179e"
             ],
             [
              0.4444444444444444,
              "#bd3786"
             ],
             [
              0.5555555555555556,
              "#d8576b"
             ],
             [
              0.6666666666666666,
              "#ed7953"
             ],
             [
              0.7777777777777778,
              "#fb9f3a"
             ],
             [
              0.8888888888888888,
              "#fdca26"
             ],
             [
              1,
              "#f0f921"
             ]
            ],
            "type": "heatmapgl"
           }
          ],
          "histogram": [
           {
            "marker": {
             "pattern": {
              "fillmode": "overlay",
              "size": 10,
              "solidity": 0.2
             }
            },
            "type": "histogram"
           }
          ],
          "histogram2d": [
           {
            "colorbar": {
             "outlinewidth": 0,
             "ticks": ""
            },
            "colorscale": [
             [
              0,
              "#0d0887"
             ],
             [
              0.1111111111111111,
              "#46039f"
             ],
             [
              0.2222222222222222,
              "#7201a8"
             ],
             [
              0.3333333333333333,
              "#9c179e"
             ],
             [
              0.4444444444444444,
              "#bd3786"
             ],
             [
              0.5555555555555556,
              "#d8576b"
             ],
             [
              0.6666666666666666,
              "#ed7953"
             ],
             [
              0.7777777777777778,
              "#fb9f3a"
             ],
             [
              0.8888888888888888,
              "#fdca26"
             ],
             [
              1,
              "#f0f921"
             ]
            ],
            "type": "histogram2d"
           }
          ],
          "histogram2dcontour": [
           {
            "colorbar": {
             "outlinewidth": 0,
             "ticks": ""
            },
            "colorscale": [
             [
              0,
              "#0d0887"
             ],
             [
              0.1111111111111111,
              "#46039f"
             ],
             [
              0.2222222222222222,
              "#7201a8"
             ],
             [
              0.3333333333333333,
              "#9c179e"
             ],
             [
              0.4444444444444444,
              "#bd3786"
             ],
             [
              0.5555555555555556,
              "#d8576b"
             ],
             [
              0.6666666666666666,
              "#ed7953"
             ],
             [
              0.7777777777777778,
              "#fb9f3a"
             ],
             [
              0.8888888888888888,
              "#fdca26"
             ],
             [
              1,
              "#f0f921"
             ]
            ],
            "type": "histogram2dcontour"
           }
          ],
          "mesh3d": [
           {
            "colorbar": {
             "outlinewidth": 0,
             "ticks": ""
            },
            "type": "mesh3d"
           }
          ],
          "parcoords": [
           {
            "line": {
             "colorbar": {
              "outlinewidth": 0,
              "ticks": ""
             }
            },
            "type": "parcoords"
           }
          ],
          "pie": [
           {
            "automargin": true,
            "type": "pie"
           }
          ],
          "scatter": [
           {
            "fillpattern": {
             "fillmode": "overlay",
             "size": 10,
             "solidity": 0.2
            },
            "type": "scatter"
           }
          ],
          "scatter3d": [
           {
            "line": {
             "colorbar": {
              "outlinewidth": 0,
              "ticks": ""
             }
            },
            "marker": {
             "colorbar": {
              "outlinewidth": 0,
              "ticks": ""
             }
            },
            "type": "scatter3d"
           }
          ],
          "scattercarpet": [
           {
            "marker": {
             "colorbar": {
              "outlinewidth": 0,
              "ticks": ""
             }
            },
            "type": "scattercarpet"
           }
          ],
          "scattergeo": [
           {
            "marker": {
             "colorbar": {
              "outlinewidth": 0,
              "ticks": ""
             }
            },
            "type": "scattergeo"
           }
          ],
          "scattergl": [
           {
            "marker": {
             "colorbar": {
              "outlinewidth": 0,
              "ticks": ""
             }
            },
            "type": "scattergl"
           }
          ],
          "scattermapbox": [
           {
            "marker": {
             "colorbar": {
              "outlinewidth": 0,
              "ticks": ""
             }
            },
            "type": "scattermapbox"
           }
          ],
          "scatterpolar": [
           {
            "marker": {
             "colorbar": {
              "outlinewidth": 0,
              "ticks": ""
             }
            },
            "type": "scatterpolar"
           }
          ],
          "scatterpolargl": [
           {
            "marker": {
             "colorbar": {
              "outlinewidth": 0,
              "ticks": ""
             }
            },
            "type": "scatterpolargl"
           }
          ],
          "scatterternary": [
           {
            "marker": {
             "colorbar": {
              "outlinewidth": 0,
              "ticks": ""
             }
            },
            "type": "scatterternary"
           }
          ],
          "surface": [
           {
            "colorbar": {
             "outlinewidth": 0,
             "ticks": ""
            },
            "colorscale": [
             [
              0,
              "#0d0887"
             ],
             [
              0.1111111111111111,
              "#46039f"
             ],
             [
              0.2222222222222222,
              "#7201a8"
             ],
             [
              0.3333333333333333,
              "#9c179e"
             ],
             [
              0.4444444444444444,
              "#bd3786"
             ],
             [
              0.5555555555555556,
              "#d8576b"
             ],
             [
              0.6666666666666666,
              "#ed7953"
             ],
             [
              0.7777777777777778,
              "#fb9f3a"
             ],
             [
              0.8888888888888888,
              "#fdca26"
             ],
             [
              1,
              "#f0f921"
             ]
            ],
            "type": "surface"
           }
          ],
          "table": [
           {
            "cells": {
             "fill": {
              "color": "#EBF0F8"
             },
             "line": {
              "color": "white"
             }
            },
            "header": {
             "fill": {
              "color": "#C8D4E3"
             },
             "line": {
              "color": "white"
             }
            },
            "type": "table"
           }
          ]
         },
         "layout": {
          "annotationdefaults": {
           "arrowcolor": "#2a3f5f",
           "arrowhead": 0,
           "arrowwidth": 1
          },
          "autotypenumbers": "strict",
          "coloraxis": {
           "colorbar": {
            "outlinewidth": 0,
            "ticks": ""
           }
          },
          "colorscale": {
           "diverging": [
            [
             0,
             "#8e0152"
            ],
            [
             0.1,
             "#c51b7d"
            ],
            [
             0.2,
             "#de77ae"
            ],
            [
             0.3,
             "#f1b6da"
            ],
            [
             0.4,
             "#fde0ef"
            ],
            [
             0.5,
             "#f7f7f7"
            ],
            [
             0.6,
             "#e6f5d0"
            ],
            [
             0.7,
             "#b8e186"
            ],
            [
             0.8,
             "#7fbc41"
            ],
            [
             0.9,
             "#4d9221"
            ],
            [
             1,
             "#276419"
            ]
           ],
           "sequential": [
            [
             0,
             "#0d0887"
            ],
            [
             0.1111111111111111,
             "#46039f"
            ],
            [
             0.2222222222222222,
             "#7201a8"
            ],
            [
             0.3333333333333333,
             "#9c179e"
            ],
            [
             0.4444444444444444,
             "#bd3786"
            ],
            [
             0.5555555555555556,
             "#d8576b"
            ],
            [
             0.6666666666666666,
             "#ed7953"
            ],
            [
             0.7777777777777778,
             "#fb9f3a"
            ],
            [
             0.8888888888888888,
             "#fdca26"
            ],
            [
             1,
             "#f0f921"
            ]
           ],
           "sequentialminus": [
            [
             0,
             "#0d0887"
            ],
            [
             0.1111111111111111,
             "#46039f"
            ],
            [
             0.2222222222222222,
             "#7201a8"
            ],
            [
             0.3333333333333333,
             "#9c179e"
            ],
            [
             0.4444444444444444,
             "#bd3786"
            ],
            [
             0.5555555555555556,
             "#d8576b"
            ],
            [
             0.6666666666666666,
             "#ed7953"
            ],
            [
             0.7777777777777778,
             "#fb9f3a"
            ],
            [
             0.8888888888888888,
             "#fdca26"
            ],
            [
             1,
             "#f0f921"
            ]
           ]
          },
          "colorway": [
           "#636efa",
           "#EF553B",
           "#00cc96",
           "#ab63fa",
           "#FFA15A",
           "#19d3f3",
           "#FF6692",
           "#B6E880",
           "#FF97FF",
           "#FECB52"
          ],
          "font": {
           "color": "#2a3f5f"
          },
          "geo": {
           "bgcolor": "white",
           "lakecolor": "white",
           "landcolor": "#E5ECF6",
           "showlakes": true,
           "showland": true,
           "subunitcolor": "white"
          },
          "hoverlabel": {
           "align": "left"
          },
          "hovermode": "closest",
          "mapbox": {
           "style": "light"
          },
          "paper_bgcolor": "white",
          "plot_bgcolor": "#E5ECF6",
          "polar": {
           "angularaxis": {
            "gridcolor": "white",
            "linecolor": "white",
            "ticks": ""
           },
           "bgcolor": "#E5ECF6",
           "radialaxis": {
            "gridcolor": "white",
            "linecolor": "white",
            "ticks": ""
           }
          },
          "scene": {
           "xaxis": {
            "backgroundcolor": "#E5ECF6",
            "gridcolor": "white",
            "gridwidth": 2,
            "linecolor": "white",
            "showbackground": true,
            "ticks": "",
            "zerolinecolor": "white"
           },
           "yaxis": {
            "backgroundcolor": "#E5ECF6",
            "gridcolor": "white",
            "gridwidth": 2,
            "linecolor": "white",
            "showbackground": true,
            "ticks": "",
            "zerolinecolor": "white"
           },
           "zaxis": {
            "backgroundcolor": "#E5ECF6",
            "gridcolor": "white",
            "gridwidth": 2,
            "linecolor": "white",
            "showbackground": true,
            "ticks": "",
            "zerolinecolor": "white"
           }
          },
          "shapedefaults": {
           "line": {
            "color": "#2a3f5f"
           }
          },
          "ternary": {
           "aaxis": {
            "gridcolor": "white",
            "linecolor": "white",
            "ticks": ""
           },
           "baxis": {
            "gridcolor": "white",
            "linecolor": "white",
            "ticks": ""
           },
           "bgcolor": "#E5ECF6",
           "caxis": {
            "gridcolor": "white",
            "linecolor": "white",
            "ticks": ""
           }
          },
          "title": {
           "x": 0.05
          },
          "xaxis": {
           "automargin": true,
           "gridcolor": "white",
           "linecolor": "white",
           "ticks": "",
           "title": {
            "standoff": 15
           },
           "zerolinecolor": "white",
           "zerolinewidth": 2
          },
          "yaxis": {
           "automargin": true,
           "gridcolor": "white",
           "linecolor": "white",
           "ticks": "",
           "title": {
            "standoff": 15
           },
           "zerolinecolor": "white",
           "zerolinewidth": 2
          }
         }
        },
        "xaxis": {
         "anchor": "y",
         "domain": [
          0,
          0.94
         ]
        },
        "yaxis": {
         "anchor": "x",
         "domain": [
          0,
          1
         ]
        },
        "yaxis2": {
         "anchor": "x",
         "overlaying": "y",
         "side": "right"
        }
       }
      }
     },
     "metadata": {},
     "output_type": "display_data"
    }
   ],
   "source": [
    "from plotly.subplots import make_subplots\n",
    "\n",
    "fig = make_subplots(specs=[[{\"secondary_y\":True}]])\n",
    "\n",
    "fig.add_trace(go.Candlestick(x = df[\"Date\"],\n",
    "open = df[\"Open\"]-df[\"Open\"],\n",
    "high = df[\"High\"]-df[\"Open\"],\n",
    "low = df[\"Low\"]-df[\"Open\"],\n",
    "close = df[\"Close\"]-df[\"Open\"]))\n",
    "fig.show()\n"
   ]
  },
  {
   "attachments": {},
   "cell_type": "markdown",
   "metadata": {},
   "source": [
    "### Ranges on Mondays"
   ]
  },
  {
   "cell_type": "code",
   "execution_count": 126,
   "metadata": {},
   "outputs": [],
   "source": [
    "a = df[df[\"Date\"].dt.year >= 2022]\n",
    "mon = a[a[\"Day\"]==0]\n",
    "tue = a[a[\"Day\"]==1]\n",
    "wed = a[a[\"Day\"]==2]\n",
    "thur = a[a[\"Day\"]==3]\n",
    "fri = a[a[\"Day\"]==4]\n",
    "sat = a[a[\"Day\"]==5]\n",
    "sun = a[a[\"Day\"]==6]"
   ]
  },
  {
   "cell_type": "code",
   "execution_count": 127,
   "metadata": {},
   "outputs": [
    {
     "data": {
      "application/vnd.plotly.v1+json": {
       "config": {
        "plotlyServerURL": "https://plot.ly"
       },
       "data": [
        {
         "close": [
          -219.25,
          70.90000000000146,
          -275.90000000000146,
          -214.75,
          17.85000000000582,
          -294.34999999999854,
          -79.69999999999709,
          725.9500000000044,
          -87.45000000000437,
          -156.25,
          -464.3500000000058,
          567.4499999999971,
          -455.1999999999971,
          -441.90000000000146,
          454.59999999999854,
          -251.4499999999971,
          237.0500000000029,
          58.400000000001455,
          140.90000000000146,
          424.65000000000146,
          -141.39999999999418,
          -49.94999999999709,
          -333.65000000000146,
          -60.849999999998545,
          -445.09999999999854,
          -258.45000000000437,
          -324.5,
          445.04999999999563,
          494.5500000000029,
          -239.3000000000029,
          331.75,
          166.90000000000146,
          -355.5,
          275.70000000000437,
          174.4499999999971,
          -166.75,
          292.90000000000146,
          244.40000000000146,
          207.59999999999854,
          -1031.7000000000044,
          283.1999999999971,
          142.70000000000437,
          424.3000000000029,
          -145.34999999999854,
          -756.9499999999971,
          -472.5,
          232.25,
          303,
          135.59999999999854,
          -83.59999999999854,
          -106.59999999999854,
          126.55000000000291,
          -678.3499999999985,
          -676.8499999999985,
          -857.0999999999985,
          -510.4499999999971,
          209.5,
          -245.6999999999971,
          923.9000000000015,
          -255.25,
          -247.60000000000582,
          247.6999999999971
         ],
         "high": [
          365.4499999999971,
          319.70000000000437,
          126.34999999999854,
          168.6999999999971,
          164.10000000000582,
          53.400000000001455,
          0,
          814.25,
          89.94999999999709,
          105,
          64.5,
          813.1500000000015,
          69.5,
          180.5,
          498.65000000000146,
          2.9500000000043656,
          325.0500000000029,
          223.09999999999854,
          181.0500000000029,
          604.3000000000029,
          71.10000000000582,
          58.849999999998545,
          103.65000000000146,
          264.65000000000146,
          190.5500000000029,
          270.1499999999942,
          306.45000000000437,
          501.84999999999854,
          860.9500000000044,
          281.6999999999971,
          379.29999999999563,
          219.15000000000146,
          120.79999999999563,
          311.95000000000437,
          305.1499999999942,
          209.65000000000146,
          338.34999999999854,
          478.6000000000058,
          504.34999999999854,
          107.69999999999709,
          346.84999999999854,
          205.25,
          551.4500000000044,
          172.9499999999971,
          52.099999999998545,
          229.5,
          311.15000000000146,
          400.25,
          554.1500000000015,
          133.65000000000146,
          324,
          309.9499999999971,
          220.20000000000437,
          183,
          623.9500000000044,
          82.40000000000146,
          395.75,
          169.15000000000146,
          1089.4500000000044,
          61.849999999998545,
          0,
          509.9499999999971
         ],
         "low": [
          -283.65000000000146,
          -448.54999999999563,
          -324.5500000000029,
          -291.65000000000146,
          -383.4499999999971,
          -403.75,
          -381.0500000000029,
          -181.90000000000146,
          -181.40000000000146,
          -495.5500000000029,
          -774.4500000000044,
          -195.09999999999854,
          -632.6500000000015,
          -561,
          -46.94999999999709,
          -410.25,
          -68.69999999999709,
          -33.099999999998545,
          -144.25,
          -54.549999999995634,
          -262.04999999999563,
          -300.65000000000146,
          -519.7000000000044,
          -110.79999999999563,
          -556.1999999999971,
          -528.8500000000058,
          -380.1999999999971,
          -57.5,
          -3.3999999999941792,
          -386.3500000000058,
          -33.25,
          -64.04999999999563,
          -861.5500000000029,
          -73.94999999999709,
          -139.20000000000437,
          -259.5,
          -74.30000000000291,
          -1.0999999999985448,
          -275.25,
          -1110.8500000000022,
          -143.15000000000146,
          -85.94999999999709,
          -245.84999999999854,
          -280.40000000000146,
          -991.4499999999971,
          -571.5499999999956,
          -238.84999999999854,
          -117.40000000000146,
          -74.94999999999709,
          -179.04999999999563,
          -212,
          -40.349999999998545,
          -935.8999999999942,
          -900,
          -1093.8499999999985,
          -616.5,
          -281.4499999999971,
          -394.54999999999563,
          -45.94999999999709,
          -514.25,
          -341.40000000000146,
          -184.10000000000582
         ],
         "open": [
          0,
          0,
          0,
          0,
          0,
          0,
          0,
          0,
          0,
          0,
          0,
          0,
          0,
          0,
          0,
          0,
          0,
          0,
          0,
          0,
          0,
          0,
          0,
          0,
          0,
          0,
          0,
          0,
          0,
          0,
          0,
          0,
          0,
          0,
          0,
          0,
          0,
          0,
          0,
          0,
          0,
          0,
          0,
          0,
          0,
          0,
          0,
          0,
          0,
          0,
          0,
          0,
          0,
          0,
          0,
          0,
          0,
          0,
          0,
          0,
          0,
          0
         ],
         "type": "candlestick",
         "x": [
          "2023-03-23T00:00:00",
          "2023-03-16T00:00:00",
          "2023-03-09T00:00:00",
          "2023-03-02T00:00:00",
          "2023-02-23T00:00:00",
          "2023-02-16T00:00:00",
          "2023-02-09T00:00:00",
          "2023-02-02T00:00:00",
          "2023-01-19T00:00:00",
          "2023-01-12T00:00:00",
          "2023-01-05T00:00:00",
          "2022-12-29T00:00:00",
          "2022-12-22T00:00:00",
          "2022-12-15T00:00:00",
          "2022-12-08T00:00:00",
          "2022-12-01T00:00:00",
          "2022-11-24T00:00:00",
          "2022-11-17T00:00:00",
          "2022-11-10T00:00:00",
          "2022-11-03T00:00:00",
          "2022-10-27T00:00:00",
          "2022-10-20T00:00:00",
          "2022-10-13T00:00:00",
          "2022-10-06T00:00:00",
          "2022-09-29T00:00:00",
          "2022-09-22T00:00:00",
          "2022-09-15T00:00:00",
          "2022-09-08T00:00:00",
          "2022-09-01T00:00:00",
          "2022-08-25T00:00:00",
          "2022-08-18T00:00:00",
          "2022-08-11T00:00:00",
          "2022-08-04T00:00:00",
          "2022-07-28T00:00:00",
          "2022-07-21T00:00:00",
          "2022-07-14T00:00:00",
          "2022-07-07T00:00:00",
          "2022-06-30T00:00:00",
          "2022-06-23T00:00:00",
          "2022-06-16T00:00:00",
          "2022-06-09T00:00:00",
          "2022-06-02T00:00:00",
          "2022-05-26T00:00:00",
          "2022-05-19T00:00:00",
          "2022-05-12T00:00:00",
          "2022-05-05T00:00:00",
          "2022-04-28T00:00:00",
          "2022-04-21T00:00:00",
          "2022-04-07T00:00:00",
          "2022-03-31T00:00:00",
          "2022-03-24T00:00:00",
          "2022-03-17T00:00:00",
          "2022-03-10T00:00:00",
          "2022-03-03T00:00:00",
          "2022-02-24T00:00:00",
          "2022-02-17T00:00:00",
          "2022-02-10T00:00:00",
          "2022-02-03T00:00:00",
          "2022-01-27T00:00:00",
          "2022-01-20T00:00:00",
          "2022-01-13T00:00:00",
          "2022-01-06T00:00:00"
         ]
        }
       ],
       "layout": {
        "template": {
         "data": {
          "bar": [
           {
            "error_x": {
             "color": "#2a3f5f"
            },
            "error_y": {
             "color": "#2a3f5f"
            },
            "marker": {
             "line": {
              "color": "#E5ECF6",
              "width": 0.5
             },
             "pattern": {
              "fillmode": "overlay",
              "size": 10,
              "solidity": 0.2
             }
            },
            "type": "bar"
           }
          ],
          "barpolar": [
           {
            "marker": {
             "line": {
              "color": "#E5ECF6",
              "width": 0.5
             },
             "pattern": {
              "fillmode": "overlay",
              "size": 10,
              "solidity": 0.2
             }
            },
            "type": "barpolar"
           }
          ],
          "carpet": [
           {
            "aaxis": {
             "endlinecolor": "#2a3f5f",
             "gridcolor": "white",
             "linecolor": "white",
             "minorgridcolor": "white",
             "startlinecolor": "#2a3f5f"
            },
            "baxis": {
             "endlinecolor": "#2a3f5f",
             "gridcolor": "white",
             "linecolor": "white",
             "minorgridcolor": "white",
             "startlinecolor": "#2a3f5f"
            },
            "type": "carpet"
           }
          ],
          "choropleth": [
           {
            "colorbar": {
             "outlinewidth": 0,
             "ticks": ""
            },
            "type": "choropleth"
           }
          ],
          "contour": [
           {
            "colorbar": {
             "outlinewidth": 0,
             "ticks": ""
            },
            "colorscale": [
             [
              0,
              "#0d0887"
             ],
             [
              0.1111111111111111,
              "#46039f"
             ],
             [
              0.2222222222222222,
              "#7201a8"
             ],
             [
              0.3333333333333333,
              "#9c179e"
             ],
             [
              0.4444444444444444,
              "#bd3786"
             ],
             [
              0.5555555555555556,
              "#d8576b"
             ],
             [
              0.6666666666666666,
              "#ed7953"
             ],
             [
              0.7777777777777778,
              "#fb9f3a"
             ],
             [
              0.8888888888888888,
              "#fdca26"
             ],
             [
              1,
              "#f0f921"
             ]
            ],
            "type": "contour"
           }
          ],
          "contourcarpet": [
           {
            "colorbar": {
             "outlinewidth": 0,
             "ticks": ""
            },
            "type": "contourcarpet"
           }
          ],
          "heatmap": [
           {
            "colorbar": {
             "outlinewidth": 0,
             "ticks": ""
            },
            "colorscale": [
             [
              0,
              "#0d0887"
             ],
             [
              0.1111111111111111,
              "#46039f"
             ],
             [
              0.2222222222222222,
              "#7201a8"
             ],
             [
              0.3333333333333333,
              "#9c179e"
             ],
             [
              0.4444444444444444,
              "#bd3786"
             ],
             [
              0.5555555555555556,
              "#d8576b"
             ],
             [
              0.6666666666666666,
              "#ed7953"
             ],
             [
              0.7777777777777778,
              "#fb9f3a"
             ],
             [
              0.8888888888888888,
              "#fdca26"
             ],
             [
              1,
              "#f0f921"
             ]
            ],
            "type": "heatmap"
           }
          ],
          "heatmapgl": [
           {
            "colorbar": {
             "outlinewidth": 0,
             "ticks": ""
            },
            "colorscale": [
             [
              0,
              "#0d0887"
             ],
             [
              0.1111111111111111,
              "#46039f"
             ],
             [
              0.2222222222222222,
              "#7201a8"
             ],
             [
              0.3333333333333333,
              "#9c179e"
             ],
             [
              0.4444444444444444,
              "#bd3786"
             ],
             [
              0.5555555555555556,
              "#d8576b"
             ],
             [
              0.6666666666666666,
              "#ed7953"
             ],
             [
              0.7777777777777778,
              "#fb9f3a"
             ],
             [
              0.8888888888888888,
              "#fdca26"
             ],
             [
              1,
              "#f0f921"
             ]
            ],
            "type": "heatmapgl"
           }
          ],
          "histogram": [
           {
            "marker": {
             "pattern": {
              "fillmode": "overlay",
              "size": 10,
              "solidity": 0.2
             }
            },
            "type": "histogram"
           }
          ],
          "histogram2d": [
           {
            "colorbar": {
             "outlinewidth": 0,
             "ticks": ""
            },
            "colorscale": [
             [
              0,
              "#0d0887"
             ],
             [
              0.1111111111111111,
              "#46039f"
             ],
             [
              0.2222222222222222,
              "#7201a8"
             ],
             [
              0.3333333333333333,
              "#9c179e"
             ],
             [
              0.4444444444444444,
              "#bd3786"
             ],
             [
              0.5555555555555556,
              "#d8576b"
             ],
             [
              0.6666666666666666,
              "#ed7953"
             ],
             [
              0.7777777777777778,
              "#fb9f3a"
             ],
             [
              0.8888888888888888,
              "#fdca26"
             ],
             [
              1,
              "#f0f921"
             ]
            ],
            "type": "histogram2d"
           }
          ],
          "histogram2dcontour": [
           {
            "colorbar": {
             "outlinewidth": 0,
             "ticks": ""
            },
            "colorscale": [
             [
              0,
              "#0d0887"
             ],
             [
              0.1111111111111111,
              "#46039f"
             ],
             [
              0.2222222222222222,
              "#7201a8"
             ],
             [
              0.3333333333333333,
              "#9c179e"
             ],
             [
              0.4444444444444444,
              "#bd3786"
             ],
             [
              0.5555555555555556,
              "#d8576b"
             ],
             [
              0.6666666666666666,
              "#ed7953"
             ],
             [
              0.7777777777777778,
              "#fb9f3a"
             ],
             [
              0.8888888888888888,
              "#fdca26"
             ],
             [
              1,
              "#f0f921"
             ]
            ],
            "type": "histogram2dcontour"
           }
          ],
          "mesh3d": [
           {
            "colorbar": {
             "outlinewidth": 0,
             "ticks": ""
            },
            "type": "mesh3d"
           }
          ],
          "parcoords": [
           {
            "line": {
             "colorbar": {
              "outlinewidth": 0,
              "ticks": ""
             }
            },
            "type": "parcoords"
           }
          ],
          "pie": [
           {
            "automargin": true,
            "type": "pie"
           }
          ],
          "scatter": [
           {
            "fillpattern": {
             "fillmode": "overlay",
             "size": 10,
             "solidity": 0.2
            },
            "type": "scatter"
           }
          ],
          "scatter3d": [
           {
            "line": {
             "colorbar": {
              "outlinewidth": 0,
              "ticks": ""
             }
            },
            "marker": {
             "colorbar": {
              "outlinewidth": 0,
              "ticks": ""
             }
            },
            "type": "scatter3d"
           }
          ],
          "scattercarpet": [
           {
            "marker": {
             "colorbar": {
              "outlinewidth": 0,
              "ticks": ""
             }
            },
            "type": "scattercarpet"
           }
          ],
          "scattergeo": [
           {
            "marker": {
             "colorbar": {
              "outlinewidth": 0,
              "ticks": ""
             }
            },
            "type": "scattergeo"
           }
          ],
          "scattergl": [
           {
            "marker": {
             "colorbar": {
              "outlinewidth": 0,
              "ticks": ""
             }
            },
            "type": "scattergl"
           }
          ],
          "scattermapbox": [
           {
            "marker": {
             "colorbar": {
              "outlinewidth": 0,
              "ticks": ""
             }
            },
            "type": "scattermapbox"
           }
          ],
          "scatterpolar": [
           {
            "marker": {
             "colorbar": {
              "outlinewidth": 0,
              "ticks": ""
             }
            },
            "type": "scatterpolar"
           }
          ],
          "scatterpolargl": [
           {
            "marker": {
             "colorbar": {
              "outlinewidth": 0,
              "ticks": ""
             }
            },
            "type": "scatterpolargl"
           }
          ],
          "scatterternary": [
           {
            "marker": {
             "colorbar": {
              "outlinewidth": 0,
              "ticks": ""
             }
            },
            "type": "scatterternary"
           }
          ],
          "surface": [
           {
            "colorbar": {
             "outlinewidth": 0,
             "ticks": ""
            },
            "colorscale": [
             [
              0,
              "#0d0887"
             ],
             [
              0.1111111111111111,
              "#46039f"
             ],
             [
              0.2222222222222222,
              "#7201a8"
             ],
             [
              0.3333333333333333,
              "#9c179e"
             ],
             [
              0.4444444444444444,
              "#bd3786"
             ],
             [
              0.5555555555555556,
              "#d8576b"
             ],
             [
              0.6666666666666666,
              "#ed7953"
             ],
             [
              0.7777777777777778,
              "#fb9f3a"
             ],
             [
              0.8888888888888888,
              "#fdca26"
             ],
             [
              1,
              "#f0f921"
             ]
            ],
            "type": "surface"
           }
          ],
          "table": [
           {
            "cells": {
             "fill": {
              "color": "#EBF0F8"
             },
             "line": {
              "color": "white"
             }
            },
            "header": {
             "fill": {
              "color": "#C8D4E3"
             },
             "line": {
              "color": "white"
             }
            },
            "type": "table"
           }
          ]
         },
         "layout": {
          "annotationdefaults": {
           "arrowcolor": "#2a3f5f",
           "arrowhead": 0,
           "arrowwidth": 1
          },
          "autotypenumbers": "strict",
          "coloraxis": {
           "colorbar": {
            "outlinewidth": 0,
            "ticks": ""
           }
          },
          "colorscale": {
           "diverging": [
            [
             0,
             "#8e0152"
            ],
            [
             0.1,
             "#c51b7d"
            ],
            [
             0.2,
             "#de77ae"
            ],
            [
             0.3,
             "#f1b6da"
            ],
            [
             0.4,
             "#fde0ef"
            ],
            [
             0.5,
             "#f7f7f7"
            ],
            [
             0.6,
             "#e6f5d0"
            ],
            [
             0.7,
             "#b8e186"
            ],
            [
             0.8,
             "#7fbc41"
            ],
            [
             0.9,
             "#4d9221"
            ],
            [
             1,
             "#276419"
            ]
           ],
           "sequential": [
            [
             0,
             "#0d0887"
            ],
            [
             0.1111111111111111,
             "#46039f"
            ],
            [
             0.2222222222222222,
             "#7201a8"
            ],
            [
             0.3333333333333333,
             "#9c179e"
            ],
            [
             0.4444444444444444,
             "#bd3786"
            ],
            [
             0.5555555555555556,
             "#d8576b"
            ],
            [
             0.6666666666666666,
             "#ed7953"
            ],
            [
             0.7777777777777778,
             "#fb9f3a"
            ],
            [
             0.8888888888888888,
             "#fdca26"
            ],
            [
             1,
             "#f0f921"
            ]
           ],
           "sequentialminus": [
            [
             0,
             "#0d0887"
            ],
            [
             0.1111111111111111,
             "#46039f"
            ],
            [
             0.2222222222222222,
             "#7201a8"
            ],
            [
             0.3333333333333333,
             "#9c179e"
            ],
            [
             0.4444444444444444,
             "#bd3786"
            ],
            [
             0.5555555555555556,
             "#d8576b"
            ],
            [
             0.6666666666666666,
             "#ed7953"
            ],
            [
             0.7777777777777778,
             "#fb9f3a"
            ],
            [
             0.8888888888888888,
             "#fdca26"
            ],
            [
             1,
             "#f0f921"
            ]
           ]
          },
          "colorway": [
           "#636efa",
           "#EF553B",
           "#00cc96",
           "#ab63fa",
           "#FFA15A",
           "#19d3f3",
           "#FF6692",
           "#B6E880",
           "#FF97FF",
           "#FECB52"
          ],
          "font": {
           "color": "#2a3f5f"
          },
          "geo": {
           "bgcolor": "white",
           "lakecolor": "white",
           "landcolor": "#E5ECF6",
           "showlakes": true,
           "showland": true,
           "subunitcolor": "white"
          },
          "hoverlabel": {
           "align": "left"
          },
          "hovermode": "closest",
          "mapbox": {
           "style": "light"
          },
          "paper_bgcolor": "white",
          "plot_bgcolor": "#E5ECF6",
          "polar": {
           "angularaxis": {
            "gridcolor": "white",
            "linecolor": "white",
            "ticks": ""
           },
           "bgcolor": "#E5ECF6",
           "radialaxis": {
            "gridcolor": "white",
            "linecolor": "white",
            "ticks": ""
           }
          },
          "scene": {
           "xaxis": {
            "backgroundcolor": "#E5ECF6",
            "gridcolor": "white",
            "gridwidth": 2,
            "linecolor": "white",
            "showbackground": true,
            "ticks": "",
            "zerolinecolor": "white"
           },
           "yaxis": {
            "backgroundcolor": "#E5ECF6",
            "gridcolor": "white",
            "gridwidth": 2,
            "linecolor": "white",
            "showbackground": true,
            "ticks": "",
            "zerolinecolor": "white"
           },
           "zaxis": {
            "backgroundcolor": "#E5ECF6",
            "gridcolor": "white",
            "gridwidth": 2,
            "linecolor": "white",
            "showbackground": true,
            "ticks": "",
            "zerolinecolor": "white"
           }
          },
          "shapedefaults": {
           "line": {
            "color": "#2a3f5f"
           }
          },
          "ternary": {
           "aaxis": {
            "gridcolor": "white",
            "linecolor": "white",
            "ticks": ""
           },
           "baxis": {
            "gridcolor": "white",
            "linecolor": "white",
            "ticks": ""
           },
           "bgcolor": "#E5ECF6",
           "caxis": {
            "gridcolor": "white",
            "linecolor": "white",
            "ticks": ""
           }
          },
          "title": {
           "x": 0.05
          },
          "xaxis": {
           "automargin": true,
           "gridcolor": "white",
           "linecolor": "white",
           "ticks": "",
           "title": {
            "standoff": 15
           },
           "zerolinecolor": "white",
           "zerolinewidth": 2
          },
          "yaxis": {
           "automargin": true,
           "gridcolor": "white",
           "linecolor": "white",
           "ticks": "",
           "title": {
            "standoff": 15
           },
           "zerolinecolor": "white",
           "zerolinewidth": 2
          }
         }
        },
        "xaxis": {
         "anchor": "y",
         "domain": [
          0,
          0.94
         ]
        },
        "yaxis": {
         "anchor": "x",
         "domain": [
          0,
          1
         ]
        },
        "yaxis2": {
         "anchor": "x",
         "overlaying": "y",
         "side": "right"
        }
       }
      }
     },
     "metadata": {},
     "output_type": "display_data"
    }
   ],
   "source": [
    "from plotly.subplots import make_subplots\n",
    "\n",
    "fig = make_subplots(specs=[[{\"secondary_y\":True}]])\n",
    "\n",
    "fig.add_trace(go.Candlestick(x = thur[\"Date\"],\n",
    "open = thur[\"Open\"]-thur[\"Open\"],\n",
    "high = thur[\"High\"]-thur[\"Open\"],\n",
    "low = thur[\"Low\"]-thur[\"Open\"],\n",
    "close = thur[\"Close\"]-thur[\"Open\"]))\n",
    "fig.show()"
   ]
  },
  {
   "cell_type": "code",
   "execution_count": 78,
   "metadata": {},
   "outputs": [
    {
     "data": {
      "text/plain": [
       "[Text(0, 0, '0'),\n",
       " Text(0, 0, '1'),\n",
       " Text(0, 0, '4'),\n",
       " Text(0, 0, '16'),\n",
       " Text(0, 0, '40')]"
      ]
     },
     "execution_count": 78,
     "metadata": {},
     "output_type": "execute_result"
    },
    {
     "data": {
      "image/png": "[encoded data removed]",
      "text/plain": [
       "<Figure size 640x480 with 1 Axes>"
      ]
     },
     "metadata": {},
     "output_type": "display_data"
    }
   ],
   "source": [
    "counts, edges, bars = plt.hist(a[\"OpenToLow%\"], bins = [-5, -4, -3, -2, -1, 0])\n",
    "\n",
    "plt.bar_label(bars)"
   ]
  },
  {
   "cell_type": "code",
   "execution_count": 33,
   "metadata": {},
   "outputs": [
    {
     "data": {
      "text/plain": [
       "[Text(0, 0, '176'),\n",
       " Text(0, 0, '54'),\n",
       " Text(0, 0, '14'),\n",
       " Text(0, 0, '4'),\n",
       " Text(0, 0, '0')]"
      ]
     },
     "execution_count": 33,
     "metadata": {},
     "output_type": "execute_result"
    },
    {
     "data": {
      "image/png": "[encoded data removed]",
      "text/plain": [
       "<Figure size 640x480 with 1 Axes>"
      ]
     },
     "metadata": {},
     "output_type": "display_data"
    }
   ],
   "source": [
    "counts, edges, bars = plt.hist(a[\"OpenToHigh%\"], bins = [0, 1 ,2 ,3, 4, 5])\n",
    "\n",
    "plt.bar_label(bars)"
   ]
  },
  {
   "cell_type": "code",
   "execution_count": null,
   "metadata": {},
   "outputs": [],
   "source": []
  },
  {
   "attachments": {},
   "cell_type": "markdown",
   "metadata": {},
   "source": [
    "### Mondays 2022"
   ]
  },
  {
   "cell_type": "code",
   "execution_count": 79,
   "metadata": {},
   "outputs": [
    {
     "data": {
      "text/plain": [
       "270.01153846153846"
      ]
     },
     "execution_count": 79,
     "metadata": {},
     "output_type": "execute_result"
    }
   ],
   "source": [
    "np.mean(mon[\"OpenToHigh\"])"
   ]
  },
  {
   "cell_type": "code",
   "execution_count": 80,
   "metadata": {},
   "outputs": [
    {
     "data": {
      "text/plain": [
       "[Text(0, 0, '4'),\n",
       " Text(0, 0, '2'),\n",
       " Text(0, 0, '2'),\n",
       " Text(0, 0, '3'),\n",
       " Text(0, 0, '0'),\n",
       " Text(0, 0, '1'),\n",
       " Text(0, 0, '0'),\n",
       " Text(0, 0, '0'),\n",
       " Text(0, 0, '0'),\n",
       " Text(0, 0, '1'),\n",
       " Text(0, 0, '0'),\n",
       " Text(0, 0, '0'),\n",
       " Text(0, 0, '0'),\n",
       " Text(0, 0, '0'),\n",
       " Text(0, 0, '0')]"
      ]
     },
     "execution_count": 80,
     "metadata": {},
     "output_type": "execute_result"
    },
    {
     "data": {
      "image/png": "[encoded data removed]",
      "text/plain": [
       "<Figure size 640x480 with 1 Axes>"
      ]
     },
     "metadata": {},
     "output_type": "display_data"
    }
   ],
   "source": [
    "counts, edges, bars = plt.hist(mon[\"OpenToHigh\"], bins=range(0, 1500 + 100, 100))\n",
    "\n",
    "plt.bar_label(bars)"
   ]
  },
  {
   "cell_type": "code",
   "execution_count": 81,
   "metadata": {},
   "outputs": [
    {
     "data": {
      "text/plain": [
       "-360.28846153846155"
      ]
     },
     "execution_count": 81,
     "metadata": {},
     "output_type": "execute_result"
    }
   ],
   "source": [
    "np.mean(mon[\"OpenToLow\"])"
   ]
  },
  {
   "cell_type": "code",
   "execution_count": 82,
   "metadata": {},
   "outputs": [
    {
     "data": {
      "text/plain": [
       "[Text(0, 0, '0'),\n",
       " Text(0, 0, '0'),\n",
       " Text(0, 0, '0'),\n",
       " Text(0, 0, '0'),\n",
       " Text(0, 0, '0'),\n",
       " Text(0, 0, '1'),\n",
       " Text(0, 0, '0'),\n",
       " Text(0, 0, '0'),\n",
       " Text(0, 0, '1'),\n",
       " Text(0, 0, '2'),\n",
       " Text(0, 0, '2'),\n",
       " Text(0, 0, '0'),\n",
       " Text(0, 0, '3'),\n",
       " Text(0, 0, '2'),\n",
       " Text(0, 0, '2')]"
      ]
     },
     "execution_count": 82,
     "metadata": {},
     "output_type": "execute_result"
    },
    {
     "data": {
      "image/png": "[encoded data removed]",
      "text/plain": [
       "<Figure size 640x480 with 1 Axes>"
      ]
     },
     "metadata": {},
     "output_type": "display_data"
    }
   ],
   "source": [
    "counts, edges, bars = plt.hist(mon[\"OpenToLow\"], bins=range(-1500, 0 + 100, 100))\n",
    "\n",
    "plt.bar_label(bars)"
   ]
  },
  {
   "attachments": {},
   "cell_type": "markdown",
   "metadata": {},
   "source": [
    "### Tuesday 2022"
   ]
  },
  {
   "cell_type": "code",
   "execution_count": 83,
   "metadata": {},
   "outputs": [
    {
     "data": {
      "text/plain": [
       "185.93333333333337"
      ]
     },
     "execution_count": 83,
     "metadata": {},
     "output_type": "execute_result"
    }
   ],
   "source": [
    "np.mean(tue[\"OpenToHigh\"])"
   ]
  },
  {
   "cell_type": "code",
   "execution_count": 84,
   "metadata": {},
   "outputs": [
    {
     "data": {
      "text/plain": [
       "[Text(0, 0, '3'),\n",
       " Text(0, 0, '4'),\n",
       " Text(0, 0, '2'),\n",
       " Text(0, 0, '3'),\n",
       " Text(0, 0, '0'),\n",
       " Text(0, 0, '0'),\n",
       " Text(0, 0, '0'),\n",
       " Text(0, 0, '0'),\n",
       " Text(0, 0, '0'),\n",
       " Text(0, 0, '0'),\n",
       " Text(0, 0, '0'),\n",
       " Text(0, 0, '0'),\n",
       " Text(0, 0, '0'),\n",
       " Text(0, 0, '0'),\n",
       " Text(0, 0, '0')]"
      ]
     },
     "execution_count": 84,
     "metadata": {},
     "output_type": "execute_result"
    },
    {
     "data": {
      "image/png": "[encoded data removed]",
      "text/plain": [
       "<Figure size 640x480 with 1 Axes>"
      ]
     },
     "metadata": {},
     "output_type": "display_data"
    }
   ],
   "source": [
    "counts, edges, bars = plt.hist(tue[\"OpenToHigh\"], bins=range(0, 1500 + 100, 100))\n",
    "\n",
    "plt.bar_label(bars)"
   ]
  },
  {
   "cell_type": "code",
   "execution_count": 85,
   "metadata": {},
   "outputs": [
    {
     "data": {
      "text/plain": [
       "-328.7875"
      ]
     },
     "execution_count": 85,
     "metadata": {},
     "output_type": "execute_result"
    }
   ],
   "source": [
    "np.mean(tue[\"OpenToLow\"])"
   ]
  },
  {
   "cell_type": "code",
   "execution_count": 86,
   "metadata": {},
   "outputs": [
    {
     "data": {
      "text/plain": [
       "[Text(0, 0, '0'),\n",
       " Text(0, 0, '0'),\n",
       " Text(0, 0, '0'),\n",
       " Text(0, 0, '0'),\n",
       " Text(0, 0, '0'),\n",
       " Text(0, 0, '0'),\n",
       " Text(0, 0, '1'),\n",
       " Text(0, 0, '0'),\n",
       " Text(0, 0, '0'),\n",
       " Text(0, 0, '0'),\n",
       " Text(0, 0, '1'),\n",
       " Text(0, 0, '4'),\n",
       " Text(0, 0, '5'),\n",
       " Text(0, 0, '0'),\n",
       " Text(0, 0, '1')]"
      ]
     },
     "execution_count": 86,
     "metadata": {},
     "output_type": "execute_result"
    },
    {
     "data": {
      "image/png": "[encoded data removed]",
      "text/plain": [
       "<Figure size 640x480 with 1 Axes>"
      ]
     },
     "metadata": {},
     "output_type": "display_data"
    }
   ],
   "source": [
    "counts, edges, bars = plt.hist(tue[\"OpenToLow\"], bins=range(-1500, 0 + 100, 100))\n",
    "\n",
    "plt.bar_label(bars)"
   ]
  },
  {
   "attachments": {},
   "cell_type": "markdown",
   "metadata": {},
   "source": [
    "### Wednesday 2022"
   ]
  },
  {
   "cell_type": "code",
   "execution_count": 87,
   "metadata": {},
   "outputs": [
    {
     "data": {
      "text/plain": [
       "258.06538461538463"
      ]
     },
     "execution_count": 87,
     "metadata": {},
     "output_type": "execute_result"
    }
   ],
   "source": [
    "np.mean(wed[\"OpenToHigh\"])"
   ]
  },
  {
   "cell_type": "code",
   "execution_count": 88,
   "metadata": {},
   "outputs": [
    {
     "data": {
      "text/plain": [
       "[Text(0, 0, '3'),\n",
       " Text(0, 0, '3'),\n",
       " Text(0, 0, '4'),\n",
       " Text(0, 0, '0'),\n",
       " Text(0, 0, '2'),\n",
       " Text(0, 0, '0'),\n",
       " Text(0, 0, '0'),\n",
       " Text(0, 0, '0'),\n",
       " Text(0, 0, '0'),\n",
       " Text(0, 0, '1'),\n",
       " Text(0, 0, '0'),\n",
       " Text(0, 0, '0'),\n",
       " Text(0, 0, '0'),\n",
       " Text(0, 0, '0'),\n",
       " Text(0, 0, '0')]"
      ]
     },
     "execution_count": 88,
     "metadata": {},
     "output_type": "execute_result"
    },
    {
     "data": {
      "image/png": "[encoded data removed]",
      "text/plain": [
       "<Figure size 640x480 with 1 Axes>"
      ]
     },
     "metadata": {},
     "output_type": "display_data"
    }
   ],
   "source": [
    "counts, edges, bars = plt.hist(wed[\"OpenToHigh\"], bins=range(0, 1500 + 100, 100))\n",
    "\n",
    "plt.bar_label(bars)"
   ]
  },
  {
   "cell_type": "code",
   "execution_count": 89,
   "metadata": {},
   "outputs": [
    {
     "data": {
      "text/plain": [
       "-465.24230769230775"
      ]
     },
     "execution_count": 89,
     "metadata": {},
     "output_type": "execute_result"
    }
   ],
   "source": [
    "np.mean(wed[\"OpenToLow\"])"
   ]
  },
  {
   "cell_type": "code",
   "execution_count": 90,
   "metadata": {},
   "outputs": [
    {
     "data": {
      "text/plain": [
       "[Text(0, 0, '0'),\n",
       " Text(0, 0, '0'),\n",
       " Text(0, 0, '0'),\n",
       " Text(0, 0, '1'),\n",
       " Text(0, 0, '0'),\n",
       " Text(0, 0, '0'),\n",
       " Text(0, 0, '1'),\n",
       " Text(0, 0, '0'),\n",
       " Text(0, 0, '0'),\n",
       " Text(0, 0, '2'),\n",
       " Text(0, 0, '0'),\n",
       " Text(0, 0, '1'),\n",
       " Text(0, 0, '1'),\n",
       " Text(0, 0, '4'),\n",
       " Text(0, 0, '2')]"
      ]
     },
     "execution_count": 90,
     "metadata": {},
     "output_type": "execute_result"
    },
    {
     "data": {
      "image/png": "[encoded data removed]",
      "text/plain": [
       "<Figure size 640x480 with 1 Axes>"
      ]
     },
     "metadata": {},
     "output_type": "display_data"
    }
   ],
   "source": [
    "counts, edges, bars = plt.hist(wed[\"OpenToLow\"], bins=range(-1500, 0 + 100, 100))\n",
    "\n",
    "plt.bar_label(bars)"
   ]
  },
  {
   "cell_type": "code",
   "execution_count": 113,
   "metadata": {},
   "outputs": [],
   "source": [
    "a = df[df[\"Date\"].dt.year == 2023]\n",
    "\n",
    "thur = a[a[\"Day\"]==3]\n"
   ]
  },
  {
   "attachments": {},
   "cell_type": "markdown",
   "metadata": {},
   "source": [
    "### Thursday 2022"
   ]
  },
  {
   "cell_type": "code",
   "execution_count": 114,
   "metadata": {},
   "outputs": [
    {
     "data": {
      "text/plain": [
       "206.49090909090907"
      ]
     },
     "execution_count": 114,
     "metadata": {},
     "output_type": "execute_result"
    }
   ],
   "source": [
    "np.mean(thur[\"OpenToHigh\"])"
   ]
  },
  {
   "cell_type": "code",
   "execution_count": 115,
   "metadata": {},
   "outputs": [
    {
     "data": {
      "text/plain": [
       "[Text(0, 0, '4'),\n",
       " Text(0, 0, '4'),\n",
       " Text(0, 0, '0'),\n",
       " Text(0, 0, '2'),\n",
       " Text(0, 0, '0'),\n",
       " Text(0, 0, '0'),\n",
       " Text(0, 0, '0'),\n",
       " Text(0, 0, '0'),\n",
       " Text(0, 0, '1'),\n",
       " Text(0, 0, '0'),\n",
       " Text(0, 0, '0'),\n",
       " Text(0, 0, '0'),\n",
       " Text(0, 0, '0'),\n",
       " Text(0, 0, '0'),\n",
       " Text(0, 0, '0')]"
      ]
     },
     "execution_count": 115,
     "metadata": {},
     "output_type": "execute_result"
    },
    {
     "data": {
      "image/png": "[encoded data removed]",
      "text/plain": [
       "<Figure size 640x480 with 1 Axes>"
      ]
     },
     "metadata": {},
     "output_type": "display_data"
    }
   ],
   "source": [
    "counts, edges, bars = plt.hist(thur[\"OpenToHigh\"], bins=range(0, 1500 + 100, 100))\n",
    "\n",
    "plt.bar_label(bars)"
   ]
  },
  {
   "cell_type": "code",
   "execution_count": 118,
   "metadata": {},
   "outputs": [
    {
     "data": {
      "text/plain": [
       "-377.26818181818186"
      ]
     },
     "execution_count": 118,
     "metadata": {},
     "output_type": "execute_result"
    }
   ],
   "source": [
    "np.mean(thur[\"OpenToLow\"])"
   ]
  },
  {
   "cell_type": "code",
   "execution_count": 119,
   "metadata": {},
   "outputs": [
    {
     "data": {
      "text/plain": [
       "[Text(0, 0, '0'),\n",
       " Text(0, 0, '0'),\n",
       " Text(0, 0, '0'),\n",
       " Text(0, 0, '0'),\n",
       " Text(0, 0, '0'),\n",
       " Text(0, 0, '0'),\n",
       " Text(0, 0, '0'),\n",
       " Text(0, 0, '1'),\n",
       " Text(0, 0, '0'),\n",
       " Text(0, 0, '0'),\n",
       " Text(0, 0, '3'),\n",
       " Text(0, 0, '3'),\n",
       " Text(0, 0, '2'),\n",
       " Text(0, 0, '2'),\n",
       " Text(0, 0, '0')]"
      ]
     },
     "execution_count": 119,
     "metadata": {},
     "output_type": "execute_result"
    },
    {
     "data": {
      "image/png": "[encoded data removed]",
      "text/plain": [
       "<Figure size 640x480 with 1 Axes>"
      ]
     },
     "metadata": {},
     "output_type": "display_data"
    }
   ],
   "source": [
    "counts, edges, bars = plt.hist(thur[\"OpenToLow\"], bins=range(-1500, 0 + 100, 100))\n",
    "\n",
    "plt.bar_label(bars)"
   ]
  },
  {
   "attachments": {},
   "cell_type": "markdown",
   "metadata": {},
   "source": [
    "### Friday 2022"
   ]
  },
  {
   "cell_type": "code",
   "execution_count": 47,
   "metadata": {},
   "outputs": [
    {
     "data": {
      "text/plain": [
       "271.475"
      ]
     },
     "execution_count": 47,
     "metadata": {},
     "output_type": "execute_result"
    }
   ],
   "source": [
    "np.mean(fri[\"OpenToHigh\"])"
   ]
  },
  {
   "cell_type": "code",
   "execution_count": 68,
   "metadata": {},
   "outputs": [
    {
     "data": {
      "text/plain": [
       "[Text(0, 0, '12'),\n",
       " Text(0, 0, '13'),\n",
       " Text(0, 0, '11'),\n",
       " Text(0, 0, '2'),\n",
       " Text(0, 0, '4'),\n",
       " Text(0, 0, '4'),\n",
       " Text(0, 0, '1'),\n",
       " Text(0, 0, '1'),\n",
       " Text(0, 0, '0'),\n",
       " Text(0, 0, '1'),\n",
       " Text(0, 0, '0'),\n",
       " Text(0, 0, '1'),\n",
       " Text(0, 0, '0'),\n",
       " Text(0, 0, '0'),\n",
       " Text(0, 0, '0')]"
      ]
     },
     "execution_count": 68,
     "metadata": {},
     "output_type": "execute_result"
    },
    {
     "data": {
      "image/png": "[encoded data removed]",
      "text/plain": [
       "<Figure size 640x480 with 1 Axes>"
      ]
     },
     "metadata": {},
     "output_type": "display_data"
    }
   ],
   "source": [
    "counts, edges, bars = plt.hist(fri[\"OpenToHigh\"], bins=range(0, 1500 + 100, 100))\n",
    "\n",
    "plt.bar_label(bars)"
   ]
  },
  {
   "cell_type": "code",
   "execution_count": 48,
   "metadata": {},
   "outputs": [
    {
     "data": {
      "text/plain": [
       "-319.71000000000004"
      ]
     },
     "execution_count": 48,
     "metadata": {},
     "output_type": "execute_result"
    }
   ],
   "source": [
    "np.mean(fri[\"OpenToLow\"])"
   ]
  },
  {
   "cell_type": "code",
   "execution_count": 69,
   "metadata": {},
   "outputs": [
    {
     "data": {
      "text/plain": [
       "[Text(0, 0, '0'),\n",
       " Text(0, 0, '0'),\n",
       " Text(0, 0, '0'),\n",
       " Text(0, 0, '0'),\n",
       " Text(0, 0, '1'),\n",
       " Text(0, 0, '1'),\n",
       " Text(0, 0, '1'),\n",
       " Text(0, 0, '1'),\n",
       " Text(0, 0, '1'),\n",
       " Text(0, 0, '3'),\n",
       " Text(0, 0, '6'),\n",
       " Text(0, 0, '5'),\n",
       " Text(0, 0, '17'),\n",
       " Text(0, 0, '6'),\n",
       " Text(0, 0, '8')]"
      ]
     },
     "execution_count": 69,
     "metadata": {},
     "output_type": "execute_result"
    },
    {
     "data": {
      "image/png": "[encoded data removed]",
      "text/plain": [
       "<Figure size 640x480 with 1 Axes>"
      ]
     },
     "metadata": {},
     "output_type": "display_data"
    }
   ],
   "source": [
    "counts, edges, bars = plt.hist(fri[\"OpenToLow\"], bins=range(-1500, 0 + 100, 100))\n",
    "\n",
    "plt.bar_label(bars)"
   ]
  },
  {
   "cell_type": "code",
   "execution_count": 74,
   "metadata": {},
   "outputs": [
    {
     "data": {
      "application/vnd.plotly.v1+json": {
       "config": {
        "plotlyServerURL": "https://plot.ly"
       },
       "data": [
        {
         "close": [
          913.8000000000029,
          67.40000000000146,
          252.90000000000146,
          63.599999999998545,
          263.25,
          59.60000000000582,
          -100.80000000000291,
          -53.950000000004366,
          42.200000000004366,
          -43.44999999999709,
          624.8499999999985,
          451.54999999999563,
          -415.25,
          -411.59999999999854,
          218.8000000000029,
          33.55000000000291,
          393.6999999999971,
          165.09999999999854,
          -395.90000000000146,
          390.0500000000029,
          309.04999999999563,
          -40.299999999995634,
          516.8499999999985,
          452.0500000000029,
          382.0500000000029,
          -314.9499999999971,
          -188.60000000000218,
          -322.8000000000029,
          151.04999999999563,
          -131.85000000000582,
          -73.80000000000291,
          341.59999999999854,
          183.65000000000146,
          536.1500000000015,
          290,
          -104.15000000000146,
          22.05000000000291,
          810.25,
          221.8000000000029,
          -527.3499999999985,
          651.9000000000015,
          -406.90000000000146,
          266.3500000000058,
          285.59999999999854,
          -755.4499999999971,
          -596.6000000000058,
          -116.45000000000437,
          -654.3999999999942,
          3.599999999998545,
          417.34999999999854,
          836.7000000000044
         ],
         "high": [
          1129.800000000003,
          105.09999999999854,
          311.20000000000437,
          102.80000000000291,
          402.6000000000058,
          99.85000000000582,
          53.89999999999418,
          38.75,
          88,
          78.90000000000146,
          679.0999999999985,
          674.1499999999942,
          196.6999999999971,
          201.5500000000029,
          498.65000000000146,
          144.45000000000437,
          453.1499999999942,
          285.5,
          39.19999999999709,
          455,
          345.4499999999971,
          244.5,
          540.6500000000015,
          525.5,
          419.65000000000146,
          21.30000000000291,
          52.69999999999709,
          45.400000000001455,
          265.34999999999854,
          124.89999999999418,
          498.54999999999563,
          565.6500000000015,
          462.59999999999854,
          607.6500000000015,
          477.8000000000029,
          132.6999999999971,
          350,
          940.9000000000015,
          282.1000000000058,
          54.349999999998545,
          774.8499999999985,
          265.15000000000146,
          331.3000000000029,
          654.4000000000015,
          132.5500000000029,
          245.5,
          125.44999999999709,
          92.75,
          404.9499999999971,
          469.79999999999563,
          906.9000000000015
         ],
         "low": [
          -146.90000000000146,
          -236.04999999999563,
          -77.04999999999563,
          -284.34999999999854,
          -17.19999999999709,
          -84.39999999999418,
          -212.10000000000582,
          -403.59999999999854,
          -159.59999999999854,
          -147.1999999999971,
          -148.90000000000146,
          -123.25,
          -481.65000000000146,
          -535.6500000000015,
          -175.6999999999971,
          -162.54999999999563,
          -4.650000000001455,
          -167.75,
          -446.40000000000146,
          -165.90000000000146,
          -186.95000000000437,
          -302.04999999999563,
          -37.44999999999709,
          -11.049999999995634,
          -43.25,
          -390.6999999999971,
          -447,
          -518.3000000000029,
          -86.84999999999854,
          -210.35000000000582,
          -204.0500000000029,
          -254.25,
          -164.5500000000029,
          -9.400000000001455,
          -280.9499999999971,
          -391.8000000000029,
          -67.30000000000291,
          -159.39999999999418,
          -472.3999999999942,
          -645.6500000000015,
          -35.19999999999709,
          -901.6500000000015,
          -327.04999999999563,
          -243.1999999999971,
          -835.9499999999971,
          -789.3500000000058,
          -443.95000000000437,
          -1226.5999999999985,
          -74.30000000000291,
          -1.2000000000043656,
          -58.599999999998545
         ],
         "open": [
          0,
          0,
          0,
          0,
          0,
          0,
          0,
          0,
          0,
          0,
          0,
          0,
          0,
          0,
          0,
          0,
          0,
          0,
          0,
          0,
          0,
          0,
          0,
          0,
          0,
          0,
          0,
          0,
          0,
          0,
          0,
          0,
          0,
          0,
          0,
          0,
          0,
          0,
          0,
          0,
          0,
          0,
          0,
          0,
          0,
          0,
          0,
          0,
          0,
          0,
          0
         ],
         "type": "candlestick",
         "x": [
          "2022-12-26T00:00:00",
          "2022-12-19T00:00:00",
          "2022-12-12T00:00:00",
          "2022-12-05T00:00:00",
          "2022-11-28T00:00:00",
          "2022-11-21T00:00:00",
          "2022-11-14T00:00:00",
          "2022-11-07T00:00:00",
          "2022-10-31T00:00:00",
          "2022-10-24T00:00:00",
          "2022-10-17T00:00:00",
          "2022-10-10T00:00:00",
          "2022-10-03T00:00:00",
          "2022-09-26T00:00:00",
          "2022-09-19T00:00:00",
          "2022-09-12T00:00:00",
          "2022-09-05T00:00:00",
          "2022-08-29T00:00:00",
          "2022-08-22T00:00:00",
          "2022-08-08T00:00:00",
          "2022-08-01T00:00:00",
          "2022-07-25T00:00:00",
          "2022-07-18T00:00:00",
          "2022-07-11T00:00:00",
          "2022-07-04T00:00:00",
          "2022-06-27T00:00:00",
          "2022-06-20T00:00:00",
          "2022-06-13T00:00:00",
          "2022-06-06T00:00:00",
          "2022-05-30T00:00:00",
          "2022-05-23T00:00:00",
          "2022-05-16T00:00:00",
          "2022-05-09T00:00:00",
          "2022-05-02T00:00:00",
          "2022-04-25T00:00:00",
          "2022-04-18T00:00:00",
          "2022-04-11T00:00:00",
          "2022-04-04T00:00:00",
          "2022-03-28T00:00:00",
          "2022-03-21T00:00:00",
          "2022-03-14T00:00:00",
          "2022-03-07T00:00:00",
          "2022-02-28T00:00:00",
          "2022-02-21T00:00:00",
          "2022-02-14T00:00:00",
          "2022-02-07T00:00:00",
          "2022-01-31T00:00:00",
          "2022-01-24T00:00:00",
          "2022-01-17T00:00:00",
          "2022-01-10T00:00:00",
          "2022-01-03T00:00:00"
         ]
        }
       ],
       "layout": {
        "template": {
         "data": {
          "bar": [
           {
            "error_x": {
             "color": "#2a3f5f"
            },
            "error_y": {
             "color": "#2a3f5f"
            },
            "marker": {
             "line": {
              "color": "#E5ECF6",
              "width": 0.5
             },
             "pattern": {
              "fillmode": "overlay",
              "size": 10,
              "solidity": 0.2
             }
            },
            "type": "bar"
           }
          ],
          "barpolar": [
           {
            "marker": {
             "line": {
              "color": "#E5ECF6",
              "width": 0.5
             },
             "pattern": {
              "fillmode": "overlay",
              "size": 10,
              "solidity": 0.2
             }
            },
            "type": "barpolar"
           }
          ],
          "carpet": [
           {
            "aaxis": {
             "endlinecolor": "#2a3f5f",
             "gridcolor": "white",
             "linecolor": "white",
             "minorgridcolor": "white",
             "startlinecolor": "#2a3f5f"
            },
            "baxis": {
             "endlinecolor": "#2a3f5f",
             "gridcolor": "white",
             "linecolor": "white",
             "minorgridcolor": "white",
             "startlinecolor": "#2a3f5f"
            },
            "type": "carpet"
           }
          ],
          "choropleth": [
           {
            "colorbar": {
             "outlinewidth": 0,
             "ticks": ""
            },
            "type": "choropleth"
           }
          ],
          "contour": [
           {
            "colorbar": {
             "outlinewidth": 0,
             "ticks": ""
            },
            "colorscale": [
             [
              0,
              "#0d0887"
             ],
             [
              0.1111111111111111,
              "#46039f"
             ],
             [
              0.2222222222222222,
              "#7201a8"
             ],
             [
              0.3333333333333333,
              "#9c179e"
             ],
             [
              0.4444444444444444,
              "#bd3786"
             ],
             [
              0.5555555555555556,
              "#d8576b"
             ],
             [
              0.6666666666666666,
              "#ed7953"
             ],
             [
              0.7777777777777778,
              "#fb9f3a"
             ],
             [
              0.8888888888888888,
              "#fdca26"
             ],
             [
              1,
              "#f0f921"
             ]
            ],
            "type": "contour"
           }
          ],
          "contourcarpet": [
           {
            "colorbar": {
             "outlinewidth": 0,
             "ticks": ""
            },
            "type": "contourcarpet"
           }
          ],
          "heatmap": [
           {
            "colorbar": {
             "outlinewidth": 0,
             "ticks": ""
            },
            "colorscale": [
             [
              0,
              "#0d0887"
             ],
             [
              0.1111111111111111,
              "#46039f"
             ],
             [
              0.2222222222222222,
              "#7201a8"
             ],
             [
              0.3333333333333333,
              "#9c179e"
             ],
             [
              0.4444444444444444,
              "#bd3786"
             ],
             [
              0.5555555555555556,
              "#d8576b"
             ],
             [
              0.6666666666666666,
              "#ed7953"
             ],
             [
              0.7777777777777778,
              "#fb9f3a"
             ],
             [
              0.8888888888888888,
              "#fdca26"
             ],
             [
              1,
              "#f0f921"
             ]
            ],
            "type": "heatmap"
           }
          ],
          "heatmapgl": [
           {
            "colorbar": {
             "outlinewidth": 0,
             "ticks": ""
            },
            "colorscale": [
             [
              0,
              "#0d0887"
             ],
             [
              0.1111111111111111,
              "#46039f"
             ],
             [
              0.2222222222222222,
              "#7201a8"
             ],
             [
              0.3333333333333333,
              "#9c179e"
             ],
             [
              0.4444444444444444,
              "#bd3786"
             ],
             [
              0.5555555555555556,
              "#d8576b"
             ],
             [
              0.6666666666666666,
              "#ed7953"
             ],
             [
              0.7777777777777778,
              "#fb9f3a"
             ],
             [
              0.8888888888888888,
              "#fdca26"
             ],
             [
              1,
              "#f0f921"
             ]
            ],
            "type": "heatmapgl"
           }
          ],
          "histogram": [
           {
            "marker": {
             "pattern": {
              "fillmode": "overlay",
              "size": 10,
              "solidity": 0.2
             }
            },
            "type": "histogram"
           }
          ],
          "histogram2d": [
           {
            "colorbar": {
             "outlinewidth": 0,
             "ticks": ""
            },
            "colorscale": [
             [
              0,
              "#0d0887"
             ],
             [
              0.1111111111111111,
              "#46039f"
             ],
             [
              0.2222222222222222,
              "#7201a8"
             ],
             [
              0.3333333333333333,
              "#9c179e"
             ],
             [
              0.4444444444444444,
              "#bd3786"
             ],
             [
              0.5555555555555556,
              "#d8576b"
             ],
             [
              0.6666666666666666,
              "#ed7953"
             ],
             [
              0.7777777777777778,
              "#fb9f3a"
             ],
             [
              0.8888888888888888,
              "#fdca26"
             ],
             [
              1,
              "#f0f921"
             ]
            ],
            "type": "histogram2d"
           }
          ],
          "histogram2dcontour": [
           {
            "colorbar": {
             "outlinewidth": 0,
             "ticks": ""
            },
            "colorscale": [
             [
              0,
              "#0d0887"
             ],
             [
              0.1111111111111111,
              "#46039f"
             ],
             [
              0.2222222222222222,
              "#7201a8"
             ],
             [
              0.3333333333333333,
              "#9c179e"
             ],
             [
              0.4444444444444444,
              "#bd3786"
             ],
             [
              0.5555555555555556,
              "#d8576b"
             ],
             [
              0.6666666666666666,
              "#ed7953"
             ],
             [
              0.7777777777777778,
              "#fb9f3a"
             ],
             [
              0.8888888888888888,
              "#fdca26"
             ],
             [
              1,
              "#f0f921"
             ]
            ],
            "type": "histogram2dcontour"
           }
          ],
          "mesh3d": [
           {
            "colorbar": {
             "outlinewidth": 0,
             "ticks": ""
            },
            "type": "mesh3d"
           }
          ],
          "parcoords": [
           {
            "line": {
             "colorbar": {
              "outlinewidth": 0,
              "ticks": ""
             }
            },
            "type": "parcoords"
           }
          ],
          "pie": [
           {
            "automargin": true,
            "type": "pie"
           }
          ],
          "scatter": [
           {
            "fillpattern": {
             "fillmode": "overlay",
             "size": 10,
             "solidity": 0.2
            },
            "type": "scatter"
           }
          ],
          "scatter3d": [
           {
            "line": {
             "colorbar": {
              "outlinewidth": 0,
              "ticks": ""
             }
            },
            "marker": {
             "colorbar": {
              "outlinewidth": 0,
              "ticks": ""
             }
            },
            "type": "scatter3d"
           }
          ],
          "scattercarpet": [
           {
            "marker": {
             "colorbar": {
              "outlinewidth": 0,
              "ticks": ""
             }
            },
            "type": "scattercarpet"
           }
          ],
          "scattergeo": [
           {
            "marker": {
             "colorbar": {
              "outlinewidth": 0,
              "ticks": ""
             }
            },
            "type": "scattergeo"
           }
          ],
          "scattergl": [
           {
            "marker": {
             "colorbar": {
              "outlinewidth": 0,
              "ticks": ""
             }
            },
            "type": "scattergl"
           }
          ],
          "scattermapbox": [
           {
            "marker": {
             "colorbar": {
              "outlinewidth": 0,
              "ticks": ""
             }
            },
            "type": "scattermapbox"
           }
          ],
          "scatterpolar": [
           {
            "marker": {
             "colorbar": {
              "outlinewidth": 0,
              "ticks": ""
             }
            },
            "type": "scatterpolar"
           }
          ],
          "scatterpolargl": [
           {
            "marker": {
             "colorbar": {
              "outlinewidth": 0,
              "ticks": ""
             }
            },
            "type": "scatterpolargl"
           }
          ],
          "scatterternary": [
           {
            "marker": {
             "colorbar": {
              "outlinewidth": 0,
              "ticks": ""
             }
            },
            "type": "scatterternary"
           }
          ],
          "surface": [
           {
            "colorbar": {
             "outlinewidth": 0,
             "ticks": ""
            },
            "colorscale": [
             [
              0,
              "#0d0887"
             ],
             [
              0.1111111111111111,
              "#46039f"
             ],
             [
              0.2222222222222222,
              "#7201a8"
             ],
             [
              0.3333333333333333,
              "#9c179e"
             ],
             [
              0.4444444444444444,
              "#bd3786"
             ],
             [
              0.5555555555555556,
              "#d8576b"
             ],
             [
              0.6666666666666666,
              "#ed7953"
             ],
             [
              0.7777777777777778,
              "#fb9f3a"
             ],
             [
              0.8888888888888888,
              "#fdca26"
             ],
             [
              1,
              "#f0f921"
             ]
            ],
            "type": "surface"
           }
          ],
          "table": [
           {
            "cells": {
             "fill": {
              "color": "#EBF0F8"
             },
             "line": {
              "color": "white"
             }
            },
            "header": {
             "fill": {
              "color": "#C8D4E3"
             },
             "line": {
              "color": "white"
             }
            },
            "type": "table"
           }
          ]
         },
         "layout": {
          "annotationdefaults": {
           "arrowcolor": "#2a3f5f",
           "arrowhead": 0,
           "arrowwidth": 1
          },
          "autotypenumbers": "strict",
          "coloraxis": {
           "colorbar": {
            "outlinewidth": 0,
            "ticks": ""
           }
          },
          "colorscale": {
           "diverging": [
            [
             0,
             "#8e0152"
            ],
            [
             0.1,
             "#c51b7d"
            ],
            [
             0.2,
             "#de77ae"
            ],
            [
             0.3,
             "#f1b6da"
            ],
            [
             0.4,
             "#fde0ef"
            ],
            [
             0.5,
             "#f7f7f7"
            ],
            [
             0.6,
             "#e6f5d0"
            ],
            [
             0.7,
             "#b8e186"
            ],
            [
             0.8,
             "#7fbc41"
            ],
            [
             0.9,
             "#4d9221"
            ],
            [
             1,
             "#276419"
            ]
           ],
           "sequential": [
            [
             0,
             "#0d0887"
            ],
            [
             0.1111111111111111,
             "#46039f"
            ],
            [
             0.2222222222222222,
             "#7201a8"
            ],
            [
             0.3333333333333333,
             "#9c179e"
            ],
            [
             0.4444444444444444,
             "#bd3786"
            ],
            [
             0.5555555555555556,
             "#d8576b"
            ],
            [
             0.6666666666666666,
             "#ed7953"
            ],
            [
             0.7777777777777778,
             "#fb9f3a"
            ],
            [
             0.8888888888888888,
             "#fdca26"
            ],
            [
             1,
             "#f0f921"
            ]
           ],
           "sequentialminus": [
            [
             0,
             "#0d0887"
            ],
            [
             0.1111111111111111,
             "#46039f"
            ],
            [
             0.2222222222222222,
             "#7201a8"
            ],
            [
             0.3333333333333333,
             "#9c179e"
            ],
            [
             0.4444444444444444,
             "#bd3786"
            ],
            [
             0.5555555555555556,
             "#d8576b"
            ],
            [
             0.6666666666666666,
             "#ed7953"
            ],
            [
             0.7777777777777778,
             "#fb9f3a"
            ],
            [
             0.8888888888888888,
             "#fdca26"
            ],
            [
             1,
             "#f0f921"
            ]
           ]
          },
          "colorway": [
           "#636efa",
           "#EF553B",
           "#00cc96",
           "#ab63fa",
           "#FFA15A",
           "#19d3f3",
           "#FF6692",
           "#B6E880",
           "#FF97FF",
           "#FECB52"
          ],
          "font": {
           "color": "#2a3f5f"
          },
          "geo": {
           "bgcolor": "white",
           "lakecolor": "white",
           "landcolor": "#E5ECF6",
           "showlakes": true,
           "showland": true,
           "subunitcolor": "white"
          },
          "hoverlabel": {
           "align": "left"
          },
          "hovermode": "closest",
          "mapbox": {
           "style": "light"
          },
          "paper_bgcolor": "white",
          "plot_bgcolor": "#E5ECF6",
          "polar": {
           "angularaxis": {
            "gridcolor": "white",
            "linecolor": "white",
            "ticks": ""
           },
           "bgcolor": "#E5ECF6",
           "radialaxis": {
            "gridcolor": "white",
            "linecolor": "white",
            "ticks": ""
           }
          },
          "scene": {
           "xaxis": {
            "backgroundcolor": "#E5ECF6",
            "gridcolor": "white",
            "gridwidth": 2,
            "linecolor": "white",
            "showbackground": true,
            "ticks": "",
            "zerolinecolor": "white"
           },
           "yaxis": {
            "backgroundcolor": "#E5ECF6",
            "gridcolor": "white",
            "gridwidth": 2,
            "linecolor": "white",
            "showbackground": true,
            "ticks": "",
            "zerolinecolor": "white"
           },
           "zaxis": {
            "backgroundcolor": "#E5ECF6",
            "gridcolor": "white",
            "gridwidth": 2,
            "linecolor": "white",
            "showbackground": true,
            "ticks": "",
            "zerolinecolor": "white"
           }
          },
          "shapedefaults": {
           "line": {
            "color": "#2a3f5f"
           }
          },
          "ternary": {
           "aaxis": {
            "gridcolor": "white",
            "linecolor": "white",
            "ticks": ""
           },
           "baxis": {
            "gridcolor": "white",
            "linecolor": "white",
            "ticks": ""
           },
           "bgcolor": "#E5ECF6",
           "caxis": {
            "gridcolor": "white",
            "linecolor": "white",
            "ticks": ""
           }
          },
          "title": {
           "x": 0.05
          },
          "xaxis": {
           "automargin": true,
           "gridcolor": "white",
           "linecolor": "white",
           "ticks": "",
           "title": {
            "standoff": 15
           },
           "zerolinecolor": "white",
           "zerolinewidth": 2
          },
          "yaxis": {
           "automargin": true,
           "gridcolor": "white",
           "linecolor": "white",
           "ticks": "",
           "title": {
            "standoff": 15
           },
           "zerolinecolor": "white",
           "zerolinewidth": 2
          }
         }
        },
        "xaxis": {
         "anchor": "y",
         "domain": [
          0,
          0.94
         ]
        },
        "yaxis": {
         "anchor": "x",
         "domain": [
          0,
          1
         ]
        },
        "yaxis2": {
         "anchor": "x",
         "overlaying": "y",
         "side": "right"
        }
       }
      }
     },
     "metadata": {},
     "output_type": "display_data"
    }
   ],
   "source": [
    "fig = make_subplots(specs=[[{\"secondary_y\":True}]])\n",
    "\n",
    "fig.add_trace(go.Candlestick(x = mon[\"Date\"],\n",
    "open = mon[\"Open\"]-mon[\"Open\"],\n",
    "high = mon[\"High\"]-mon[\"Open\"],\n",
    "low = mon[\"Low\"]-mon[\"Open\"],\n",
    "close = mon[\"Close\"]-mon[\"Open\"]))\n",
    "fig.show()"
   ]
  },
  {
   "cell_type": "code",
   "execution_count": 75,
   "metadata": {},
   "outputs": [
    {
     "data": {
      "application/vnd.plotly.v1+json": {
       "config": {
        "plotlyServerURL": "https://plot.ly"
       },
       "data": [
        {
         "close": [
          31.75,
          206.84999999999854,
          152.85000000000582,
          44.650000000001455,
          94.04999999999563,
          -10.349999999998545,
          137.84999999999854,
          -262.84999999999854,
          -390.90000000000146,
          66.69999999999709,
          -346.40000000000146,
          409.65000000000146,
          -452.54999999999563,
          164.15000000000146,
          71,
          -226.4499999999971,
          1019.8000000000029,
          742.2000000000044,
          -44.44999999999709,
          256.3000000000029,
          -280.0500000000029,
          607.0999999999985,
          -166.4499999999971,
          -268.79999999999563,
          64.25,
          213.6999999999971,
          130.75,
          -84.80000000000291,
          -127.90000000000146,
          66.95000000000437,
          505.70000000000437,
          301.45000000000437,
          -110.54999999999563,
          -465.20000000000437,
          340,
          -663.4000000000015,
          -84.34999999999854,
          372.95000000000437,
          -445.29999999999563,
          626.1999999999971,
          538.6500000000015,
          1180.2999999999956,
          -147.65000000000146,
          45.05000000000291,
          1108.699999999997,
          -127.09999999999854,
          72.19999999999709,
          288.90000000000146
         ],
         "high": [
          99.44999999999709,
          273.54999999999563,
          190.10000000000582,
          212.9499999999971,
          320.1999999999971,
          41.349999999998545,
          215.20000000000437,
          124.84999999999854,
          17,
          183.29999999999563,
          116.09999999999854,
          477.09999999999854,
          238.8000000000029,
          373.5,
          102.20000000000437,
          180.8000000000029,
          1089.6000000000058,
          914.4500000000044,
          160.5,
          412.15000000000146,
          7.19999999999709,
          648.4000000000015,
          120.95000000000437,
          276.3500000000058,
          167.10000000000582,
          615.75,
          437.5500000000029,
          73.5,
          266.6499999999942,
          363.25,
          569.8500000000058,
          600.6000000000058,
          89.20000000000437,
          316.75,
          513.1999999999971,
          27.94999999999709,
          45.44999999999709,
          493.20000000000437,
          175.85000000000582,
          731.6500000000015,
          826.4000000000015,
          1241.7999999999956,
          46,
          342.25,
          1190.75,
          518.1500000000015,
          134.59999999999854,
          336.5500000000029
         ],
         "low": [
          -433.59999999999854,
          -197.25,
          -25.94999999999709,
          -17.5,
          0,
          -120.25,
          -155.29999999999563,
          -363.84999999999854,
          -492.20000000000437,
          -112.20000000000437,
          -436.09999999999854,
          -103.5,
          -626.7999999999956,
          -96.84999999999854,
          -108.15000000000146,
          -328.6499999999942,
          -44.25,
          -4.599999999998545,
          -164.1999999999971,
          -135.39999999999418,
          -354.45000000000437,
          -2.75,
          -251.1999999999971,
          -327.6999999999971,
          -74.89999999999418,
          -180.5,
          -56.69999999999709,
          -246.40000000000146,
          -326.3500000000058,
          -107.39999999999418,
          -115.59999999999854,
          -4.399999999994179,
          -249.4499999999971,
          -880.5,
          -142.95000000000437,
          -795.3500000000058,
          -425.1999999999971,
          -590.8499999999985,
          -761.8999999999942,
          -376.5500000000029,
          -14.900000000001455,
          -337.95000000000437,
          -857.0499999999956,
          -769.8499999999985,
          -182.45000000000437,
          -242,
          -338.25,
          -176.84999999999854
         ],
         "open": [
          0,
          0,
          0,
          0,
          0,
          0,
          0,
          0,
          0,
          0,
          0,
          0,
          0,
          0,
          0,
          0,
          0,
          0,
          0,
          0,
          0,
          0,
          0,
          0,
          0,
          0,
          0,
          0,
          0,
          0,
          0,
          0,
          0,
          0,
          0,
          0,
          0,
          0,
          0,
          0,
          0,
          0,
          0,
          0,
          0,
          0,
          0,
          0
         ],
         "type": "candlestick",
         "x": [
          "2022-12-27T00:00:00",
          "2022-12-20T00:00:00",
          "2022-12-13T00:00:00",
          "2022-12-06T00:00:00",
          "2022-11-29T00:00:00",
          "2022-11-22T00:00:00",
          "2022-11-15T00:00:00",
          "2022-11-01T00:00:00",
          "2022-10-25T00:00:00",
          "2022-10-18T00:00:00",
          "2022-10-11T00:00:00",
          "2022-10-04T00:00:00",
          "2022-09-27T00:00:00",
          "2022-09-20T00:00:00",
          "2022-09-13T00:00:00",
          "2022-09-06T00:00:00",
          "2022-08-30T00:00:00",
          "2022-08-23T00:00:00",
          "2022-08-16T00:00:00",
          "2022-08-02T00:00:00",
          "2022-07-26T00:00:00",
          "2022-07-19T00:00:00",
          "2022-07-12T00:00:00",
          "2022-07-05T00:00:00",
          "2022-06-28T00:00:00",
          "2022-06-21T00:00:00",
          "2022-06-14T00:00:00",
          "2022-06-07T00:00:00",
          "2022-05-31T00:00:00",
          "2022-05-24T00:00:00",
          "2022-05-17T00:00:00",
          "2022-05-10T00:00:00",
          "2022-04-26T00:00:00",
          "2022-04-19T00:00:00",
          "2022-04-12T00:00:00",
          "2022-04-05T00:00:00",
          "2022-03-29T00:00:00",
          "2022-03-22T00:00:00",
          "2022-03-15T00:00:00",
          "2022-03-08T00:00:00",
          "2022-02-22T00:00:00",
          "2022-02-15T00:00:00",
          "2022-02-08T00:00:00",
          "2022-02-01T00:00:00",
          "2022-01-25T00:00:00",
          "2022-01-18T00:00:00",
          "2022-01-11T00:00:00",
          "2022-01-04T00:00:00"
         ]
        }
       ],
       "layout": {
        "template": {
         "data": {
          "bar": [
           {
            "error_x": {
             "color": "#2a3f5f"
            },
            "error_y": {
             "color": "#2a3f5f"
            },
            "marker": {
             "line": {
              "color": "#E5ECF6",
              "width": 0.5
             },
             "pattern": {
              "fillmode": "overlay",
              "size": 10,
              "solidity": 0.2
             }
            },
            "type": "bar"
           }
          ],
          "barpolar": [
           {
            "marker": {
             "line": {
              "color": "#E5ECF6",
              "width": 0.5
             },
             "pattern": {
              "fillmode": "overlay",
              "size": 10,
              "solidity": 0.2
             }
            },
            "type": "barpolar"
           }
          ],
          "carpet": [
           {
            "aaxis": {
             "endlinecolor": "#2a3f5f",
             "gridcolor": "white",
             "linecolor": "white",
             "minorgridcolor": "white",
             "startlinecolor": "#2a3f5f"
            },
            "baxis": {
             "endlinecolor": "#2a3f5f",
             "gridcolor": "white",
             "linecolor": "white",
             "minorgridcolor": "white",
             "startlinecolor": "#2a3f5f"
            },
            "type": "carpet"
           }
          ],
          "choropleth": [
           {
            "colorbar": {
             "outlinewidth": 0,
             "ticks": ""
            },
            "type": "choropleth"
           }
          ],
          "contour": [
           {
            "colorbar": {
             "outlinewidth": 0,
             "ticks": ""
            },
            "colorscale": [
             [
              0,
              "#0d0887"
             ],
             [
              0.1111111111111111,
              "#46039f"
             ],
             [
              0.2222222222222222,
              "#7201a8"
             ],
             [
              0.3333333333333333,
              "#9c179e"
             ],
             [
              0.4444444444444444,
              "#bd3786"
             ],
             [
              0.5555555555555556,
              "#d8576b"
             ],
             [
              0.6666666666666666,
              "#ed7953"
             ],
             [
              0.7777777777777778,
              "#fb9f3a"
             ],
             [
              0.8888888888888888,
              "#fdca26"
             ],
             [
              1,
              "#f0f921"
             ]
            ],
            "type": "contour"
           }
          ],
          "contourcarpet": [
           {
            "colorbar": {
             "outlinewidth": 0,
             "ticks": ""
            },
            "type": "contourcarpet"
           }
          ],
          "heatmap": [
           {
            "colorbar": {
             "outlinewidth": 0,
             "ticks": ""
            },
            "colorscale": [
             [
              0,
              "#0d0887"
             ],
             [
              0.1111111111111111,
              "#46039f"
             ],
             [
              0.2222222222222222,
              "#7201a8"
             ],
             [
              0.3333333333333333,
              "#9c179e"
             ],
             [
              0.4444444444444444,
              "#bd3786"
             ],
             [
              0.5555555555555556,
              "#d8576b"
             ],
             [
              0.6666666666666666,
              "#ed7953"
             ],
             [
              0.7777777777777778,
              "#fb9f3a"
             ],
             [
              0.8888888888888888,
              "#fdca26"
             ],
             [
              1,
              "#f0f921"
             ]
            ],
            "type": "heatmap"
           }
          ],
          "heatmapgl": [
           {
            "colorbar": {
             "outlinewidth": 0,
             "ticks": ""
            },
            "colorscale": [
             [
              0,
              "#0d0887"
             ],
             [
              0.1111111111111111,
              "#46039f"
             ],
             [
              0.2222222222222222,
              "#7201a8"
             ],
             [
              0.3333333333333333,
              "#9c179e"
             ],
             [
              0.4444444444444444,
              "#bd3786"
             ],
             [
              0.5555555555555556,
              "#d8576b"
             ],
             [
              0.6666666666666666,
              "#ed7953"
             ],
             [
              0.7777777777777778,
              "#fb9f3a"
             ],
             [
              0.8888888888888888,
              "#fdca26"
             ],
             [
              1,
              "#f0f921"
             ]
            ],
            "type": "heatmapgl"
           }
          ],
          "histogram": [
           {
            "marker": {
             "pattern": {
              "fillmode": "overlay",
              "size": 10,
              "solidity": 0.2
             }
            },
            "type": "histogram"
           }
          ],
          "histogram2d": [
           {
            "colorbar": {
             "outlinewidth": 0,
             "ticks": ""
            },
            "colorscale": [
             [
              0,
              "#0d0887"
             ],
             [
              0.1111111111111111,
              "#46039f"
             ],
             [
              0.2222222222222222,
              "#7201a8"
             ],
             [
              0.3333333333333333,
              "#9c179e"
             ],
             [
              0.4444444444444444,
              "#bd3786"
             ],
             [
              0.5555555555555556,
              "#d8576b"
             ],
             [
              0.6666666666666666,
              "#ed7953"
             ],
             [
              0.7777777777777778,
              "#fb9f3a"
             ],
             [
              0.8888888888888888,
              "#fdca26"
             ],
             [
              1,
              "#f0f921"
             ]
            ],
            "type": "histogram2d"
           }
          ],
          "histogram2dcontour": [
           {
            "colorbar": {
             "outlinewidth": 0,
             "ticks": ""
            },
            "colorscale": [
             [
              0,
              "#0d0887"
             ],
             [
              0.1111111111111111,
              "#46039f"
             ],
             [
              0.2222222222222222,
              "#7201a8"
             ],
             [
              0.3333333333333333,
              "#9c179e"
             ],
             [
              0.4444444444444444,
              "#bd3786"
             ],
             [
              0.5555555555555556,
              "#d8576b"
             ],
             [
              0.6666666666666666,
              "#ed7953"
             ],
             [
              0.7777777777777778,
              "#fb9f3a"
             ],
             [
              0.8888888888888888,
              "#fdca26"
             ],
             [
              1,
              "#f0f921"
             ]
            ],
            "type": "histogram2dcontour"
           }
          ],
          "mesh3d": [
           {
            "colorbar": {
             "outlinewidth": 0,
             "ticks": ""
            },
            "type": "mesh3d"
           }
          ],
          "parcoords": [
           {
            "line": {
             "colorbar": {
              "outlinewidth": 0,
              "ticks": ""
             }
            },
            "type": "parcoords"
           }
          ],
          "pie": [
           {
            "automargin": true,
            "type": "pie"
           }
          ],
          "scatter": [
           {
            "fillpattern": {
             "fillmode": "overlay",
             "size": 10,
             "solidity": 0.2
            },
            "type": "scatter"
           }
          ],
          "scatter3d": [
           {
            "line": {
             "colorbar": {
              "outlinewidth": 0,
              "ticks": ""
             }
            },
            "marker": {
             "colorbar": {
              "outlinewidth": 0,
              "ticks": ""
             }
            },
            "type": "scatter3d"
           }
          ],
          "scattercarpet": [
           {
            "marker": {
             "colorbar": {
              "outlinewidth": 0,
              "ticks": ""
             }
            },
            "type": "scattercarpet"
           }
          ],
          "scattergeo": [
           {
            "marker": {
             "colorbar": {
              "outlinewidth": 0,
              "ticks": ""
             }
            },
            "type": "scattergeo"
           }
          ],
          "scattergl": [
           {
            "marker": {
             "colorbar": {
              "outlinewidth": 0,
              "ticks": ""
             }
            },
            "type": "scattergl"
           }
          ],
          "scattermapbox": [
           {
            "marker": {
             "colorbar": {
              "outlinewidth": 0,
              "ticks": ""
             }
            },
            "type": "scattermapbox"
           }
          ],
          "scatterpolar": [
           {
            "marker": {
             "colorbar": {
              "outlinewidth": 0,
              "ticks": ""
             }
            },
            "type": "scatterpolar"
           }
          ],
          "scatterpolargl": [
           {
            "marker": {
             "colorbar": {
              "outlinewidth": 0,
              "ticks": ""
             }
            },
            "type": "scatterpolargl"
           }
          ],
          "scatterternary": [
           {
            "marker": {
             "colorbar": {
              "outlinewidth": 0,
              "ticks": ""
             }
            },
            "type": "scatterternary"
           }
          ],
          "surface": [
           {
            "colorbar": {
             "outlinewidth": 0,
             "ticks": ""
            },
            "colorscale": [
             [
              0,
              "#0d0887"
             ],
             [
              0.1111111111111111,
              "#46039f"
             ],
             [
              0.2222222222222222,
              "#7201a8"
             ],
             [
              0.3333333333333333,
              "#9c179e"
             ],
             [
              0.4444444444444444,
              "#bd3786"
             ],
             [
              0.5555555555555556,
              "#d8576b"
             ],
             [
              0.6666666666666666,
              "#ed7953"
             ],
             [
              0.7777777777777778,
              "#fb9f3a"
             ],
             [
              0.8888888888888888,
              "#fdca26"
             ],
             [
              1,
              "#f0f921"
             ]
            ],
            "type": "surface"
           }
          ],
          "table": [
           {
            "cells": {
             "fill": {
              "color": "#EBF0F8"
             },
             "line": {
              "color": "white"
             }
            },
            "header": {
             "fill": {
              "color": "#C8D4E3"
             },
             "line": {
              "color": "white"
             }
            },
            "type": "table"
           }
          ]
         },
         "layout": {
          "annotationdefaults": {
           "arrowcolor": "#2a3f5f",
           "arrowhead": 0,
           "arrowwidth": 1
          },
          "autotypenumbers": "strict",
          "coloraxis": {
           "colorbar": {
            "outlinewidth": 0,
            "ticks": ""
           }
          },
          "colorscale": {
           "diverging": [
            [
             0,
             "#8e0152"
            ],
            [
             0.1,
             "#c51b7d"
            ],
            [
             0.2,
             "#de77ae"
            ],
            [
             0.3,
             "#f1b6da"
            ],
            [
             0.4,
             "#fde0ef"
            ],
            [
             0.5,
             "#f7f7f7"
            ],
            [
             0.6,
             "#e6f5d0"
            ],
            [
             0.7,
             "#b8e186"
            ],
            [
             0.8,
             "#7fbc41"
            ],
            [
             0.9,
             "#4d9221"
            ],
            [
             1,
             "#276419"
            ]
           ],
           "sequential": [
            [
             0,
             "#0d0887"
            ],
            [
             0.1111111111111111,
             "#46039f"
            ],
            [
             0.2222222222222222,
             "#7201a8"
            ],
            [
             0.3333333333333333,
             "#9c179e"
            ],
            [
             0.4444444444444444,
             "#bd3786"
            ],
            [
             0.5555555555555556,
             "#d8576b"
            ],
            [
             0.6666666666666666,
             "#ed7953"
            ],
            [
             0.7777777777777778,
             "#fb9f3a"
            ],
            [
             0.8888888888888888,
             "#fdca26"
            ],
            [
             1,
             "#f0f921"
            ]
           ],
           "sequentialminus": [
            [
             0,
             "#0d0887"
            ],
            [
             0.1111111111111111,
             "#46039f"
            ],
            [
             0.2222222222222222,
             "#7201a8"
            ],
            [
             0.3333333333333333,
             "#9c179e"
            ],
            [
             0.4444444444444444,
             "#bd3786"
            ],
            [
             0.5555555555555556,
             "#d8576b"
            ],
            [
             0.6666666666666666,
             "#ed7953"
            ],
            [
             0.7777777777777778,
             "#fb9f3a"
            ],
            [
             0.8888888888888888,
             "#fdca26"
            ],
            [
             1,
             "#f0f921"
            ]
           ]
          },
          "colorway": [
           "#636efa",
           "#EF553B",
           "#00cc96",
           "#ab63fa",
           "#FFA15A",
           "#19d3f3",
           "#FF6692",
           "#B6E880",
           "#FF97FF",
           "#FECB52"
          ],
          "font": {
           "color": "#2a3f5f"
          },
          "geo": {
           "bgcolor": "white",
           "lakecolor": "white",
           "landcolor": "#E5ECF6",
           "showlakes": true,
           "showland": true,
           "subunitcolor": "white"
          },
          "hoverlabel": {
           "align": "left"
          },
          "hovermode": "closest",
          "mapbox": {
           "style": "light"
          },
          "paper_bgcolor": "white",
          "plot_bgcolor": "#E5ECF6",
          "polar": {
           "angularaxis": {
            "gridcolor": "white",
            "linecolor": "white",
            "ticks": ""
           },
           "bgcolor": "#E5ECF6",
           "radialaxis": {
            "gridcolor": "white",
            "linecolor": "white",
            "ticks": ""
           }
          },
          "scene": {
           "xaxis": {
            "backgroundcolor": "#E5ECF6",
            "gridcolor": "white",
            "gridwidth": 2,
            "linecolor": "white",
            "showbackground": true,
            "ticks": "",
            "zerolinecolor": "white"
           },
           "yaxis": {
            "backgroundcolor": "#E5ECF6",
            "gridcolor": "white",
            "gridwidth": 2,
            "linecolor": "white",
            "showbackground": true,
            "ticks": "",
            "zerolinecolor": "white"
           },
           "zaxis": {
            "backgroundcolor": "#E5ECF6",
            "gridcolor": "white",
            "gridwidth": 2,
            "linecolor": "white",
            "showbackground": true,
            "ticks": "",
            "zerolinecolor": "white"
           }
          },
          "shapedefaults": {
           "line": {
            "color": "#2a3f5f"
           }
          },
          "ternary": {
           "aaxis": {
            "gridcolor": "white",
            "linecolor": "white",
            "ticks": ""
           },
           "baxis": {
            "gridcolor": "white",
            "linecolor": "white",
            "ticks": ""
           },
           "bgcolor": "#E5ECF6",
           "caxis": {
            "gridcolor": "white",
            "linecolor": "white",
            "ticks": ""
           }
          },
          "title": {
           "x": 0.05
          },
          "xaxis": {
           "automargin": true,
           "gridcolor": "white",
           "linecolor": "white",
           "ticks": "",
           "title": {
            "standoff": 15
           },
           "zerolinecolor": "white",
           "zerolinewidth": 2
          },
          "yaxis": {
           "automargin": true,
           "gridcolor": "white",
           "linecolor": "white",
           "ticks": "",
           "title": {
            "standoff": 15
           },
           "zerolinecolor": "white",
           "zerolinewidth": 2
          }
         }
        },
        "xaxis": {
         "anchor": "y",
         "domain": [
          0,
          0.94
         ]
        },
        "yaxis": {
         "anchor": "x",
         "domain": [
          0,
          1
         ]
        },
        "yaxis2": {
         "anchor": "x",
         "overlaying": "y",
         "side": "right"
        }
       }
      }
     },
     "metadata": {},
     "output_type": "display_data"
    }
   ],
   "source": [
    "fig = make_subplots(specs=[[{\"secondary_y\":True}]])\n",
    "\n",
    "fig.add_trace(go.Candlestick(x = tue[\"Date\"],\n",
    "open = tue[\"Open\"]-tue[\"Open\"],\n",
    "high = tue[\"High\"]-tue[\"Open\"],\n",
    "low = tue[\"Low\"]-tue[\"Open\"],\n",
    "close = tue[\"Close\"]-tue[\"Open\"]))\n",
    "fig.show()"
   ]
  },
  {
   "cell_type": "code",
   "execution_count": 76,
   "metadata": {},
   "outputs": [
    {
     "data": {
      "application/vnd.plotly.v1+json": {
       "config": {
        "plotlyServerURL": "https://plot.ly"
       },
       "data": [
        {
         "close": [
          94.09999999999854,
          -907.8000000000029,
          -29.5,
          -58.650000000001455,
          108.25,
          60.549999999995634,
          163.5,
          -131.65000000000146,
          -325.9499999999971,
          -183.45000000000437,
          334.3500000000058,
          -321.40000000000146,
          -79.15000000000146,
          1096.5999999999985,
          118.15000000000146,
          485.8000000000029,
          110.39999999999418,
          -11,
          34.69999999999709,
          413.1999999999971,
          -89.20000000000437,
          -432,
          394.84999999999854,
          -3.650000000001455,
          -206.34999999999854,
          21.19999999999709,
          -219.5,
          261.8500000000058,
          -152.3000000000029,
          -284.5,
          6.849999999998545,
          -1001.5999999999985,
          -38.700000000004366,
          -167.6999999999971,
          -423.90000000000146,
          -78.5,
          92.75,
          -480.34999999999854,
          192.5,
          536.5499999999956,
          -9.099999999998545,
          -236.5,
          -342.6999999999971,
          326.65000000000146,
          488.9499999999971,
          -104.40000000000146,
          7.950000000004366,
          752.3499999999985
         ],
         "high": [
          301.34999999999854,
          88.90000000000146,
          73.20000000000437,
          170,
          209.5500000000029,
          192,
          239.9499999999971,
          34.05000000000291,
          1.7000000000043656,
          86.94999999999709,
          379.90000000000146,
          287.5500000000029,
          219.09999999999854,
          1318.0999999999985,
          234.3000000000029,
          568.1000000000058,
          153.1999999999971,
          104.09999999999854,
          114.04999999999563,
          437.75,
          121.39999999999418,
          48.349999999998545,
          459.09999999999854,
          149.25,
          55.299999999995634,
          236.75,
          284.25,
          409.75,
          230.79999999999563,
          207.60000000000582,
          106.89999999999418,
          43.150000000001455,
          108.34999999999854,
          31.25,
          101.29999999999563,
          157.1999999999971,
          179.54999999999563,
          199.90000000000146,
          250.59999999999854,
          690.5999999999985,
          171.79999999999563,
          146.04999999999563,
          165.1999999999971,
          364.5500000000029,
          545.0499999999956,
          184.75,
          131.84999999999854,
          918.8499999999985
         ],
         "low": [
          -38.75,
          -1161.949999999997,
          -90.65000000000146,
          -208.90000000000146,
          -242.6999999999971,
          -112.15000000000146,
          -75.5,
          -246.9499999999971,
          -412.15000000000146,
          -361.45000000000437,
          -177.79999999999563,
          -455.0500000000029,
          -393.4499999999971,
          -19.900000000001455,
          -79.5,
          -0.5,
          -148.5,
          -143.54999999999563,
          -261.6000000000058,
          -121.95000000000437,
          -184.75,
          -502.20000000000437,
          -53.25,
          -88.30000000000291,
          -293.5,
          -68.25,
          -333.90000000000146,
          -73.5,
          -206,
          -313.5,
          -543.1000000000058,
          -1138.300000000003,
          -320.40000000000146,
          -368.54999999999563,
          -479.1000000000058,
          -197.45000000000437,
          -171,
          -562.9499999999971,
          -94.19999999999709,
          -330,
          -484.45000000000437,
          -310.5500000000029,
          -533.6999999999971,
          -91.59999999999854,
          -88.90000000000146,
          -376.5,
          -115,
          -187.20000000000437
         ],
         "open": [
          0,
          0,
          0,
          0,
          0,
          0,
          0,
          0,
          0,
          0,
          0,
          0,
          0,
          0,
          0,
          0,
          0,
          0,
          0,
          0,
          0,
          0,
          0,
          0,
          0,
          0,
          0,
          0,
          0,
          0,
          0,
          0,
          0,
          0,
          0,
          0,
          0,
          0,
          0,
          0,
          0,
          0,
          0,
          0,
          0,
          0,
          0,
          0
         ],
         "type": "candlestick",
         "x": [
          "2022-12-28T00:00:00",
          "2022-12-21T00:00:00",
          "2022-12-14T00:00:00",
          "2022-12-07T00:00:00",
          "2022-11-30T00:00:00",
          "2022-11-23T00:00:00",
          "2022-11-16T00:00:00",
          "2022-11-09T00:00:00",
          "2022-11-02T00:00:00",
          "2022-10-19T00:00:00",
          "2022-10-12T00:00:00",
          "2022-09-28T00:00:00",
          "2022-09-21T00:00:00",
          "2022-09-14T00:00:00",
          "2022-09-07T00:00:00",
          "2022-08-24T00:00:00",
          "2022-08-17T00:00:00",
          "2022-08-10T00:00:00",
          "2022-08-03T00:00:00",
          "2022-07-27T00:00:00",
          "2022-07-20T00:00:00",
          "2022-07-13T00:00:00",
          "2022-07-06T00:00:00",
          "2022-06-29T00:00:00",
          "2022-06-22T00:00:00",
          "2022-06-15T00:00:00",
          "2022-06-08T00:00:00",
          "2022-06-01T00:00:00",
          "2022-05-25T00:00:00",
          "2022-05-18T00:00:00",
          "2022-05-11T00:00:00",
          "2022-05-04T00:00:00",
          "2022-04-27T00:00:00",
          "2022-04-20T00:00:00",
          "2022-04-13T00:00:00",
          "2022-04-06T00:00:00",
          "2022-03-30T00:00:00",
          "2022-03-23T00:00:00",
          "2022-03-16T00:00:00",
          "2022-03-09T00:00:00",
          "2022-03-02T00:00:00",
          "2022-02-23T00:00:00",
          "2022-02-16T00:00:00",
          "2022-02-09T00:00:00",
          "2022-02-02T00:00:00",
          "2022-01-19T00:00:00",
          "2022-01-12T00:00:00",
          "2022-01-05T00:00:00"
         ]
        }
       ],
       "layout": {
        "template": {
         "data": {
          "bar": [
           {
            "error_x": {
             "color": "#2a3f5f"
            },
            "error_y": {
             "color": "#2a3f5f"
            },
            "marker": {
             "line": {
              "color": "#E5ECF6",
              "width": 0.5
             },
             "pattern": {
              "fillmode": "overlay",
              "size": 10,
              "solidity": 0.2
             }
            },
            "type": "bar"
           }
          ],
          "barpolar": [
           {
            "marker": {
             "line": {
              "color": "#E5ECF6",
              "width": 0.5
             },
             "pattern": {
              "fillmode": "overlay",
              "size": 10,
              "solidity": 0.2
             }
            },
            "type": "barpolar"
           }
          ],
          "carpet": [
           {
            "aaxis": {
             "endlinecolor": "#2a3f5f",
             "gridcolor": "white",
             "linecolor": "white",
             "minorgridcolor": "white",
             "startlinecolor": "#2a3f5f"
            },
            "baxis": {
             "endlinecolor": "#2a3f5f",
             "gridcolor": "white",
             "linecolor": "white",
             "minorgridcolor": "white",
             "startlinecolor": "#2a3f5f"
            },
            "type": "carpet"
           }
          ],
          "choropleth": [
           {
            "colorbar": {
             "outlinewidth": 0,
             "ticks": ""
            },
            "type": "choropleth"
           }
          ],
          "contour": [
           {
            "colorbar": {
             "outlinewidth": 0,
             "ticks": ""
            },
            "colorscale": [
             [
              0,
              "#0d0887"
             ],
             [
              0.1111111111111111,
              "#46039f"
             ],
             [
              0.2222222222222222,
              "#7201a8"
             ],
             [
              0.3333333333333333,
              "#9c179e"
             ],
             [
              0.4444444444444444,
              "#bd3786"
             ],
             [
              0.5555555555555556,
              "#d8576b"
             ],
             [
              0.6666666666666666,
              "#ed7953"
             ],
             [
              0.7777777777777778,
              "#fb9f3a"
             ],
             [
              0.8888888888888888,
              "#fdca26"
             ],
             [
              1,
              "#f0f921"
             ]
            ],
            "type": "contour"
           }
          ],
          "contourcarpet": [
           {
            "colorbar": {
             "outlinewidth": 0,
             "ticks": ""
            },
            "type": "contourcarpet"
           }
          ],
          "heatmap": [
           {
            "colorbar": {
             "outlinewidth": 0,
             "ticks": ""
            },
            "colorscale": [
             [
              0,
              "#0d0887"
             ],
             [
              0.1111111111111111,
              "#46039f"
             ],
             [
              0.2222222222222222,
              "#7201a8"
             ],
             [
              0.3333333333333333,
              "#9c179e"
             ],
             [
              0.4444444444444444,
              "#bd3786"
             ],
             [
              0.5555555555555556,
              "#d8576b"
             ],
             [
              0.6666666666666666,
              "#ed7953"
             ],
             [
              0.7777777777777778,
              "#fb9f3a"
             ],
             [
              0.8888888888888888,
              "#fdca26"
             ],
             [
              1,
              "#f0f921"
             ]
            ],
            "type": "heatmap"
           }
          ],
          "heatmapgl": [
           {
            "colorbar": {
             "outlinewidth": 0,
             "ticks": ""
            },
            "colorscale": [
             [
              0,
              "#0d0887"
             ],
             [
              0.1111111111111111,
              "#46039f"
             ],
             [
              0.2222222222222222,
              "#7201a8"
             ],
             [
              0.3333333333333333,
              "#9c179e"
             ],
             [
              0.4444444444444444,
              "#bd3786"
             ],
             [
              0.5555555555555556,
              "#d8576b"
             ],
             [
              0.6666666666666666,
              "#ed7953"
             ],
             [
              0.7777777777777778,
              "#fb9f3a"
             ],
             [
              0.8888888888888888,
              "#fdca26"
             ],
             [
              1,
              "#f0f921"
             ]
            ],
            "type": "heatmapgl"
           }
          ],
          "histogram": [
           {
            "marker": {
             "pattern": {
              "fillmode": "overlay",
              "size": 10,
              "solidity": 0.2
             }
            },
            "type": "histogram"
           }
          ],
          "histogram2d": [
           {
            "colorbar": {
             "outlinewidth": 0,
             "ticks": ""
            },
            "colorscale": [
             [
              0,
              "#0d0887"
             ],
             [
              0.1111111111111111,
              "#46039f"
             ],
             [
              0.2222222222222222,
              "#7201a8"
             ],
             [
              0.3333333333333333,
              "#9c179e"
             ],
             [
              0.4444444444444444,
              "#bd3786"
             ],
             [
              0.5555555555555556,
              "#d8576b"
             ],
             [
              0.6666666666666666,
              "#ed7953"
             ],
             [
              0.7777777777777778,
              "#fb9f3a"
             ],
             [
              0.8888888888888888,
              "#fdca26"
             ],
             [
              1,
              "#f0f921"
             ]
            ],
            "type": "histogram2d"
           }
          ],
          "histogram2dcontour": [
           {
            "colorbar": {
             "outlinewidth": 0,
             "ticks": ""
            },
            "colorscale": [
             [
              0,
              "#0d0887"
             ],
             [
              0.1111111111111111,
              "#46039f"
             ],
             [
              0.2222222222222222,
              "#7201a8"
             ],
             [
              0.3333333333333333,
              "#9c179e"
             ],
             [
              0.4444444444444444,
              "#bd3786"
             ],
             [
              0.5555555555555556,
              "#d8576b"
             ],
             [
              0.6666666666666666,
              "#ed7953"
             ],
             [
              0.7777777777777778,
              "#fb9f3a"
             ],
             [
              0.8888888888888888,
              "#fdca26"
             ],
             [
              1,
              "#f0f921"
             ]
            ],
            "type": "histogram2dcontour"
           }
          ],
          "mesh3d": [
           {
            "colorbar": {
             "outlinewidth": 0,
             "ticks": ""
            },
            "type": "mesh3d"
           }
          ],
          "parcoords": [
           {
            "line": {
             "colorbar": {
              "outlinewidth": 0,
              "ticks": ""
             }
            },
            "type": "parcoords"
           }
          ],
          "pie": [
           {
            "automargin": true,
            "type": "pie"
           }
          ],
          "scatter": [
           {
            "fillpattern": {
             "fillmode": "overlay",
             "size": 10,
             "solidity": 0.2
            },
            "type": "scatter"
           }
          ],
          "scatter3d": [
           {
            "line": {
             "colorbar": {
              "outlinewidth": 0,
              "ticks": ""
             }
            },
            "marker": {
             "colorbar": {
              "outlinewidth": 0,
              "ticks": ""
             }
            },
            "type": "scatter3d"
           }
          ],
          "scattercarpet": [
           {
            "marker": {
             "colorbar": {
              "outlinewidth": 0,
              "ticks": ""
             }
            },
            "type": "scattercarpet"
           }
          ],
          "scattergeo": [
           {
            "marker": {
             "colorbar": {
              "outlinewidth": 0,
              "ticks": ""
             }
            },
            "type": "scattergeo"
           }
          ],
          "scattergl": [
           {
            "marker": {
             "colorbar": {
              "outlinewidth": 0,
              "ticks": ""
             }
            },
            "type": "scattergl"
           }
          ],
          "scattermapbox": [
           {
            "marker": {
             "colorbar": {
              "outlinewidth": 0,
              "ticks": ""
             }
            },
            "type": "scattermapbox"
           }
          ],
          "scatterpolar": [
           {
            "marker": {
             "colorbar": {
              "outlinewidth": 0,
              "ticks": ""
             }
            },
            "type": "scatterpolar"
           }
          ],
          "scatterpolargl": [
           {
            "marker": {
             "colorbar": {
              "outlinewidth": 0,
              "ticks": ""
             }
            },
            "type": "scatterpolargl"
           }
          ],
          "scatterternary": [
           {
            "marker": {
             "colorbar": {
              "outlinewidth": 0,
              "ticks": ""
             }
            },
            "type": "scatterternary"
           }
          ],
          "surface": [
           {
            "colorbar": {
             "outlinewidth": 0,
             "ticks": ""
            },
            "colorscale": [
             [
              0,
              "#0d0887"
             ],
             [
              0.1111111111111111,
              "#46039f"
             ],
             [
              0.2222222222222222,
              "#7201a8"
             ],
             [
              0.3333333333333333,
              "#9c179e"
             ],
             [
              0.4444444444444444,
              "#bd3786"
             ],
             [
              0.5555555555555556,
              "#d8576b"
             ],
             [
              0.6666666666666666,
              "#ed7953"
             ],
             [
              0.7777777777777778,
              "#fb9f3a"
             ],
             [
              0.8888888888888888,
              "#fdca26"
             ],
             [
              1,
              "#f0f921"
             ]
            ],
            "type": "surface"
           }
          ],
          "table": [
           {
            "cells": {
             "fill": {
              "color": "#EBF0F8"
             },
             "line": {
              "color": "white"
             }
            },
            "header": {
             "fill": {
              "color": "#C8D4E3"
             },
             "line": {
              "color": "white"
             }
            },
            "type": "table"
           }
          ]
         },
         "layout": {
          "annotationdefaults": {
           "arrowcolor": "#2a3f5f",
           "arrowhead": 0,
           "arrowwidth": 1
          },
          "autotypenumbers": "strict",
          "coloraxis": {
           "colorbar": {
            "outlinewidth": 0,
            "ticks": ""
           }
          },
          "colorscale": {
           "diverging": [
            [
             0,
             "#8e0152"
            ],
            [
             0.1,
             "#c51b7d"
            ],
            [
             0.2,
             "#de77ae"
            ],
            [
             0.3,
             "#f1b6da"
            ],
            [
             0.4,
             "#fde0ef"
            ],
            [
             0.5,
             "#f7f7f7"
            ],
            [
             0.6,
             "#e6f5d0"
            ],
            [
             0.7,
             "#b8e186"
            ],
            [
             0.8,
             "#7fbc41"
            ],
            [
             0.9,
             "#4d9221"
            ],
            [
             1,
             "#276419"
            ]
           ],
           "sequential": [
            [
             0,
             "#0d0887"
            ],
            [
             0.1111111111111111,
             "#46039f"
            ],
            [
             0.2222222222222222,
             "#7201a8"
            ],
            [
             0.3333333333333333,
             "#9c179e"
            ],
            [
             0.4444444444444444,
             "#bd3786"
            ],
            [
             0.5555555555555556,
             "#d8576b"
            ],
            [
             0.6666666666666666,
             "#ed7953"
            ],
            [
             0.7777777777777778,
             "#fb9f3a"
            ],
            [
             0.8888888888888888,
             "#fdca26"
            ],
            [
             1,
             "#f0f921"
            ]
           ],
           "sequentialminus": [
            [
             0,
             "#0d0887"
            ],
            [
             0.1111111111111111,
             "#46039f"
            ],
            [
             0.2222222222222222,
             "#7201a8"
            ],
            [
             0.3333333333333333,
             "#9c179e"
            ],
            [
             0.4444444444444444,
             "#bd3786"
            ],
            [
             0.5555555555555556,
             "#d8576b"
            ],
            [
             0.6666666666666666,
             "#ed7953"
            ],
            [
             0.7777777777777778,
             "#fb9f3a"
            ],
            [
             0.8888888888888888,
             "#fdca26"
            ],
            [
             1,
             "#f0f921"
            ]
           ]
          },
          "colorway": [
           "#636efa",
           "#EF553B",
           "#00cc96",
           "#ab63fa",
           "#FFA15A",
           "#19d3f3",
           "#FF6692",
           "#B6E880",
           "#FF97FF",
           "#FECB52"
          ],
          "font": {
           "color": "#2a3f5f"
          },
          "geo": {
           "bgcolor": "white",
           "lakecolor": "white",
           "landcolor": "#E5ECF6",
           "showlakes": true,
           "showland": true,
           "subunitcolor": "white"
          },
          "hoverlabel": {
           "align": "left"
          },
          "hovermode": "closest",
          "mapbox": {
           "style": "light"
          },
          "paper_bgcolor": "white",
          "plot_bgcolor": "#E5ECF6",
          "polar": {
           "angularaxis": {
            "gridcolor": "white",
            "linecolor": "white",
            "ticks": ""
           },
           "bgcolor": "#E5ECF6",
           "radialaxis": {
            "gridcolor": "white",
            "linecolor": "white",
            "ticks": ""
           }
          },
          "scene": {
           "xaxis": {
            "backgroundcolor": "#E5ECF6",
            "gridcolor": "white",
            "gridwidth": 2,
            "linecolor": "white",
            "showbackground": true,
            "ticks": "",
            "zerolinecolor": "white"
           },
           "yaxis": {
            "backgroundcolor": "#E5ECF6",
            "gridcolor": "white",
            "gridwidth": 2,
            "linecolor": "white",
            "showbackground": true,
            "ticks": "",
            "zerolinecolor": "white"
           },
           "zaxis": {
            "backgroundcolor": "#E5ECF6",
            "gridcolor": "white",
            "gridwidth": 2,
            "linecolor": "white",
            "showbackground": true,
            "ticks": "",
            "zerolinecolor": "white"
           }
          },
          "shapedefaults": {
           "line": {
            "color": "#2a3f5f"
           }
          },
          "ternary": {
           "aaxis": {
            "gridcolor": "white",
            "linecolor": "white",
            "ticks": ""
           },
           "baxis": {
            "gridcolor": "white",
            "linecolor": "white",
            "ticks": ""
           },
           "bgcolor": "#E5ECF6",
           "caxis": {
            "gridcolor": "white",
            "linecolor": "white",
            "ticks": ""
           }
          },
          "title": {
           "x": 0.05
          },
          "xaxis": {
           "automargin": true,
           "gridcolor": "white",
           "linecolor": "white",
           "ticks": "",
           "title": {
            "standoff": 15
           },
           "zerolinecolor": "white",
           "zerolinewidth": 2
          },
          "yaxis": {
           "automargin": true,
           "gridcolor": "white",
           "linecolor": "white",
           "ticks": "",
           "title": {
            "standoff": 15
           },
           "zerolinecolor": "white",
           "zerolinewidth": 2
          }
         }
        },
        "xaxis": {
         "anchor": "y",
         "domain": [
          0,
          0.94
         ]
        },
        "yaxis": {
         "anchor": "x",
         "domain": [
          0,
          1
         ]
        },
        "yaxis2": {
         "anchor": "x",
         "overlaying": "y",
         "side": "right"
        }
       }
      }
     },
     "metadata": {},
     "output_type": "display_data"
    }
   ],
   "source": [
    "fig = make_subplots(specs=[[{\"secondary_y\":True}]])\n",
    "\n",
    "fig.add_trace(go.Candlestick(x = wed[\"Date\"],\n",
    "open = wed[\"Open\"]-wed[\"Open\"],\n",
    "high = wed[\"High\"]-wed[\"Open\"],\n",
    "low = wed[\"Low\"]-wed[\"Open\"],\n",
    "close = wed[\"Close\"]-wed[\"Open\"]))\n",
    "fig.show()"
   ]
  }
 ],
 "metadata": {
  "kernelspec": {
   "display_name": "data",
   "language": "python",
   "name": "python3"
  },
  "language_info": {
   "codemirror_mode": {
    "name": "ipython",
    "version": 3
   },
   "file_extension": ".py",
   "mimetype": "text/x-python",
   "name": "python",
   "nbconvert_exporter": "python",
   "pygments_lexer": "ipython3",
   "version": "3.9.0"
  },
  "orig_nbformat": 4,
  "vscode": {
   "interpreter": {
    "hash": "1af1c45f5a1bbd7af9a4c7b3b86b38fa8ba24f6604d3fdde2be72c1d174cbc17"
   }
  }
 },
 "nbformat": 4,
 "nbformat_minor": 2
}
