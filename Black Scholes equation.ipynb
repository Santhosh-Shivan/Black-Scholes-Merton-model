{
 "cells": [
  {
   "cell_type": "code",
   "execution_count": 5,
   "metadata": {},
   "outputs": [],
   "source": [
    "import numpy as np\n",
    "import matplotlib.pyplot as plt\n",
    "import math\n",
    "from scipy.stats import norm"
   ]
  },
  {
   "cell_type": "code",
   "execution_count": 143,
   "metadata": {},
   "outputs": [],
   "source": [
    "def timeInYears(timeToExpire):\n",
    "    return timeToExpire/(365*3600*24)"
   ]
  },
  {
   "cell_type": "code",
   "execution_count": 148,
   "metadata": {},
   "outputs": [],
   "source": [
    "#Input variables\n",
    "volatility = .11 #20%\n",
    "interestRate = .02 #2%\n",
    "timeToExpire = timeInYears( 86400*3)\n",
    "strikePrice = 42000\n",
    "underlyingPrice_t = 42200"
   ]
  },
  {
   "cell_type": "code",
   "execution_count": 149,
   "metadata": {},
   "outputs": [],
   "source": [
    "#def timeInYears():\n",
    "def callValue(timeToExpire, volatility, interestRate, strikePrice, underlyingPrice_t):\n",
    "    d1 = (math.log(underlyingPrice_t/strikePrice)+(interestRate+.5*(math.pow(volatility, 2)))*(timeToExpire))/(volatility*np.sqrt(timeToExpire))\n",
    "    d2 = d1 - volatility*np.sqrt(timeToExpire)\n",
    "    callPrice = underlyingPrice_t*norm.cdf(d1, 0, 1) - strikePrice*math.exp(-interestRate*(timeToExpire))*norm.cdf(d2, 0, 1)\n",
    "    return callPrice\n",
    "\n",
    "def putValue(timeToExpire, volatility, interestRate, strikePrice, underlyingPrice_t):\n",
    "    d1 = (math.log(underlyingPrice_t/strikePrice)+(interestRate+.5*(math.pow(volatility, 2)))*(timeToExpire))/(volatility*np.sqrt(timeToExpire))\n",
    "    d2 = d1 - volatility*np.sqrt(timeToExpire)\n",
    "    putPrice = strikePrice*math.exp(-interestRate*(timeToExpire))*norm.cdf(-d2, 0, 1) - underlyingPrice_t*norm.cdf(-d1, 0, 1)\n",
    "    return putPrice"
   ]
  },
  {
   "cell_type": "code",
   "execution_count": 150,
   "metadata": {},
   "outputs": [
    {
     "data": {
      "text/plain": [
       "290.8696467685695"
      ]
     },
     "execution_count": 150,
     "metadata": {},
     "output_type": "execute_result"
    }
   ],
   "source": [
    "callValue(timeToExpire, volatility, interestRate, strikePrice, underlyingPrice_t)"
   ]
  },
  {
   "cell_type": "code",
   "execution_count": 151,
   "metadata": {},
   "outputs": [
    {
     "data": {
      "text/plain": [
       "83.96610460949341"
      ]
     },
     "execution_count": 151,
     "metadata": {},
     "output_type": "execute_result"
    }
   ],
   "source": [
    "putValue(timeToExpire, volatility, interestRate, strikePrice, underlyingPrice_t)"
   ]
  },
  {
   "cell_type": "code",
   "execution_count": null,
   "metadata": {},
   "outputs": [],
   "source": []
  }
 ],
 "metadata": {
  "kernelspec": {
   "display_name": "data",
   "language": "python",
   "name": "python3"
  },
  "language_info": {
   "codemirror_mode": {
    "name": "ipython",
    "version": 3
   },
   "file_extension": ".py",
   "mimetype": "text/x-python",
   "name": "python",
   "nbconvert_exporter": "python",
   "pygments_lexer": "ipython3",
   "version": "3.9.0"
  },
  "orig_nbformat": 4,
  "vscode": {
   "interpreter": {
    "hash": "1af1c45f5a1bbd7af9a4c7b3b86b38fa8ba24f6604d3fdde2be72c1d174cbc17"
   }
  }
 },
 "nbformat": 4,
 "nbformat_minor": 2
}
